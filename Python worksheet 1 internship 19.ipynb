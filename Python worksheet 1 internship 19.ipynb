{
 "cells": [
  {
   "cell_type": "code",
   "execution_count": 119,
   "id": "7383eb45",
   "metadata": {},
   "outputs": [
    {
     "data": {
      "text/plain": [
       "0"
      ]
     },
     "execution_count": 119,
     "metadata": {},
     "output_type": "execute_result"
    }
   ],
   "source": [
    "2//3  # NORMAL DIVISION"
   ]
  },
  {
   "cell_type": "markdown",
   "id": "d1ef7ed3",
   "metadata": {},
   "source": [
    "## BITWISE OPERATORS"
   ]
  },
  {
   "cell_type": "code",
   "execution_count": 120,
   "id": "f9323948",
   "metadata": {},
   "outputs": [
    {
     "data": {
      "text/plain": [
       "2"
      ]
     },
     "execution_count": 120,
     "metadata": {},
     "output_type": "execute_result"
    }
   ],
   "source": [
    "6&2"
   ]
  },
  {
   "cell_type": "code",
   "execution_count": 121,
   "id": "3b16546b",
   "metadata": {},
   "outputs": [
    {
     "data": {
      "text/plain": [
       "6"
      ]
     },
     "execution_count": 121,
     "metadata": {},
     "output_type": "execute_result"
    }
   ],
   "source": [
    "6|2"
   ]
  },
  {
   "cell_type": "code",
   "execution_count": 122,
   "id": "a6bf7cc5",
   "metadata": {},
   "outputs": [
    {
     "data": {
      "text/plain": [
       "5"
      ]
     },
     "execution_count": 122,
     "metadata": {},
     "output_type": "execute_result"
    }
   ],
   "source": [
    "~-6"
   ]
  },
  {
   "cell_type": "code",
   "execution_count": 123,
   "id": "c162580d",
   "metadata": {},
   "outputs": [
    {
     "data": {
      "text/plain": [
       "4"
      ]
     },
     "execution_count": 123,
     "metadata": {},
     "output_type": "execute_result"
    }
   ],
   "source": [
    "6^2"
   ]
  },
  {
   "cell_type": "code",
   "execution_count": 124,
   "id": "0ce119e0",
   "metadata": {},
   "outputs": [
    {
     "data": {
      "text/plain": [
       "24"
      ]
     },
     "execution_count": 124,
     "metadata": {},
     "output_type": "execute_result"
    }
   ],
   "source": [
    "6<<2"
   ]
  },
  {
   "cell_type": "code",
   "execution_count": 125,
   "id": "27749faf",
   "metadata": {},
   "outputs": [
    {
     "data": {
      "text/plain": [
       "1"
      ]
     },
     "execution_count": 125,
     "metadata": {},
     "output_type": "execute_result"
    }
   ],
   "source": [
    "6>>2"
   ]
  },
  {
   "cell_type": "markdown",
   "id": "0fb2054f",
   "metadata": {},
   "source": [
    "Factorial num by while loop"
   ]
  },
  {
   "cell_type": "code",
   "execution_count": 126,
   "id": "7ea6dd75",
   "metadata": {},
   "outputs": [
    {
     "name": "stdout",
     "output_type": "stream",
     "text": [
      "Enter any int no:5\n",
      "factorial is  120\n"
     ]
    }
   ],
   "source": [
    "num=int(input(\"Enter any int no:\"))\n",
    "fact=1\n",
    "while (num > 1):\n",
    "    fact=num * fact\n",
    "    num = num-1\n",
    "print('factorial is ',fact)\n",
    "    "
   ]
  },
  {
   "cell_type": "code",
   "execution_count": 127,
   "id": "d3176802",
   "metadata": {},
   "outputs": [],
   "source": [
    "import math as mt # using math function"
   ]
  },
  {
   "cell_type": "code",
   "execution_count": 128,
   "id": "ec85f774",
   "metadata": {},
   "outputs": [
    {
     "data": {
      "text/plain": [
       "120"
      ]
     },
     "execution_count": 128,
     "metadata": {},
     "output_type": "execute_result"
    }
   ],
   "source": [
    "mt.factorial(5)"
   ]
  },
  {
   "cell_type": "markdown",
   "id": "1662f1aa",
   "metadata": {},
   "source": [
    "Checking the given number is prime or not"
   ]
  },
  {
   "cell_type": "code",
   "execution_count": 129,
   "id": "2274acab",
   "metadata": {},
   "outputs": [
    {
     "name": "stdout",
     "output_type": "stream",
     "text": [
      "Enter Any interger number17\n",
      "17 : Is Prime No\n"
     ]
    }
   ],
   "source": [
    "n = int(input('Enter Any interger number'))\n",
    "if n > 1: # bcs 1 is not prime or composite\n",
    "    for i in range(2,n):\n",
    "        if (n % i) == 0:\n",
    "            print(n,': Given number is not prime')\n",
    "            break\n",
    "            \n",
    "    else:\n",
    "        print(n,': Is Prime No')"
   ]
  },
  {
   "cell_type": "markdown",
   "id": "18f920f6",
   "metadata": {},
   "source": [
    "Check given String is palindrome(revesed are same)"
   ]
  },
  {
   "cell_type": "code",
   "execution_count": 130,
   "id": "591cdd09",
   "metadata": {},
   "outputs": [
    {
     "name": "stdout",
     "output_type": "stream",
     "text": [
      "Reverdes string: racecar\n",
      "Yes palidrome\n"
     ]
    }
   ],
   "source": [
    "str1='racecar'\n",
    "str2=''.join(reversed(str1))\n",
    "print('Reverdes string:',str2)\n",
    "if str1==str2:\n",
    "    print('Yes palidrome')\n",
    "else:\n",
    "    print('no')"
   ]
  },
  {
   "cell_type": "code",
   "execution_count": 131,
   "id": "50dd778b",
   "metadata": {},
   "outputs": [
    {
     "name": "stdout",
     "output_type": "stream",
     "text": [
      "ABCDEDCBA\n",
      "YES\n"
     ]
    }
   ],
   "source": [
    "s1='ABCDEDCBA'\n",
    "s2=s1[::-1]\n",
    "print(s2)\n",
    "if s1 == s2:\n",
    "    print('YES')\n",
    "else:\n",
    "    print('NO')"
   ]
  },
  {
   "cell_type": "markdown",
   "id": "c8055301",
   "metadata": {},
   "source": [
    "Calculate Right angle trianges sides"
   ]
  },
  {
   "cell_type": "code",
   "execution_count": 132,
   "id": "020368e5",
   "metadata": {},
   "outputs": [
    {
     "name": "stdout",
     "output_type": "stream",
     "text": [
      "Enter one r-triangle side: 23\n",
      "Enter second r-triangle side: 58\n",
      "Third side of right side triangle:  62.39390995922599\n"
     ]
    }
   ],
   "source": [
    "a=int(input('Enter one r-triangle side: '))\n",
    "b=int(input('Enter second r-triangle side: '))\n",
    "c=mt.sqrt((a**2)+(b**2))\n",
    "print('Third side of right side triangle: ',c)"
   ]
  },
  {
   "cell_type": "code",
   "execution_count": 133,
   "id": "84c88da1",
   "metadata": {},
   "outputs": [],
   "source": [
    "def che_frqny(str1):\n",
    "    dict={}\n",
    "    for i in str1:\n",
    "        keys=dict.keys()\n",
    "        if i in keys:\n",
    "            dict[i]+=1\n",
    "        else:\n",
    "            dict[i]=1\n",
    "    return dict    "
   ]
  },
  {
   "cell_type": "code",
   "execution_count": 134,
   "id": "94976f1c",
   "metadata": {},
   "outputs": [
    {
     "data": {
      "text/plain": [
       "{'g': 4, 'o': 4, 'l': 2, 'e': 2, ' ': 2}"
      ]
     },
     "execution_count": 134,
     "metadata": {},
     "output_type": "execute_result"
    }
   ],
   "source": [
    "che_frqny('google google ')"
   ]
  },
  {
   "cell_type": "code",
   "execution_count": null,
   "id": "a45c59a9",
   "metadata": {},
   "outputs": [],
   "source": []
  }
 ],
 "metadata": {
  "kernelspec": {
   "display_name": "Python 3",
   "language": "python",
   "name": "python3"
  },
  "language_info": {
   "codemirror_mode": {
    "name": "ipython",
    "version": 3
   },
   "file_extension": ".py",
   "mimetype": "text/x-python",
   "name": "python",
   "nbconvert_exporter": "python",
   "pygments_lexer": "ipython3",
   "version": "3.8.8"
  }
 },
 "nbformat": 4,
 "nbformat_minor": 5
}
