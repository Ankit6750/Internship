{
 "cells": [
  {
   "cell_type": "code",
   "execution_count": 1,
   "id": "0022c4f6",
   "metadata": {},
   "outputs": [],
   "source": [
    "import selenium\n",
    "import pandas as pd\n",
    "from selenium import webdriver\n",
    "from selenium.webdriver.common.keys import Keys\n",
    "import time "
   ]
  },
  {
   "cell_type": "markdown",
   "id": "4ce39e2f",
   "metadata": {},
   "source": [
    "### Answer 1 & 2"
   ]
  },
  {
   "cell_type": "code",
   "execution_count": 35,
   "id": "25cf7f30",
   "metadata": {},
   "outputs": [
    {
     "data": {
      "text/plain": [
       "<selenium.webdriver.chrome.webdriver.WebDriver (session=\"ad04d81d16f2eed332587dcccaac4862\")>"
      ]
     },
     "execution_count": 35,
     "metadata": {},
     "output_type": "execute_result"
    }
   ],
   "source": [
    "dr1=webdriver.Chrome(r'F:\\Python\\chromedriver.exe')\n",
    "dr1"
   ]
  },
  {
   "cell_type": "code",
   "execution_count": 36,
   "id": "44ec0aba",
   "metadata": {},
   "outputs": [],
   "source": [
    "u1='https://www.amazon.in/'\n",
    "dr1.get(u1)"
   ]
  },
  {
   "cell_type": "code",
   "execution_count": 37,
   "id": "a7a9379a",
   "metadata": {},
   "outputs": [
    {
     "data": {
      "text/plain": [
       "<selenium.webdriver.remote.webelement.WebElement (session=\"ad04d81d16f2eed332587dcccaac4862\", element=\"e06f2ad2-1c7d-445d-b1ca-f6c803506022\")>"
      ]
     },
     "execution_count": 37,
     "metadata": {},
     "output_type": "execute_result"
    }
   ],
   "source": [
    "sr1=dr1.find_element_by_name('field-keywords')\n",
    "sr1"
   ]
  },
  {
   "cell_type": "code",
   "execution_count": 38,
   "id": "8bc78b7a",
   "metadata": {},
   "outputs": [
    {
     "name": "stdout",
     "output_type": "stream",
     "text": [
      "Enter keywordstv\n"
     ]
    }
   ],
   "source": [
    "user_input=input('Enter keywords')"
   ]
  },
  {
   "cell_type": "code",
   "execution_count": 39,
   "id": "865b8b4e",
   "metadata": {},
   "outputs": [],
   "source": [
    "sr1.send_keys(user_input)"
   ]
  },
  {
   "cell_type": "code",
   "execution_count": 40,
   "id": "20b7bfe0",
   "metadata": {},
   "outputs": [],
   "source": [
    "btn=dr1.find_element_by_id('nav-search-submit-button')\n",
    "btn.click()"
   ]
  },
  {
   "cell_type": "code",
   "execution_count": 77,
   "id": "1ebb8d33",
   "metadata": {},
   "outputs": [
    {
     "data": {
      "text/plain": [
       "66"
      ]
     },
     "execution_count": 77,
     "metadata": {},
     "output_type": "execute_result"
    }
   ],
   "source": [
    "link=[]\n",
    "dtl=[]\n",
    "for i in range(1,4):\n",
    "    pg='https://www.amazon.in/s?k=tv&page=0'+str(i)\n",
    "    dr1.get(pg)\n",
    "    lnk=dr1.find_elements_by_xpath('//div[@class=\"sg-col sg-col-4-of-12 sg-col-8-of-16 sg-col-12-of-20\"]//h2/a')\n",
    "    for j in lnk:\n",
    "        link.append(j.get_attribute('href'))\n",
    "        dtl.append(j.text)    \n",
    "len(link)   "
   ]
  },
  {
   "cell_type": "code",
   "execution_count": 78,
   "id": "44f0f9bc",
   "metadata": {},
   "outputs": [
    {
     "data": {
      "text/plain": [
       "66"
      ]
     },
     "execution_count": 78,
     "metadata": {},
     "output_type": "execute_result"
    }
   ],
   "source": [
    "len(dtl)"
   ]
  },
  {
   "cell_type": "code",
   "execution_count": 153,
   "id": "bd03ae1a",
   "metadata": {},
   "outputs": [],
   "source": [
    "b_nam=[]\n",
    "p_nam=[]\n",
    "for i in link:\n",
    "    dr1.get(i)\n",
    "    try:\n",
    "        bnam=dr1.find_element_by_xpath('//div[@class=\"a-expander-content a-expander-section-content a-section-expander-inner\"]/table//tr[1]/td')\n",
    "        b_nam.append(bnam.text.replace('\\n',''))\n",
    "        pnam=dr1.find_element_by_xpath('//div[@class=\"a-expander-content a-expander-section-content a-section-expander-inner\"]/table//tr[3]/td')\n",
    "        p_nam.append(pnam.text)\n",
    "    except:\n",
    "        b_nam.append('--')\n",
    "        p_nam.append('--')"
   ]
  },
  {
   "cell_type": "code",
   "execution_count": 154,
   "id": "2fbf878e",
   "metadata": {},
   "outputs": [
    {
     "data": {
      "text/plain": [
       "66"
      ]
     },
     "execution_count": 154,
     "metadata": {},
     "output_type": "execute_result"
    }
   ],
   "source": [
    "len(b_nam)"
   ]
  },
  {
   "cell_type": "code",
   "execution_count": 155,
   "id": "31ff8356",
   "metadata": {},
   "outputs": [
    {
     "data": {
      "text/plain": [
       "66"
      ]
     },
     "execution_count": 155,
     "metadata": {},
     "output_type": "execute_result"
    }
   ],
   "source": [
    "len(p_nam)"
   ]
  },
  {
   "cell_type": "code",
   "execution_count": 111,
   "id": "449067a2",
   "metadata": {},
   "outputs": [],
   "source": [
    "rating=[]\n",
    "for i in link:\n",
    "    dr1.get(i)\n",
    "    try:\n",
    "        ra1=dr1.find_element_by_xpath('//span[@class=\"a-size-medium a-color-base\"]')\n",
    "        rating.append(ra1.text)\n",
    "    except:\n",
    "        rating.append('--')\n",
    "        "
   ]
  },
  {
   "cell_type": "code",
   "execution_count": 151,
   "id": "abc5894c",
   "metadata": {
    "scrolled": true
   },
   "outputs": [
    {
     "data": {
      "text/plain": [
       "66"
      ]
     },
     "execution_count": 151,
     "metadata": {},
     "output_type": "execute_result"
    }
   ],
   "source": [
    "len(rating)"
   ]
  },
  {
   "cell_type": "code",
   "execution_count": 114,
   "id": "75ba2160",
   "metadata": {},
   "outputs": [],
   "source": [
    "t_rate=[]\n",
    "pric=[]\n",
    "ex_delivery=[]\n",
    "retn=[]\n",
    "availbl=[]\n",
    "for i in link:\n",
    "    dr1.get(i)\n",
    "    try:\n",
    "        ra2=dr1.find_element_by_xpath('//div[@class=\"a-section a-spacing-none a-spacing-top-mini cr-widget-ACR\"]/div[2]/span')\n",
    "        t_rate.append(ra2.text)\n",
    "        prc=dr1.find_element_by_xpath('//td[@class=\"a-span12\"]/span[1]')\n",
    "        pric.append(prc.text)\n",
    "        exd=dr1.find_element_by_xpath('//div[@class=\"a-section a-spacing-mini\"]/b')\n",
    "        ex_delivery.append(exd.text)\n",
    "        rtn=dr1.find_element_by_xpath('//div[@class=\"a-column a-span3 a-text-center icon-container icon-grid-width celwidget\"]//a[1]')\n",
    "        retn.append(rtn.text)\n",
    "        av=dr1.find_element_by_xpath('//div[@class=\"a-section a-spacing-base }\"]/span')\n",
    "        availbl.append(av.text)\n",
    "    except:\n",
    "        t_rate.append('--')\n",
    "        pric.append('--')\n",
    "        ex_delivery.append('--')\n",
    "        retn.append('--')\n",
    "        availbl.append('--')\n"
   ]
  },
  {
   "cell_type": "code",
   "execution_count": 132,
   "id": "b6e69fbc",
   "metadata": {
    "scrolled": true
   },
   "outputs": [
    {
     "data": {
      "text/plain": [
       "66"
      ]
     },
     "execution_count": 132,
     "metadata": {},
     "output_type": "execute_result"
    }
   ],
   "source": [
    "total_rate=t_rate[:66]\n",
    "len(total_rate)"
   ]
  },
  {
   "cell_type": "code",
   "execution_count": 136,
   "id": "70e2adce",
   "metadata": {},
   "outputs": [
    {
     "data": {
      "text/plain": [
       "66"
      ]
     },
     "execution_count": 136,
     "metadata": {},
     "output_type": "execute_result"
    }
   ],
   "source": [
    "len(pric)"
   ]
  },
  {
   "cell_type": "code",
   "execution_count": 137,
   "id": "b3872463",
   "metadata": {},
   "outputs": [
    {
     "data": {
      "text/plain": [
       "66"
      ]
     },
     "execution_count": 137,
     "metadata": {},
     "output_type": "execute_result"
    }
   ],
   "source": [
    "len(ex_delivery)"
   ]
  },
  {
   "cell_type": "code",
   "execution_count": 138,
   "id": "f22ae147",
   "metadata": {},
   "outputs": [
    {
     "data": {
      "text/plain": [
       "66"
      ]
     },
     "execution_count": 138,
     "metadata": {},
     "output_type": "execute_result"
    }
   ],
   "source": [
    "len(retn)"
   ]
  },
  {
   "cell_type": "code",
   "execution_count": 139,
   "id": "6fa79c24",
   "metadata": {},
   "outputs": [
    {
     "data": {
      "text/plain": [
       "66"
      ]
     },
     "execution_count": 139,
     "metadata": {},
     "output_type": "execute_result"
    }
   ],
   "source": [
    "len(availbl)"
   ]
  },
  {
   "cell_type": "code",
   "execution_count": 156,
   "id": "2510d0f2",
   "metadata": {},
   "outputs": [],
   "source": [
    "Tv_data=pd.DataFrame({'Brand name':b_nam,'Product name':p_nam,'Rating':rating,'No.of rating':total_rate,\n",
    "                     'Price':pric,'Excpecte delivery':ex_delivery,'Return/Exchange':retn,\n",
    "                     'Product Availability':availbl,'Other detail':dtl,'Product URL':link})"
   ]
  },
  {
   "cell_type": "code",
   "execution_count": 157,
   "id": "86a75350",
   "metadata": {},
   "outputs": [
    {
     "data": {
      "text/html": [
       "<div>\n",
       "<style scoped>\n",
       "    .dataframe tbody tr th:only-of-type {\n",
       "        vertical-align: middle;\n",
       "    }\n",
       "\n",
       "    .dataframe tbody tr th {\n",
       "        vertical-align: top;\n",
       "    }\n",
       "\n",
       "    .dataframe thead th {\n",
       "        text-align: right;\n",
       "    }\n",
       "</style>\n",
       "<table border=\"1\" class=\"dataframe\">\n",
       "  <thead>\n",
       "    <tr style=\"text-align: right;\">\n",
       "      <th></th>\n",
       "      <th>Brand name</th>\n",
       "      <th>Product name</th>\n",
       "      <th>Rating</th>\n",
       "      <th>No.of rating</th>\n",
       "      <th>Price</th>\n",
       "      <th>Excpecte delivery</th>\n",
       "      <th>Return/Exchange</th>\n",
       "      <th>Product Availability</th>\n",
       "      <th>Other detail</th>\n",
       "      <th>Product URL</th>\n",
       "    </tr>\n",
       "  </thead>\n",
       "  <tbody>\n",
       "    <tr>\n",
       "      <th>0</th>\n",
       "      <td>AmazonBasics</td>\n",
       "      <td>AB32E10SS</td>\n",
       "      <td>4.1 out of 5</td>\n",
       "      <td>1,292 global ratings</td>\n",
       "      <td>₹16,999.00</td>\n",
       "      <td>Monday, Sep 27, 8AM-5PM</td>\n",
       "      <td>10 Days Replacement</td>\n",
       "      <td>In stock.</td>\n",
       "      <td>AmazonBasics 80cm (32 inch) HD Ready Smart LED...</td>\n",
       "      <td>https://www.amazon.in/gp/slredirect/picassoRed...</td>\n",
       "    </tr>\n",
       "    <tr>\n",
       "      <th>1</th>\n",
       "      <td>AmazonBasics</td>\n",
       "      <td>AB43U20PS</td>\n",
       "      <td>4.1 out of 5</td>\n",
       "      <td>1,353 global ratings</td>\n",
       "      <td>₹29,999.00</td>\n",
       "      <td>Monday, Sep 27, 8AM-5PM</td>\n",
       "      <td>10 Days Replacement</td>\n",
       "      <td>In stock.</td>\n",
       "      <td>AmazonBasics 108cm (43 inch) 4K Ultra HD Smart...</td>\n",
       "      <td>https://www.amazon.in/gp/slredirect/picassoRed...</td>\n",
       "    </tr>\n",
       "    <tr>\n",
       "      <th>2</th>\n",
       "      <td>MI</td>\n",
       "      <td>L32M5-AL</td>\n",
       "      <td>4.3 out of 5</td>\n",
       "      <td>54,551 global ratings</td>\n",
       "      <td>₹16,999.00</td>\n",
       "      <td>Friday, Sep 24, 8AM-2PM</td>\n",
       "      <td>10 Days Replacement</td>\n",
       "      <td>In stock.</td>\n",
       "      <td>Mi 80 cm (32 inches) HD Ready Android Smart LE...</td>\n",
       "      <td>https://www.amazon.in/Mi-inches-Ready-Android-...</td>\n",
       "    </tr>\n",
       "    <tr>\n",
       "      <th>3</th>\n",
       "      <td>EAirtec</td>\n",
       "      <td>24DJ</td>\n",
       "      <td>4 out of 5</td>\n",
       "      <td>5,209 global ratings</td>\n",
       "      <td>₹7,999.00</td>\n",
       "      <td>Friday, Sep 24, 8AM-2PM</td>\n",
       "      <td>10 Days Replacement</td>\n",
       "      <td>In stock.</td>\n",
       "      <td>eAirtec 61 cms (24 inches) HD Ready LED TV 24D...</td>\n",
       "      <td>https://www.amazon.in/eAirtec-inches-Ready-24D...</td>\n",
       "    </tr>\n",
       "    <tr>\n",
       "      <th>4</th>\n",
       "      <td>Samsung</td>\n",
       "      <td>UA32T4340AKXXL</td>\n",
       "      <td>4.3 out of 5</td>\n",
       "      <td>8,813 global ratings</td>\n",
       "      <td>₹18,290.00</td>\n",
       "      <td>Friday, Sep 24, 8AM-2PM</td>\n",
       "      <td>10 Days Replacement</td>\n",
       "      <td>In stock.</td>\n",
       "      <td>Samsung 80 cm (32 Inches) Wondertainment Serie...</td>\n",
       "      <td>https://www.amazon.in/Samsung-Inches-Wondertai...</td>\n",
       "    </tr>\n",
       "    <tr>\n",
       "      <th>...</th>\n",
       "      <td>...</td>\n",
       "      <td>...</td>\n",
       "      <td>...</td>\n",
       "      <td>...</td>\n",
       "      <td>...</td>\n",
       "      <td>...</td>\n",
       "      <td>...</td>\n",
       "      <td>...</td>\n",
       "      <td>...</td>\n",
       "      <td>...</td>\n",
       "    </tr>\n",
       "    <tr>\n",
       "      <th>61</th>\n",
       "      <td>LG</td>\n",
       "      <td>50UP7500PTZ</td>\n",
       "      <td>4.2 out of 5</td>\n",
       "      <td>6,404 global ratings</td>\n",
       "      <td>₹50,990.00</td>\n",
       "      <td>Friday, Sep 24, 8AM-2PM</td>\n",
       "      <td>10 Days Replacement</td>\n",
       "      <td>In stock.</td>\n",
       "      <td>LG 127 cm (50 inches) 4K Ultra HD Smart LED TV...</td>\n",
       "      <td>https://www.amazon.in/LG-inches-Ultra-Smart-50...</td>\n",
       "    </tr>\n",
       "    <tr>\n",
       "      <th>62</th>\n",
       "      <td>Samsung</td>\n",
       "      <td>UA50AUE60AKLXL</td>\n",
       "      <td>4.3 out of 5</td>\n",
       "      <td>293 global ratings</td>\n",
       "      <td>₹51,990.00</td>\n",
       "      <td>Friday, Sep 24, 8AM-2PM</td>\n",
       "      <td>10 Days Replacement</td>\n",
       "      <td>In stock.</td>\n",
       "      <td>Samsung 125 cm (50 inches) Crystal 4K Series U...</td>\n",
       "      <td>https://www.amazon.in/Samsung-inches-Crystal-U...</td>\n",
       "    </tr>\n",
       "    <tr>\n",
       "      <th>63</th>\n",
       "      <td>TCL</td>\n",
       "      <td>43P615</td>\n",
       "      <td>4.3 out of 5</td>\n",
       "      <td>2,181 global ratings</td>\n",
       "      <td>₹29,990.00</td>\n",
       "      <td>Friday, Sep 24, 8AM-2PM</td>\n",
       "      <td>10 Days Replacement</td>\n",
       "      <td>In stock.</td>\n",
       "      <td>TCL 108 cm (43 inches) 4K Ultra HD Certified A...</td>\n",
       "      <td>https://www.amazon.in/TCL-inches-Certified-And...</td>\n",
       "    </tr>\n",
       "    <tr>\n",
       "      <th>64</th>\n",
       "      <td>TOSHIBA</td>\n",
       "      <td>43U5050</td>\n",
       "      <td>4.2 out of 5</td>\n",
       "      <td>1,609 global ratings</td>\n",
       "      <td>₹28,990.00</td>\n",
       "      <td>Friday, Sep 24, 8AM-2PM</td>\n",
       "      <td>10 Days Replacement</td>\n",
       "      <td>In stock.</td>\n",
       "      <td>Toshiba 108 cm (43 inches) Vidaa OS Series 4K ...</td>\n",
       "      <td>https://www.amazon.in/gp/slredirect/picassoRed...</td>\n",
       "    </tr>\n",
       "    <tr>\n",
       "      <th>65</th>\n",
       "      <td>MI</td>\n",
       "      <td>L43M5-AN</td>\n",
       "      <td>4.3 out of 5</td>\n",
       "      <td>977 global ratings</td>\n",
       "      <td>₹26,999.00</td>\n",
       "      <td>Monday, Sep 27, 8AM-5PM</td>\n",
       "      <td>10 Days Replacement</td>\n",
       "      <td>In stock.</td>\n",
       "      <td>Mi 108 cm (43 Inches) Full HD Android Smart LE...</td>\n",
       "      <td>https://www.amazon.in/gp/slredirect/picassoRed...</td>\n",
       "    </tr>\n",
       "  </tbody>\n",
       "</table>\n",
       "<p>66 rows × 10 columns</p>\n",
       "</div>"
      ],
      "text/plain": [
       "      Brand name    Product name        Rating           No.of rating  \\\n",
       "0   AmazonBasics       AB32E10SS  4.1 out of 5   1,292 global ratings   \n",
       "1   AmazonBasics       AB43U20PS  4.1 out of 5   1,353 global ratings   \n",
       "2             MI        L32M5-AL  4.3 out of 5  54,551 global ratings   \n",
       "3        EAirtec            24DJ    4 out of 5   5,209 global ratings   \n",
       "4        Samsung  UA32T4340AKXXL  4.3 out of 5   8,813 global ratings   \n",
       "..           ...             ...           ...                    ...   \n",
       "61            LG     50UP7500PTZ  4.2 out of 5   6,404 global ratings   \n",
       "62       Samsung  UA50AUE60AKLXL  4.3 out of 5     293 global ratings   \n",
       "63           TCL          43P615  4.3 out of 5   2,181 global ratings   \n",
       "64       TOSHIBA         43U5050  4.2 out of 5   1,609 global ratings   \n",
       "65            MI        L43M5-AN  4.3 out of 5     977 global ratings   \n",
       "\n",
       "         Price        Excpecte delivery      Return/Exchange  \\\n",
       "0   ₹16,999.00  Monday, Sep 27, 8AM-5PM  10 Days Replacement   \n",
       "1   ₹29,999.00  Monday, Sep 27, 8AM-5PM  10 Days Replacement   \n",
       "2   ₹16,999.00  Friday, Sep 24, 8AM-2PM  10 Days Replacement   \n",
       "3    ₹7,999.00  Friday, Sep 24, 8AM-2PM  10 Days Replacement   \n",
       "4   ₹18,290.00  Friday, Sep 24, 8AM-2PM  10 Days Replacement   \n",
       "..         ...                      ...                  ...   \n",
       "61  ₹50,990.00  Friday, Sep 24, 8AM-2PM  10 Days Replacement   \n",
       "62  ₹51,990.00  Friday, Sep 24, 8AM-2PM  10 Days Replacement   \n",
       "63  ₹29,990.00  Friday, Sep 24, 8AM-2PM  10 Days Replacement   \n",
       "64  ₹28,990.00  Friday, Sep 24, 8AM-2PM  10 Days Replacement   \n",
       "65  ₹26,999.00  Monday, Sep 27, 8AM-5PM  10 Days Replacement   \n",
       "\n",
       "   Product Availability                                       Other detail  \\\n",
       "0             In stock.  AmazonBasics 80cm (32 inch) HD Ready Smart LED...   \n",
       "1             In stock.  AmazonBasics 108cm (43 inch) 4K Ultra HD Smart...   \n",
       "2             In stock.  Mi 80 cm (32 inches) HD Ready Android Smart LE...   \n",
       "3             In stock.  eAirtec 61 cms (24 inches) HD Ready LED TV 24D...   \n",
       "4             In stock.  Samsung 80 cm (32 Inches) Wondertainment Serie...   \n",
       "..                  ...                                                ...   \n",
       "61            In stock.  LG 127 cm (50 inches) 4K Ultra HD Smart LED TV...   \n",
       "62            In stock.  Samsung 125 cm (50 inches) Crystal 4K Series U...   \n",
       "63            In stock.  TCL 108 cm (43 inches) 4K Ultra HD Certified A...   \n",
       "64            In stock.  Toshiba 108 cm (43 inches) Vidaa OS Series 4K ...   \n",
       "65            In stock.  Mi 108 cm (43 Inches) Full HD Android Smart LE...   \n",
       "\n",
       "                                          Product URL  \n",
       "0   https://www.amazon.in/gp/slredirect/picassoRed...  \n",
       "1   https://www.amazon.in/gp/slredirect/picassoRed...  \n",
       "2   https://www.amazon.in/Mi-inches-Ready-Android-...  \n",
       "3   https://www.amazon.in/eAirtec-inches-Ready-24D...  \n",
       "4   https://www.amazon.in/Samsung-Inches-Wondertai...  \n",
       "..                                                ...  \n",
       "61  https://www.amazon.in/LG-inches-Ultra-Smart-50...  \n",
       "62  https://www.amazon.in/Samsung-inches-Crystal-U...  \n",
       "63  https://www.amazon.in/TCL-inches-Certified-And...  \n",
       "64  https://www.amazon.in/gp/slredirect/picassoRed...  \n",
       "65  https://www.amazon.in/gp/slredirect/picassoRed...  \n",
       "\n",
       "[66 rows x 10 columns]"
      ]
     },
     "execution_count": 157,
     "metadata": {},
     "output_type": "execute_result"
    }
   ],
   "source": [
    "Tv_data"
   ]
  },
  {
   "cell_type": "code",
   "execution_count": 158,
   "id": "ecb6e49b",
   "metadata": {},
   "outputs": [],
   "source": [
    "Tv_data.to_csv('Tv_data')"
   ]
  },
  {
   "cell_type": "code",
   "execution_count": 396,
   "id": "8023380d",
   "metadata": {},
   "outputs": [],
   "source": [
    "dr3=webdriver.Chrome(r'F:\\Python\\chromedriver.exe')\n",
    "u3='https://www.google.co.in/imghp?hl=en&ogbl'\n",
    "dr3.get(u3)"
   ]
  },
  {
   "cell_type": "code",
   "execution_count": 383,
   "id": "d192bcf1",
   "metadata": {},
   "outputs": [],
   "source": [
    "srch=dr3.find_element_by_name('q')"
   ]
  },
  {
   "cell_type": "code",
   "execution_count": 384,
   "id": "210d8d38",
   "metadata": {},
   "outputs": [],
   "source": [
    "srch.send_keys('fruits')"
   ]
  },
  {
   "cell_type": "code",
   "execution_count": 385,
   "id": "61385e4d",
   "metadata": {},
   "outputs": [],
   "source": [
    "btn=dr3.find_element_by_xpath('//button[@class=\"Tg7LZd\"]').click()"
   ]
  },
  {
   "cell_type": "code",
   "execution_count": 369,
   "id": "e12a5414",
   "metadata": {},
   "outputs": [
    {
     "data": {
      "text/plain": [
       "200"
      ]
     },
     "execution_count": 369,
     "metadata": {},
     "output_type": "execute_result"
    }
   ],
   "source": [
    "cars=[]\n",
    "cr=dr3.find_elements_by_xpath('//a[@class=\"wXeWr islib nfEiy\"]//img')\n",
    "for i in cr:\n",
    "    cars.append(i.get_attribute('src'))\n",
    "len(cars)    "
   ]
  },
  {
   "cell_type": "code",
   "execution_count": 371,
   "id": "c1f9af25",
   "metadata": {},
   "outputs": [],
   "source": [
    "cars=cars[:100]"
   ]
  },
  {
   "cell_type": "code",
   "execution_count": 374,
   "id": "e4e9ff68",
   "metadata": {},
   "outputs": [
    {
     "data": {
      "text/html": [
       "<div>\n",
       "<style scoped>\n",
       "    .dataframe tbody tr th:only-of-type {\n",
       "        vertical-align: middle;\n",
       "    }\n",
       "\n",
       "    .dataframe tbody tr th {\n",
       "        vertical-align: top;\n",
       "    }\n",
       "\n",
       "    .dataframe thead th {\n",
       "        text-align: right;\n",
       "    }\n",
       "</style>\n",
       "<table border=\"1\" class=\"dataframe\">\n",
       "  <thead>\n",
       "    <tr style=\"text-align: right;\">\n",
       "      <th></th>\n",
       "      <th>Cars images</th>\n",
       "    </tr>\n",
       "  </thead>\n",
       "  <tbody>\n",
       "    <tr>\n",
       "      <th>0</th>\n",
       "      <td>data:image/jpeg;base64,/9j/4AAQSkZJRgABAQAAAQA...</td>\n",
       "    </tr>\n",
       "    <tr>\n",
       "      <th>1</th>\n",
       "      <td>data:image/jpeg;base64,/9j/4AAQSkZJRgABAQAAAQA...</td>\n",
       "    </tr>\n",
       "    <tr>\n",
       "      <th>2</th>\n",
       "      <td>data:image/jpeg;base64,/9j/4AAQSkZJRgABAQAAAQA...</td>\n",
       "    </tr>\n",
       "    <tr>\n",
       "      <th>3</th>\n",
       "      <td>data:image/jpeg;base64,/9j/4AAQSkZJRgABAQAAAQA...</td>\n",
       "    </tr>\n",
       "    <tr>\n",
       "      <th>4</th>\n",
       "      <td>data:image/jpeg;base64,/9j/4AAQSkZJRgABAQAAAQA...</td>\n",
       "    </tr>\n",
       "    <tr>\n",
       "      <th>...</th>\n",
       "      <td>...</td>\n",
       "    </tr>\n",
       "    <tr>\n",
       "      <th>95</th>\n",
       "      <td>https://encrypted-tbn0.gstatic.com/images?q=tb...</td>\n",
       "    </tr>\n",
       "    <tr>\n",
       "      <th>96</th>\n",
       "      <td>https://encrypted-tbn0.gstatic.com/images?q=tb...</td>\n",
       "    </tr>\n",
       "    <tr>\n",
       "      <th>97</th>\n",
       "      <td>https://encrypted-tbn0.gstatic.com/images?q=tb...</td>\n",
       "    </tr>\n",
       "    <tr>\n",
       "      <th>98</th>\n",
       "      <td>https://encrypted-tbn0.gstatic.com/images?q=tb...</td>\n",
       "    </tr>\n",
       "    <tr>\n",
       "      <th>99</th>\n",
       "      <td>https://encrypted-tbn0.gstatic.com/images?q=tb...</td>\n",
       "    </tr>\n",
       "  </tbody>\n",
       "</table>\n",
       "<p>100 rows × 1 columns</p>\n",
       "</div>"
      ],
      "text/plain": [
       "                                          Cars images\n",
       "0   data:image/jpeg;base64,/9j/4AAQSkZJRgABAQAAAQA...\n",
       "1   data:image/jpeg;base64,/9j/4AAQSkZJRgABAQAAAQA...\n",
       "2   data:image/jpeg;base64,/9j/4AAQSkZJRgABAQAAAQA...\n",
       "3   data:image/jpeg;base64,/9j/4AAQSkZJRgABAQAAAQA...\n",
       "4   data:image/jpeg;base64,/9j/4AAQSkZJRgABAQAAAQA...\n",
       "..                                                ...\n",
       "95  https://encrypted-tbn0.gstatic.com/images?q=tb...\n",
       "96  https://encrypted-tbn0.gstatic.com/images?q=tb...\n",
       "97  https://encrypted-tbn0.gstatic.com/images?q=tb...\n",
       "98  https://encrypted-tbn0.gstatic.com/images?q=tb...\n",
       "99  https://encrypted-tbn0.gstatic.com/images?q=tb...\n",
       "\n",
       "[100 rows x 1 columns]"
      ]
     },
     "execution_count": 374,
     "metadata": {},
     "output_type": "execute_result"
    }
   ],
   "source": [
    "cars_img=pd.DataFrame({'Cars images':cars})\n",
    "cars_img"
   ]
  },
  {
   "cell_type": "code",
   "execution_count": 386,
   "id": "fbb71bab",
   "metadata": {},
   "outputs": [
    {
     "data": {
      "text/plain": [
       "200"
      ]
     },
     "execution_count": 386,
     "metadata": {},
     "output_type": "execute_result"
    }
   ],
   "source": [
    "fruits=[]\n",
    "fr=dr3.find_elements_by_xpath('//a[@class=\"wXeWr islib nfEiy\"]//img')\n",
    "for i in fr:\n",
    "    fruits.append(i.get_attribute('src'))\n",
    "len(fruits)"
   ]
  },
  {
   "cell_type": "code",
   "execution_count": 387,
   "id": "10981693",
   "metadata": {},
   "outputs": [],
   "source": [
    "fruits=fruits[:100]"
   ]
  },
  {
   "cell_type": "code",
   "execution_count": 388,
   "id": "ec6167e5",
   "metadata": {},
   "outputs": [
    {
     "data": {
      "text/html": [
       "<div>\n",
       "<style scoped>\n",
       "    .dataframe tbody tr th:only-of-type {\n",
       "        vertical-align: middle;\n",
       "    }\n",
       "\n",
       "    .dataframe tbody tr th {\n",
       "        vertical-align: top;\n",
       "    }\n",
       "\n",
       "    .dataframe thead th {\n",
       "        text-align: right;\n",
       "    }\n",
       "</style>\n",
       "<table border=\"1\" class=\"dataframe\">\n",
       "  <thead>\n",
       "    <tr style=\"text-align: right;\">\n",
       "      <th></th>\n",
       "      <th>Fruits images</th>\n",
       "    </tr>\n",
       "  </thead>\n",
       "  <tbody>\n",
       "    <tr>\n",
       "      <th>0</th>\n",
       "      <td>data:image/jpeg;base64,/9j/4AAQSkZJRgABAQAAAQA...</td>\n",
       "    </tr>\n",
       "    <tr>\n",
       "      <th>1</th>\n",
       "      <td>data:image/jpeg;base64,/9j/4AAQSkZJRgABAQAAAQA...</td>\n",
       "    </tr>\n",
       "    <tr>\n",
       "      <th>2</th>\n",
       "      <td>data:image/jpeg;base64,/9j/4AAQSkZJRgABAQAAAQA...</td>\n",
       "    </tr>\n",
       "    <tr>\n",
       "      <th>3</th>\n",
       "      <td>data:image/jpeg;base64,/9j/4AAQSkZJRgABAQAAAQA...</td>\n",
       "    </tr>\n",
       "    <tr>\n",
       "      <th>4</th>\n",
       "      <td>data:image/jpeg;base64,/9j/4AAQSkZJRgABAQAAAQA...</td>\n",
       "    </tr>\n",
       "    <tr>\n",
       "      <th>...</th>\n",
       "      <td>...</td>\n",
       "    </tr>\n",
       "    <tr>\n",
       "      <th>95</th>\n",
       "      <td>https://encrypted-tbn0.gstatic.com/images?q=tb...</td>\n",
       "    </tr>\n",
       "    <tr>\n",
       "      <th>96</th>\n",
       "      <td>https://encrypted-tbn0.gstatic.com/images?q=tb...</td>\n",
       "    </tr>\n",
       "    <tr>\n",
       "      <th>97</th>\n",
       "      <td>https://encrypted-tbn0.gstatic.com/images?q=tb...</td>\n",
       "    </tr>\n",
       "    <tr>\n",
       "      <th>98</th>\n",
       "      <td>https://encrypted-tbn0.gstatic.com/images?q=tb...</td>\n",
       "    </tr>\n",
       "    <tr>\n",
       "      <th>99</th>\n",
       "      <td>https://encrypted-tbn0.gstatic.com/images?q=tb...</td>\n",
       "    </tr>\n",
       "  </tbody>\n",
       "</table>\n",
       "<p>100 rows × 1 columns</p>\n",
       "</div>"
      ],
      "text/plain": [
       "                                        Fruits images\n",
       "0   data:image/jpeg;base64,/9j/4AAQSkZJRgABAQAAAQA...\n",
       "1   data:image/jpeg;base64,/9j/4AAQSkZJRgABAQAAAQA...\n",
       "2   data:image/jpeg;base64,/9j/4AAQSkZJRgABAQAAAQA...\n",
       "3   data:image/jpeg;base64,/9j/4AAQSkZJRgABAQAAAQA...\n",
       "4   data:image/jpeg;base64,/9j/4AAQSkZJRgABAQAAAQA...\n",
       "..                                                ...\n",
       "95  https://encrypted-tbn0.gstatic.com/images?q=tb...\n",
       "96  https://encrypted-tbn0.gstatic.com/images?q=tb...\n",
       "97  https://encrypted-tbn0.gstatic.com/images?q=tb...\n",
       "98  https://encrypted-tbn0.gstatic.com/images?q=tb...\n",
       "99  https://encrypted-tbn0.gstatic.com/images?q=tb...\n",
       "\n",
       "[100 rows x 1 columns]"
      ]
     },
     "execution_count": 388,
     "metadata": {},
     "output_type": "execute_result"
    }
   ],
   "source": [
    "fruits_img=pd.DataFrame({'Fruits images':fruits})\n",
    "fruits_img"
   ]
  },
  {
   "cell_type": "code",
   "execution_count": 397,
   "id": "3f04d23e",
   "metadata": {},
   "outputs": [],
   "source": [
    "srch=dr3.find_element_by_name('q')\n",
    "srch.send_keys('Machine learning')\n",
    "btn=dr3.find_element_by_xpath('//button[@class=\"Tg7LZd\"]').click()"
   ]
  },
  {
   "cell_type": "code",
   "execution_count": 400,
   "id": "e8383c87",
   "metadata": {},
   "outputs": [
    {
     "data": {
      "text/plain": [
       "200"
      ]
     },
     "execution_count": 400,
     "metadata": {},
     "output_type": "execute_result"
    }
   ],
   "source": [
    "machine=[]\n",
    "ml=dr3.find_elements_by_xpath('//a[@class=\"wXeWr islib nfEiy\"]//img')\n",
    "for i in ml:\n",
    "    machine.append(i.get_attribute('src'))\n",
    "len(machine)"
   ]
  },
  {
   "cell_type": "code",
   "execution_count": 402,
   "id": "6ba6e9c9",
   "metadata": {},
   "outputs": [],
   "source": [
    "machine=machine[:100]"
   ]
  },
  {
   "cell_type": "code",
   "execution_count": 403,
   "id": "695ac591",
   "metadata": {},
   "outputs": [
    {
     "data": {
      "text/html": [
       "<div>\n",
       "<style scoped>\n",
       "    .dataframe tbody tr th:only-of-type {\n",
       "        vertical-align: middle;\n",
       "    }\n",
       "\n",
       "    .dataframe tbody tr th {\n",
       "        vertical-align: top;\n",
       "    }\n",
       "\n",
       "    .dataframe thead th {\n",
       "        text-align: right;\n",
       "    }\n",
       "</style>\n",
       "<table border=\"1\" class=\"dataframe\">\n",
       "  <thead>\n",
       "    <tr style=\"text-align: right;\">\n",
       "      <th></th>\n",
       "      <th>Machine learning</th>\n",
       "    </tr>\n",
       "  </thead>\n",
       "  <tbody>\n",
       "    <tr>\n",
       "      <th>0</th>\n",
       "      <td>data:image/jpeg;base64,/9j/4AAQSkZJRgABAQAAAQA...</td>\n",
       "    </tr>\n",
       "    <tr>\n",
       "      <th>1</th>\n",
       "      <td>data:image/jpeg;base64,/9j/4AAQSkZJRgABAQAAAQA...</td>\n",
       "    </tr>\n",
       "    <tr>\n",
       "      <th>2</th>\n",
       "      <td>data:image/jpeg;base64,/9j/4AAQSkZJRgABAQAAAQA...</td>\n",
       "    </tr>\n",
       "    <tr>\n",
       "      <th>3</th>\n",
       "      <td>data:image/jpeg;base64,/9j/4AAQSkZJRgABAQAAAQA...</td>\n",
       "    </tr>\n",
       "    <tr>\n",
       "      <th>4</th>\n",
       "      <td>data:image/jpeg;base64,/9j/4AAQSkZJRgABAQAAAQA...</td>\n",
       "    </tr>\n",
       "    <tr>\n",
       "      <th>...</th>\n",
       "      <td>...</td>\n",
       "    </tr>\n",
       "    <tr>\n",
       "      <th>95</th>\n",
       "      <td>https://encrypted-tbn0.gstatic.com/images?q=tb...</td>\n",
       "    </tr>\n",
       "    <tr>\n",
       "      <th>96</th>\n",
       "      <td>https://encrypted-tbn0.gstatic.com/images?q=tb...</td>\n",
       "    </tr>\n",
       "    <tr>\n",
       "      <th>97</th>\n",
       "      <td>https://encrypted-tbn0.gstatic.com/images?q=tb...</td>\n",
       "    </tr>\n",
       "    <tr>\n",
       "      <th>98</th>\n",
       "      <td>https://encrypted-tbn0.gstatic.com/images?q=tb...</td>\n",
       "    </tr>\n",
       "    <tr>\n",
       "      <th>99</th>\n",
       "      <td>https://encrypted-tbn0.gstatic.com/images?q=tb...</td>\n",
       "    </tr>\n",
       "  </tbody>\n",
       "</table>\n",
       "<p>100 rows × 1 columns</p>\n",
       "</div>"
      ],
      "text/plain": [
       "                                     Machine learning\n",
       "0   data:image/jpeg;base64,/9j/4AAQSkZJRgABAQAAAQA...\n",
       "1   data:image/jpeg;base64,/9j/4AAQSkZJRgABAQAAAQA...\n",
       "2   data:image/jpeg;base64,/9j/4AAQSkZJRgABAQAAAQA...\n",
       "3   data:image/jpeg;base64,/9j/4AAQSkZJRgABAQAAAQA...\n",
       "4   data:image/jpeg;base64,/9j/4AAQSkZJRgABAQAAAQA...\n",
       "..                                                ...\n",
       "95  https://encrypted-tbn0.gstatic.com/images?q=tb...\n",
       "96  https://encrypted-tbn0.gstatic.com/images?q=tb...\n",
       "97  https://encrypted-tbn0.gstatic.com/images?q=tb...\n",
       "98  https://encrypted-tbn0.gstatic.com/images?q=tb...\n",
       "99  https://encrypted-tbn0.gstatic.com/images?q=tb...\n",
       "\n",
       "[100 rows x 1 columns]"
      ]
     },
     "execution_count": 403,
     "metadata": {},
     "output_type": "execute_result"
    }
   ],
   "source": [
    "ML_img=pd.DataFrame({'Machine learning':machine})\n",
    "ML_img"
   ]
  },
  {
   "cell_type": "markdown",
   "id": "8b6cda9b",
   "metadata": {},
   "source": [
    "### Answer 4"
   ]
  },
  {
   "cell_type": "code",
   "execution_count": 334,
   "id": "6bd4e754",
   "metadata": {},
   "outputs": [
    {
     "data": {
      "text/plain": [
       "<selenium.webdriver.chrome.webdriver.WebDriver (session=\"b58869f6b89899ae36d2878323e1dd85\")>"
      ]
     },
     "execution_count": 334,
     "metadata": {},
     "output_type": "execute_result"
    }
   ],
   "source": [
    "dr3=webdriver.Chrome(r'F:\\Python\\chromedriver.exe')\n",
    "dr3"
   ]
  },
  {
   "cell_type": "code",
   "execution_count": 335,
   "id": "67ab4d43",
   "metadata": {},
   "outputs": [],
   "source": [
    "u2='https://www.flipkart.com/'\n",
    "dr3.get(u2)\n"
   ]
  },
  {
   "cell_type": "code",
   "execution_count": 336,
   "id": "9ee8c90e",
   "metadata": {
    "scrolled": true
   },
   "outputs": [],
   "source": [
    "sr1=dr3.find_element_by_name('q')\n",
    "sr1.send_keys('reno 6 pro')"
   ]
  },
  {
   "cell_type": "code",
   "execution_count": 337,
   "id": "4c8bfd2c",
   "metadata": {},
   "outputs": [],
   "source": [
    "btn=dr3.find_element_by_xpath('//button[@class=\"L0Z3Pu\"]')\n",
    "btn.click()"
   ]
  },
  {
   "cell_type": "code",
   "execution_count": 342,
   "id": "6ce1087f",
   "metadata": {},
   "outputs": [
    {
     "data": {
      "text/plain": [
       "14"
      ]
     },
     "execution_count": 342,
     "metadata": {},
     "output_type": "execute_result"
    }
   ],
   "source": [
    "b_n=[]\n",
    "b=dr3.find_elements_by_xpath('//div[@class=\"_4rR01T\"]')\n",
    "for i in b:\n",
    "    b_n.append(i.text[:5])\n",
    "len(b_n)    "
   ]
  },
  {
   "cell_type": "code",
   "execution_count": 344,
   "id": "ca617e93",
   "metadata": {},
   "outputs": [
    {
     "data": {
      "text/plain": [
       "14"
      ]
     },
     "execution_count": 344,
     "metadata": {},
     "output_type": "execute_result"
    }
   ],
   "source": [
    "link=[]\n",
    "ln=dr3.find_elements_by_xpath('//a[@class=\"_1fQZEK\"]')\n",
    "for i in ln:\n",
    "    link.append(i.get_attribute('href'))\n",
    "len(link)    "
   ]
  },
  {
   "cell_type": "code",
   "execution_count": 348,
   "id": "88fca4c3",
   "metadata": {},
   "outputs": [],
   "source": [
    "mn=[]\n",
    "clr=[]\n",
    "prc=[]\n",
    "for i in link:\n",
    "    dr3.get(i)\n",
    "    try:\n",
    "        m=dr3.find_element_by_xpath('//div[@class=\"_1AtVbE col-12-12\"]//table[1]//tr[3]/td[2]//li')\n",
    "        mn.append(m.text)\n",
    "        c=dr3.find_element_by_xpath('//div[@class=\"_1AtVbE col-12-12\"]//table[1]//tr[4]/td[2]//li')\n",
    "        clr.append(c.text)\n",
    "        pr=dr3.find_element_by_xpath('//div[@class=\"_30jeq3 _16Jk6d\"]')\n",
    "        prc.append(pr.text)\n",
    "    except:\n",
    "        mn.append('--')\n",
    "        clr.append('--')\n",
    "        prc.append('--')"
   ]
  },
  {
   "cell_type": "code",
   "execution_count": 349,
   "id": "142ca6c2",
   "metadata": {},
   "outputs": [
    {
     "data": {
      "text/plain": [
       "14"
      ]
     },
     "execution_count": 349,
     "metadata": {},
     "output_type": "execute_result"
    }
   ],
   "source": [
    "len(mn)"
   ]
  },
  {
   "cell_type": "code",
   "execution_count": 350,
   "id": "60c2ee16",
   "metadata": {},
   "outputs": [
    {
     "data": {
      "text/plain": [
       "14"
      ]
     },
     "execution_count": 350,
     "metadata": {},
     "output_type": "execute_result"
    }
   ],
   "source": [
    "len(clr)"
   ]
  },
  {
   "cell_type": "code",
   "execution_count": 351,
   "id": "047675c8",
   "metadata": {},
   "outputs": [
    {
     "data": {
      "text/plain": [
       "14"
      ]
     },
     "execution_count": 351,
     "metadata": {},
     "output_type": "execute_result"
    }
   ],
   "source": [
    "len(prc)"
   ]
  },
  {
   "cell_type": "code",
   "execution_count": 353,
   "id": "75f5cd1f",
   "metadata": {},
   "outputs": [],
   "source": [
    "dis=[]\n",
    "res=[]\n",
    "pros_type=[]\n",
    "pros_core=[]\n",
    "rom=[]\n",
    "ram=[]\n",
    "pr_cam=[]\n",
    "sec_cam=[]\n",
    "battery=[]\n",
    "for i in link:\n",
    "    dr3.get(i)\n",
    "    dr3.find_element_by_xpath(\"//button[@class='_2KpZ6l _1FH0tX']\").click()\n",
    "    time.sleep(1)\n",
    "    model=dr3.find_elements_by_xpath(\"//tr[@class='_1s_Smc row']\")\n",
    "    for n in model:\n",
    "        text1=n.find_element_by_xpath(\"td[1]\").text\n",
    "        if text1=='Display Size':\n",
    "            dis.append(n.find_element_by_xpath(\"td[2]\").text)\n",
    "        if text1 == 'Resolution':\n",
    "            res.append(n.find_element_by_xpath(\"td[2]\").text)\n",
    "        try:   \n",
    "            if text1== 'Processor Type':\n",
    "                pros_type.append(n.find_element_by_xpath(\"td[2]\").text)\n",
    "        except:\n",
    "                pros_type.append('--')            \n",
    "        if text1 == 'Processor Core':\n",
    "            pros_core.append(n.find_element_by_xpath(\"td[2]\").text)\n",
    "        if text1 == 'Internal Storage':\n",
    "            rom.append(n.find_element_by_xpath(\"td[2]\").text)\n",
    "        if text1 == 'RAM':\n",
    "            ram.append(n.find_element_by_xpath(\"td[2]\").text)\n",
    "        if text1 == 'Battery Capacity':\n",
    "            battery.append(n.find_element_by_xpath(\"td[2]\").text)\n",
    "        if text1 == 'Primary Camera':\n",
    "            pr_cam.append(n.find_element_by_xpath(\"td[2]\").text)\n",
    "        if text1 == 'Secondary Camera':\n",
    "            sec_cam.append(n.find_element_by_xpath(\"td[2]\").text)      "
   ]
  },
  {
   "cell_type": "code",
   "execution_count": 354,
   "id": "18739e54",
   "metadata": {},
   "outputs": [
    {
     "name": "stdout",
     "output_type": "stream",
     "text": [
      "14\n",
      "14\n",
      "14\n",
      "14\n",
      "14\n",
      "14\n",
      "14\n",
      "14\n",
      "14\n"
     ]
    }
   ],
   "source": [
    "print(len(dis))\n",
    "print(len(res))\n",
    "print(len(pros_type))\n",
    "print(len(pros_core))\n",
    "print(len(rom))\n",
    "print(len(ram))\n",
    "print(len(pr_cam))\n",
    "print(len(sec_cam))\n",
    "print(len(battery))"
   ]
  },
  {
   "cell_type": "code",
   "execution_count": 355,
   "id": "853f040f",
   "metadata": {},
   "outputs": [],
   "source": [
    "Mobile_data=pd.DataFrame({'Brand Name':b_n,'Product name':mn,'Color':clr,'Price':prc,'Display Size':dis,\n",
    "                         'Display resolution':res,'Processor Type':pros_type,'Processor core':pros_core,\n",
    "                         'RAM':ram,'ROM':rom,'Primary camera':pr_cam,'Secondary camera':pr_cam,\n",
    "                         'Battery life':battery,'Product URL':link})"
   ]
  },
  {
   "cell_type": "code",
   "execution_count": 356,
   "id": "88a39831",
   "metadata": {},
   "outputs": [
    {
     "data": {
      "text/html": [
       "<div>\n",
       "<style scoped>\n",
       "    .dataframe tbody tr th:only-of-type {\n",
       "        vertical-align: middle;\n",
       "    }\n",
       "\n",
       "    .dataframe tbody tr th {\n",
       "        vertical-align: top;\n",
       "    }\n",
       "\n",
       "    .dataframe thead th {\n",
       "        text-align: right;\n",
       "    }\n",
       "</style>\n",
       "<table border=\"1\" class=\"dataframe\">\n",
       "  <thead>\n",
       "    <tr style=\"text-align: right;\">\n",
       "      <th></th>\n",
       "      <th>Brand Name</th>\n",
       "      <th>Product name</th>\n",
       "      <th>Color</th>\n",
       "      <th>Price</th>\n",
       "      <th>Display Size</th>\n",
       "      <th>Display resolution</th>\n",
       "      <th>Processor Type</th>\n",
       "      <th>Processor core</th>\n",
       "      <th>RAM</th>\n",
       "      <th>ROM</th>\n",
       "      <th>Primary camera</th>\n",
       "      <th>Secondary camera</th>\n",
       "      <th>Battery life</th>\n",
       "      <th>Product URL</th>\n",
       "    </tr>\n",
       "  </thead>\n",
       "  <tbody>\n",
       "    <tr>\n",
       "      <th>0</th>\n",
       "      <td>OPPO</td>\n",
       "      <td>Reno6 Pro 5G</td>\n",
       "      <td>Stellar Black</td>\n",
       "      <td>₹39,990</td>\n",
       "      <td>16.64 cm (6.55 inch)</td>\n",
       "      <td>2400 x 1080 Pixels</td>\n",
       "      <td>MediaTek Dimensity 1200</td>\n",
       "      <td>Octa Core</td>\n",
       "      <td>12 GB</td>\n",
       "      <td>256 GB</td>\n",
       "      <td>64MP + 8MP + 2MP + 2MP</td>\n",
       "      <td>64MP + 8MP + 2MP + 2MP</td>\n",
       "      <td>4500 mAh</td>\n",
       "      <td>https://www.flipkart.com/oppo-reno6-pro-5g-ste...</td>\n",
       "    </tr>\n",
       "    <tr>\n",
       "      <th>1</th>\n",
       "      <td>OPPO</td>\n",
       "      <td>Reno6 Pro 5G</td>\n",
       "      <td>Aurora</td>\n",
       "      <td>₹39,990</td>\n",
       "      <td>16.64 cm (6.55 inch)</td>\n",
       "      <td>2400 x 1080 Pixels</td>\n",
       "      <td>MediaTek Dimensity 1200</td>\n",
       "      <td>Octa Core</td>\n",
       "      <td>12 GB</td>\n",
       "      <td>256 GB</td>\n",
       "      <td>64MP + 8MP + 2MP + 2MP</td>\n",
       "      <td>64MP + 8MP + 2MP + 2MP</td>\n",
       "      <td>4500 mAh</td>\n",
       "      <td>https://www.flipkart.com/oppo-reno6-pro-5g-aur...</td>\n",
       "    </tr>\n",
       "    <tr>\n",
       "      <th>2</th>\n",
       "      <td>OPPO</td>\n",
       "      <td>Reno5 Pro 5G</td>\n",
       "      <td>Astral Blue</td>\n",
       "      <td>₹35,990</td>\n",
       "      <td>16.64 cm (6.55 inch)</td>\n",
       "      <td>2400 x 1080 Pixels</td>\n",
       "      <td>MediaTek Dimensity 1000+ (MT6889)</td>\n",
       "      <td>Octa Core</td>\n",
       "      <td>8 GB</td>\n",
       "      <td>128 GB</td>\n",
       "      <td>64MP + 8MP + 2MP + 2MP</td>\n",
       "      <td>64MP + 8MP + 2MP + 2MP</td>\n",
       "      <td>4350 mAh</td>\n",
       "      <td>https://www.flipkart.com/oppo-reno5-pro-5g-ast...</td>\n",
       "    </tr>\n",
       "    <tr>\n",
       "      <th>3</th>\n",
       "      <td>OPPO</td>\n",
       "      <td>Reno4 Pro</td>\n",
       "      <td>Silky White</td>\n",
       "      <td>₹34,990</td>\n",
       "      <td>16.51 cm (6.5 inch)</td>\n",
       "      <td>2400 x 1080 Pixels</td>\n",
       "      <td>Qualcomm Snapdragon 720G Octa Core</td>\n",
       "      <td>Octa Core</td>\n",
       "      <td>8 GB</td>\n",
       "      <td>128 GB</td>\n",
       "      <td>48MP + 8MP + 2MP + 2MP</td>\n",
       "      <td>48MP + 8MP + 2MP + 2MP</td>\n",
       "      <td>4000 mAh</td>\n",
       "      <td>https://www.flipkart.com/oppo-reno4-pro-silky-...</td>\n",
       "    </tr>\n",
       "    <tr>\n",
       "      <th>4</th>\n",
       "      <td>OPPO</td>\n",
       "      <td>Reno3 Pro</td>\n",
       "      <td>Auroral Blue</td>\n",
       "      <td>₹25,959</td>\n",
       "      <td>16.26 cm (6.4 inch)</td>\n",
       "      <td>2400 x 1080 Pixels</td>\n",
       "      <td>MediaTek Helio P95</td>\n",
       "      <td>Octa Core</td>\n",
       "      <td>8 GB</td>\n",
       "      <td>256 GB</td>\n",
       "      <td>64MP + 13MP + 8MP + 2MP</td>\n",
       "      <td>64MP + 13MP + 8MP + 2MP</td>\n",
       "      <td>4025 mAh</td>\n",
       "      <td>https://www.flipkart.com/oppo-reno3-pro-aurora...</td>\n",
       "    </tr>\n",
       "    <tr>\n",
       "      <th>5</th>\n",
       "      <td>OPPO</td>\n",
       "      <td>Reno3 Pro</td>\n",
       "      <td>Sky White</td>\n",
       "      <td>₹24,728</td>\n",
       "      <td>16.26 cm (6.4 inch)</td>\n",
       "      <td>2400 x 1080 Pixels</td>\n",
       "      <td>MediaTek Helio P95</td>\n",
       "      <td>Octa Core</td>\n",
       "      <td>8 GB</td>\n",
       "      <td>128 GB</td>\n",
       "      <td>64MP + 13MP + 8MP + 2MP</td>\n",
       "      <td>64MP + 13MP + 8MP + 2MP</td>\n",
       "      <td>4025 mAh</td>\n",
       "      <td>https://www.flipkart.com/oppo-reno3-pro-sky-wh...</td>\n",
       "    </tr>\n",
       "    <tr>\n",
       "      <th>6</th>\n",
       "      <td>OPPO</td>\n",
       "      <td>Reno3 Pro</td>\n",
       "      <td>Midnight Black</td>\n",
       "      <td>₹26,649</td>\n",
       "      <td>16.26 cm (6.4 inch)</td>\n",
       "      <td>2400 x 1080 Pixels</td>\n",
       "      <td>MediaTek Helio P95</td>\n",
       "      <td>Octa Core</td>\n",
       "      <td>8 GB</td>\n",
       "      <td>256 GB</td>\n",
       "      <td>64MP + 13MP + 8MP + 2MP</td>\n",
       "      <td>64MP + 13MP + 8MP + 2MP</td>\n",
       "      <td>4025 mAh</td>\n",
       "      <td>https://www.flipkart.com/oppo-reno3-pro-midnig...</td>\n",
       "    </tr>\n",
       "    <tr>\n",
       "      <th>7</th>\n",
       "      <td>OPPO</td>\n",
       "      <td>Reno5 Pro 5G</td>\n",
       "      <td>Starry Black</td>\n",
       "      <td>₹35,990</td>\n",
       "      <td>16.64 cm (6.55 inch)</td>\n",
       "      <td>2400 x 1080 Pixels</td>\n",
       "      <td>MediaTek Dimensity 1000+ (MT6889)</td>\n",
       "      <td>Octa Core</td>\n",
       "      <td>8 GB</td>\n",
       "      <td>128 GB</td>\n",
       "      <td>64MP + 8MP + 2MP + 2MP</td>\n",
       "      <td>64MP + 8MP + 2MP + 2MP</td>\n",
       "      <td>4350 mAh</td>\n",
       "      <td>https://www.flipkart.com/oppo-reno5-pro-5g-sta...</td>\n",
       "    </tr>\n",
       "    <tr>\n",
       "      <th>8</th>\n",
       "      <td>OPPO</td>\n",
       "      <td>Reno4 Pro Special Edition</td>\n",
       "      <td>Galactic Blue</td>\n",
       "      <td>₹34,990</td>\n",
       "      <td>16.51 cm (6.5 inch)</td>\n",
       "      <td>2400 x 1080 Pixels</td>\n",
       "      <td>Qualcomm Snapdragon 720G Octa Core</td>\n",
       "      <td>Octa Core</td>\n",
       "      <td>8 GB</td>\n",
       "      <td>128 GB</td>\n",
       "      <td>48MP + 8MP + 2MP + 2MP</td>\n",
       "      <td>48MP + 8MP + 2MP + 2MP</td>\n",
       "      <td>4000 mAh</td>\n",
       "      <td>https://www.flipkart.com/oppo-reno4-pro-specia...</td>\n",
       "    </tr>\n",
       "    <tr>\n",
       "      <th>9</th>\n",
       "      <td>OPPO</td>\n",
       "      <td>Reno3 Pro</td>\n",
       "      <td>Midnight Black</td>\n",
       "      <td>₹24,799</td>\n",
       "      <td>16.26 cm (6.4 inch)</td>\n",
       "      <td>2400 x 1080 Pixels</td>\n",
       "      <td>MediaTek Helio P95</td>\n",
       "      <td>Octa Core</td>\n",
       "      <td>8 GB</td>\n",
       "      <td>128 GB</td>\n",
       "      <td>64MP + 13MP + 8MP + 2MP</td>\n",
       "      <td>64MP + 13MP + 8MP + 2MP</td>\n",
       "      <td>4025 mAh</td>\n",
       "      <td>https://www.flipkart.com/oppo-reno3-pro-midnig...</td>\n",
       "    </tr>\n",
       "    <tr>\n",
       "      <th>10</th>\n",
       "      <td>OPPO</td>\n",
       "      <td>Reno4 Pro</td>\n",
       "      <td>Starry Night</td>\n",
       "      <td>₹34,990</td>\n",
       "      <td>16.51 cm (6.5 inch)</td>\n",
       "      <td>2400 x 1080 Pixels</td>\n",
       "      <td>Qualcomm Snapdragon 720G Octa Core</td>\n",
       "      <td>Octa Core</td>\n",
       "      <td>8 GB</td>\n",
       "      <td>128 GB</td>\n",
       "      <td>48MP + 8MP + 2MP + 2MP</td>\n",
       "      <td>48MP + 8MP + 2MP + 2MP</td>\n",
       "      <td>4000 mAh</td>\n",
       "      <td>https://www.flipkart.com/oppo-reno4-pro-starry...</td>\n",
       "    </tr>\n",
       "    <tr>\n",
       "      <th>11</th>\n",
       "      <td>OPPO</td>\n",
       "      <td>Reno4 Pro Special Edition</td>\n",
       "      <td>Starry Night</td>\n",
       "      <td>₹34,990</td>\n",
       "      <td>16.51 cm (6.5 inch)</td>\n",
       "      <td>2400 x 1080 Pixels</td>\n",
       "      <td>Qualcomm Snapdragon 720G Octa Core</td>\n",
       "      <td>Octa Core</td>\n",
       "      <td>8 GB</td>\n",
       "      <td>128 GB</td>\n",
       "      <td>48MP + 8MP + 2MP + 2MP</td>\n",
       "      <td>48MP + 8MP + 2MP + 2MP</td>\n",
       "      <td>4000 mAh</td>\n",
       "      <td>https://www.flipkart.com/oppo-reno4-pro-specia...</td>\n",
       "    </tr>\n",
       "    <tr>\n",
       "      <th>12</th>\n",
       "      <td>OPPO</td>\n",
       "      <td>Reno3 Pro</td>\n",
       "      <td>Auroral Blue</td>\n",
       "      <td>₹24,990</td>\n",
       "      <td>16.26 cm (6.4 inch)</td>\n",
       "      <td>2400 x 1080 Pixels</td>\n",
       "      <td>MediaTek Helio P95</td>\n",
       "      <td>Octa Core</td>\n",
       "      <td>8 GB</td>\n",
       "      <td>128 GB</td>\n",
       "      <td>64MP + 13MP + 8MP + 2MP</td>\n",
       "      <td>64MP + 13MP + 8MP + 2MP</td>\n",
       "      <td>4025 mAh</td>\n",
       "      <td>https://www.flipkart.com/oppo-reno3-pro-aurora...</td>\n",
       "    </tr>\n",
       "    <tr>\n",
       "      <th>13</th>\n",
       "      <td>OPPO</td>\n",
       "      <td>Reno3 Pro</td>\n",
       "      <td>Sky White</td>\n",
       "      <td>₹27,990</td>\n",
       "      <td>16.26 cm (6.4 inch)</td>\n",
       "      <td>2400 x 1080 Pixels</td>\n",
       "      <td>MediaTek Helio P95</td>\n",
       "      <td>Octa Core</td>\n",
       "      <td>8 GB</td>\n",
       "      <td>256 GB</td>\n",
       "      <td>64MP + 13MP + 8MP + 2MP</td>\n",
       "      <td>64MP + 13MP + 8MP + 2MP</td>\n",
       "      <td>4025 mAh</td>\n",
       "      <td>https://www.flipkart.com/oppo-reno3-pro-sky-wh...</td>\n",
       "    </tr>\n",
       "  </tbody>\n",
       "</table>\n",
       "</div>"
      ],
      "text/plain": [
       "   Brand Name               Product name           Color    Price  \\\n",
       "0       OPPO                Reno6 Pro 5G   Stellar Black  ₹39,990   \n",
       "1       OPPO                Reno6 Pro 5G          Aurora  ₹39,990   \n",
       "2       OPPO                Reno5 Pro 5G     Astral Blue  ₹35,990   \n",
       "3       OPPO                   Reno4 Pro     Silky White  ₹34,990   \n",
       "4       OPPO                   Reno3 Pro    Auroral Blue  ₹25,959   \n",
       "5       OPPO                   Reno3 Pro       Sky White  ₹24,728   \n",
       "6       OPPO                   Reno3 Pro  Midnight Black  ₹26,649   \n",
       "7       OPPO                Reno5 Pro 5G    Starry Black  ₹35,990   \n",
       "8       OPPO   Reno4 Pro Special Edition   Galactic Blue  ₹34,990   \n",
       "9       OPPO                   Reno3 Pro  Midnight Black  ₹24,799   \n",
       "10      OPPO                   Reno4 Pro    Starry Night  ₹34,990   \n",
       "11      OPPO   Reno4 Pro Special Edition    Starry Night  ₹34,990   \n",
       "12      OPPO                   Reno3 Pro    Auroral Blue  ₹24,990   \n",
       "13      OPPO                   Reno3 Pro       Sky White  ₹27,990   \n",
       "\n",
       "            Display Size  Display resolution  \\\n",
       "0   16.64 cm (6.55 inch)  2400 x 1080 Pixels   \n",
       "1   16.64 cm (6.55 inch)  2400 x 1080 Pixels   \n",
       "2   16.64 cm (6.55 inch)  2400 x 1080 Pixels   \n",
       "3    16.51 cm (6.5 inch)  2400 x 1080 Pixels   \n",
       "4    16.26 cm (6.4 inch)  2400 x 1080 Pixels   \n",
       "5    16.26 cm (6.4 inch)  2400 x 1080 Pixels   \n",
       "6    16.26 cm (6.4 inch)  2400 x 1080 Pixels   \n",
       "7   16.64 cm (6.55 inch)  2400 x 1080 Pixels   \n",
       "8    16.51 cm (6.5 inch)  2400 x 1080 Pixels   \n",
       "9    16.26 cm (6.4 inch)  2400 x 1080 Pixels   \n",
       "10   16.51 cm (6.5 inch)  2400 x 1080 Pixels   \n",
       "11   16.51 cm (6.5 inch)  2400 x 1080 Pixels   \n",
       "12   16.26 cm (6.4 inch)  2400 x 1080 Pixels   \n",
       "13   16.26 cm (6.4 inch)  2400 x 1080 Pixels   \n",
       "\n",
       "                        Processor Type Processor core    RAM     ROM  \\\n",
       "0              MediaTek Dimensity 1200      Octa Core  12 GB  256 GB   \n",
       "1              MediaTek Dimensity 1200      Octa Core  12 GB  256 GB   \n",
       "2    MediaTek Dimensity 1000+ (MT6889)      Octa Core   8 GB  128 GB   \n",
       "3   Qualcomm Snapdragon 720G Octa Core      Octa Core   8 GB  128 GB   \n",
       "4                   MediaTek Helio P95      Octa Core   8 GB  256 GB   \n",
       "5                   MediaTek Helio P95      Octa Core   8 GB  128 GB   \n",
       "6                   MediaTek Helio P95      Octa Core   8 GB  256 GB   \n",
       "7    MediaTek Dimensity 1000+ (MT6889)      Octa Core   8 GB  128 GB   \n",
       "8   Qualcomm Snapdragon 720G Octa Core      Octa Core   8 GB  128 GB   \n",
       "9                   MediaTek Helio P95      Octa Core   8 GB  128 GB   \n",
       "10  Qualcomm Snapdragon 720G Octa Core      Octa Core   8 GB  128 GB   \n",
       "11  Qualcomm Snapdragon 720G Octa Core      Octa Core   8 GB  128 GB   \n",
       "12                  MediaTek Helio P95      Octa Core   8 GB  128 GB   \n",
       "13                  MediaTek Helio P95      Octa Core   8 GB  256 GB   \n",
       "\n",
       "             Primary camera         Secondary camera Battery life  \\\n",
       "0    64MP + 8MP + 2MP + 2MP   64MP + 8MP + 2MP + 2MP     4500 mAh   \n",
       "1    64MP + 8MP + 2MP + 2MP   64MP + 8MP + 2MP + 2MP     4500 mAh   \n",
       "2    64MP + 8MP + 2MP + 2MP   64MP + 8MP + 2MP + 2MP     4350 mAh   \n",
       "3    48MP + 8MP + 2MP + 2MP   48MP + 8MP + 2MP + 2MP     4000 mAh   \n",
       "4   64MP + 13MP + 8MP + 2MP  64MP + 13MP + 8MP + 2MP     4025 mAh   \n",
       "5   64MP + 13MP + 8MP + 2MP  64MP + 13MP + 8MP + 2MP     4025 mAh   \n",
       "6   64MP + 13MP + 8MP + 2MP  64MP + 13MP + 8MP + 2MP     4025 mAh   \n",
       "7    64MP + 8MP + 2MP + 2MP   64MP + 8MP + 2MP + 2MP     4350 mAh   \n",
       "8    48MP + 8MP + 2MP + 2MP   48MP + 8MP + 2MP + 2MP     4000 mAh   \n",
       "9   64MP + 13MP + 8MP + 2MP  64MP + 13MP + 8MP + 2MP     4025 mAh   \n",
       "10   48MP + 8MP + 2MP + 2MP   48MP + 8MP + 2MP + 2MP     4000 mAh   \n",
       "11   48MP + 8MP + 2MP + 2MP   48MP + 8MP + 2MP + 2MP     4000 mAh   \n",
       "12  64MP + 13MP + 8MP + 2MP  64MP + 13MP + 8MP + 2MP     4025 mAh   \n",
       "13  64MP + 13MP + 8MP + 2MP  64MP + 13MP + 8MP + 2MP     4025 mAh   \n",
       "\n",
       "                                          Product URL  \n",
       "0   https://www.flipkart.com/oppo-reno6-pro-5g-ste...  \n",
       "1   https://www.flipkart.com/oppo-reno6-pro-5g-aur...  \n",
       "2   https://www.flipkart.com/oppo-reno5-pro-5g-ast...  \n",
       "3   https://www.flipkart.com/oppo-reno4-pro-silky-...  \n",
       "4   https://www.flipkart.com/oppo-reno3-pro-aurora...  \n",
       "5   https://www.flipkart.com/oppo-reno3-pro-sky-wh...  \n",
       "6   https://www.flipkart.com/oppo-reno3-pro-midnig...  \n",
       "7   https://www.flipkart.com/oppo-reno5-pro-5g-sta...  \n",
       "8   https://www.flipkart.com/oppo-reno4-pro-specia...  \n",
       "9   https://www.flipkart.com/oppo-reno3-pro-midnig...  \n",
       "10  https://www.flipkart.com/oppo-reno4-pro-starry...  \n",
       "11  https://www.flipkart.com/oppo-reno4-pro-specia...  \n",
       "12  https://www.flipkart.com/oppo-reno3-pro-aurora...  \n",
       "13  https://www.flipkart.com/oppo-reno3-pro-sky-wh...  "
      ]
     },
     "execution_count": 356,
     "metadata": {},
     "output_type": "execute_result"
    }
   ],
   "source": [
    "Mobile_data"
   ]
  },
  {
   "cell_type": "code",
   "execution_count": 357,
   "id": "905d0c25",
   "metadata": {},
   "outputs": [],
   "source": [
    "Mobile_data.to_csv('Mobile_data')"
   ]
  },
  {
   "cell_type": "markdown",
   "id": "f7eaca52",
   "metadata": {},
   "source": [
    "### Answer 5"
   ]
  },
  {
   "cell_type": "code",
   "execution_count": 859,
   "id": "9249f332",
   "metadata": {},
   "outputs": [],
   "source": [
    "dr5=webdriver.Chrome(r'F:\\Python\\chromedriver.exe')\n",
    "u5='https://www.google.co.in/maps/@21.2074176,72.792461,15z?hl=en'\n",
    "dr5.get(u5)"
   ]
  },
  {
   "cell_type": "code",
   "execution_count": 860,
   "id": "f70ee03f",
   "metadata": {},
   "outputs": [],
   "source": [
    "dr5.maximize_window()"
   ]
  },
  {
   "cell_type": "code",
   "execution_count": 861,
   "id": "472bdd01",
   "metadata": {},
   "outputs": [],
   "source": [
    "search=dr5.find_element_by_name('q')\n",
    "search.send_keys('Surat,Gujarat')"
   ]
  },
  {
   "cell_type": "code",
   "execution_count": 872,
   "id": "0e101d4a",
   "metadata": {},
   "outputs": [],
   "source": [
    "btn=dr5.find_element_by_xpath('//button[@class=\"searchbox-searchbutton\"]').click()"
   ]
  },
  {
   "cell_type": "code",
   "execution_count": 865,
   "id": "d4fd019c",
   "metadata": {},
   "outputs": [],
   "source": [
    "a=dr5.find_element_by_xpath('//div[@class=\"fGpujc-scene-DpzZDb noprint\"]//button').click()"
   ]
  },
  {
   "cell_type": "code",
   "execution_count": 866,
   "id": "8b8b60ac",
   "metadata": {},
   "outputs": [],
   "source": [
    "lat=dr5.find_elements_by_xpath('//button[@class=\"nGhxh-tv6Bve GaSlwc-uhFGfc-WsjYwc-zfKixb-UacCoe\"]')\n",
    "lat_long=[]\n",
    "for i in lat:\n",
    "    lat_long.append(i.text)"
   ]
  },
  {
   "cell_type": "code",
   "execution_count": 867,
   "id": "3b296091",
   "metadata": {},
   "outputs": [
    {
     "data": {
      "text/plain": [
       "['21.197025, 72.820439']"
      ]
     },
     "execution_count": 867,
     "metadata": {},
     "output_type": "execute_result"
    }
   ],
   "source": [
    "lat_long"
   ]
  },
  {
   "cell_type": "code",
   "execution_count": 870,
   "id": "a1649b93",
   "metadata": {},
   "outputs": [],
   "source": [
    "search.clear()"
   ]
  },
  {
   "cell_type": "code",
   "execution_count": 871,
   "id": "7ebe9894",
   "metadata": {},
   "outputs": [],
   "source": [
    "search.send_keys('Mumbai')"
   ]
  },
  {
   "cell_type": "code",
   "execution_count": 873,
   "id": "2849d2bb",
   "metadata": {},
   "outputs": [],
   "source": [
    "m=dr5.find_element_by_xpath('//button[@class=\"d4HG7-G0jgYd-OQl0D\"]').click()"
   ]
  },
  {
   "cell_type": "code",
   "execution_count": 874,
   "id": "cd842a09",
   "metadata": {},
   "outputs": [],
   "source": [
    "ma=dr5.find_elements_by_xpath('//button[@class=\"nGhxh-tv6Bve GaSlwc-uhFGfc-WsjYwc-zfKixb-UacCoe\"]')\n",
    "for i in ma:\n",
    "    lat_long.append(i.text)"
   ]
  },
  {
   "cell_type": "code",
   "execution_count": 875,
   "id": "abee97ce",
   "metadata": {},
   "outputs": [
    {
     "data": {
      "text/plain": [
       "['21.197025, 72.820439', '19.005358, 72.853389']"
      ]
     },
     "execution_count": 875,
     "metadata": {},
     "output_type": "execute_result"
    }
   ],
   "source": [
    "lat_long"
   ]
  },
  {
   "cell_type": "markdown",
   "id": "47049a22",
   "metadata": {},
   "source": [
    "### Answer 6"
   ]
  },
  {
   "cell_type": "code",
   "execution_count": 490,
   "id": "12f0bc38",
   "metadata": {},
   "outputs": [
    {
     "data": {
      "text/plain": [
       "<selenium.webdriver.chrome.webdriver.WebDriver (session=\"746df872e2e405ba05e68ff768d8c22e\")>"
      ]
     },
     "execution_count": 490,
     "metadata": {},
     "output_type": "execute_result"
    }
   ],
   "source": [
    "dr6=webdriver.Chrome(r'F:\\Python\\chromedriver.exe')\n",
    "dr6"
   ]
  },
  {
   "cell_type": "code",
   "execution_count": 491,
   "id": "4fbc65f7",
   "metadata": {},
   "outputs": [],
   "source": [
    "u6='https://trak.in/india-startup-funding-investment-2015/'\n",
    "dr6.get(u6)\n"
   ]
  },
  {
   "cell_type": "code",
   "execution_count": 513,
   "id": "eb7e3aca",
   "metadata": {},
   "outputs": [],
   "source": [
    "dt=dr6.find_elements_by_xpath('//table[@class=\"tablepress tablepress-id-48 dataTable no-footer\"]//tr//td[2]') \n",
    "dat=[]\n",
    "for i in dt:\n",
    "    dat.append(i.text.replace('\\n',''))"
   ]
  },
  {
   "cell_type": "code",
   "execution_count": 517,
   "id": "e6eee5fb",
   "metadata": {},
   "outputs": [],
   "source": [
    "dt2=dr6.find_elements_by_xpath('//table[@class=\"tablepress tablepress-id-49 dataTable no-footer\"]//tr//td[2]') \n",
    "dat2=[]\n",
    "for i in dt2:\n",
    "    dat2.append(i.text.replace('\\n',''))"
   ]
  },
  {
   "cell_type": "code",
   "execution_count": 519,
   "id": "15c0cc78",
   "metadata": {},
   "outputs": [],
   "source": [
    "dt3=dr6.find_elements_by_xpath('//table[@class=\"tablepress tablepress-id-50 dataTable no-footer\"]//tr//td[2]') \n",
    "dat3=[]\n",
    "for i in dt3:\n",
    "    dat3.append(i.text.replace('\\n',''))"
   ]
  },
  {
   "cell_type": "code",
   "execution_count": 525,
   "id": "2a755329",
   "metadata": {},
   "outputs": [],
   "source": [
    "date=dat+dat2+dat3"
   ]
  },
  {
   "cell_type": "code",
   "execution_count": 527,
   "id": "c63bae97",
   "metadata": {},
   "outputs": [],
   "source": [
    "st=dr6.find_elements_by_xpath('//table[@class=\"tablepress tablepress-id-48 dataTable no-footer\"]//tr//td[3]') \n",
    "strt=[]\n",
    "for i in st:\n",
    "    strt.append(i.text.replace('\\n',''))"
   ]
  },
  {
   "cell_type": "code",
   "execution_count": 529,
   "id": "9eacf458",
   "metadata": {},
   "outputs": [],
   "source": [
    "st2=dr6.find_elements_by_xpath('//table[@class=\"tablepress tablepress-id-49 dataTable no-footer\"]//tr//td[3]') \n",
    "strt2=[]\n",
    "for i in st2:\n",
    "    strt2.append(i.text.replace('\\n',''))"
   ]
  },
  {
   "cell_type": "code",
   "execution_count": 531,
   "id": "b65ffee9",
   "metadata": {},
   "outputs": [],
   "source": [
    "st3=dr6.find_elements_by_xpath('//table[@class=\"tablepress tablepress-id-50 dataTable no-footer\"]//tr//td[3]') \n",
    "strt3=[]\n",
    "for i in st3:\n",
    "    strt3.append(i.text.replace('\\n',''))"
   ]
  },
  {
   "cell_type": "code",
   "execution_count": 533,
   "id": "44dafbed",
   "metadata": {},
   "outputs": [],
   "source": [
    "startup=strt+strt2+strt3"
   ]
  },
  {
   "cell_type": "code",
   "execution_count": 536,
   "id": "1e16a49a",
   "metadata": {},
   "outputs": [],
   "source": [
    "ind=dr6.find_elements_by_xpath('//table[@class=\"tablepress tablepress-id-48 dataTable no-footer\"]//tr//td[4]') \n",
    "indus=[]\n",
    "for i in ind:\n",
    "    indus.append(i.text.replace('\\n',''))\n",
    "ind2=dr6.find_elements_by_xpath('//table[@class=\"tablepress tablepress-id-49 dataTable no-footer\"]//tr//td[4]') \n",
    "indus2=[]\n",
    "for i in ind2:\n",
    "    indus2.append(i.text.replace('\\n',''))\n",
    "ind3=dr6.find_elements_by_xpath('//table[@class=\"tablepress tablepress-id-50 dataTable no-footer\"]//tr//td[4]') \n",
    "indus3=[]\n",
    "for i in ind3:\n",
    "    indus3.append(i.text.replace('\\n',''))    "
   ]
  },
  {
   "cell_type": "code",
   "execution_count": 541,
   "id": "b0573c66",
   "metadata": {},
   "outputs": [],
   "source": [
    "industry=indus+indus2+indus3"
   ]
  },
  {
   "cell_type": "code",
   "execution_count": 542,
   "id": "637192a7",
   "metadata": {},
   "outputs": [],
   "source": [
    "sb=dr6.find_elements_by_xpath('//table[@class=\"tablepress tablepress-id-48 dataTable no-footer\"]//tr//td[5]') \n",
    "sub=[]\n",
    "for i in sb:\n",
    "    sub.append(i.text.replace('\\n',''))\n",
    "sb2=dr6.find_elements_by_xpath('//table[@class=\"tablepress tablepress-id-49 dataTable no-footer\"]//tr//td[5]') \n",
    "sub2=[]\n",
    "for i in sb2:\n",
    "    sub2.append(i.text.replace('\\n',''))\n",
    "sb3=dr6.find_elements_by_xpath('//table[@class=\"tablepress tablepress-id-50 dataTable no-footer\"]//tr//td[5]') \n",
    "sub3=[]\n",
    "for i in sb3:\n",
    "    sub3.append(i.text.replace('\\n',''))"
   ]
  },
  {
   "cell_type": "code",
   "execution_count": 548,
   "id": "14447d43",
   "metadata": {},
   "outputs": [],
   "source": [
    "subvertical=sub+sub2+sub3"
   ]
  },
  {
   "cell_type": "code",
   "execution_count": 551,
   "id": "14b2ebdf",
   "metadata": {},
   "outputs": [],
   "source": [
    "ct=dr6.find_elements_by_xpath('//table[@class=\"tablepress tablepress-id-48 dataTable no-footer\"]//tr//td[6]') \n",
    "cty=[]\n",
    "for i in ct:\n",
    "    cty.append(i.text.replace('\\n',''))\n",
    "ct2=dr6.find_elements_by_xpath('//table[@class=\"tablepress tablepress-id-49 dataTable no-footer\"]//tr//td[6]') \n",
    "cty2=[]\n",
    "for i in ct2:\n",
    "    cty2.append(i.text.replace('\\n',''))\n",
    "ct3=dr6.find_elements_by_xpath('//table[@class=\"tablepress tablepress-id-50 dataTable no-footer\"]//tr//td[6]') \n",
    "cty3=[]\n",
    "for i in ct3:\n",
    "    cty3.append(i.text.replace('\\n',''))"
   ]
  },
  {
   "cell_type": "code",
   "execution_count": 555,
   "id": "08b23729",
   "metadata": {},
   "outputs": [],
   "source": [
    "city=cty+cty2+cty3"
   ]
  },
  {
   "cell_type": "code",
   "execution_count": 556,
   "id": "4a01750a",
   "metadata": {},
   "outputs": [],
   "source": [
    "inv=dr6.find_elements_by_xpath('//table[@class=\"tablepress tablepress-id-48 dataTable no-footer\"]//tr//td[7]') \n",
    "invt=[]\n",
    "for i in inv:\n",
    "    invt.append(i.text.replace('\\n',''))\n",
    "inv2=dr6.find_elements_by_xpath('//table[@class=\"tablepress tablepress-id-49 dataTable no-footer\"]//tr//td[7]') \n",
    "invt2=[]\n",
    "for i in inv2:\n",
    "    invt2.append(i.text.replace('\\n',''))\n",
    "inv3=dr6.find_elements_by_xpath('//table[@class=\"tablepress tablepress-id-50 dataTable no-footer\"]//tr//td[7]') \n",
    "invt3=[]\n",
    "for i in inv3:\n",
    "    invt3.append(i.text.replace('\\n',''))"
   ]
  },
  {
   "cell_type": "code",
   "execution_count": 559,
   "id": "af955b6d",
   "metadata": {},
   "outputs": [],
   "source": [
    "investment=invt+invt2+invt3"
   ]
  },
  {
   "cell_type": "code",
   "execution_count": 573,
   "id": "a9ef371d",
   "metadata": {},
   "outputs": [],
   "source": [
    "ity=dr6.find_elements_by_xpath('//table[@class=\"tablepress tablepress-id-48 dataTable no-footer\"]//tr//td[8]') \n",
    "ityp=[]\n",
    "for i in ity:\n",
    "    ityp.append(i.text.replace('\\n',''))\n",
    "ityp2=[]\n",
    "try:\n",
    "    ity2=dr6.find_elements_by_xpath('//table[@class=\"tablepress tablepress-id-49 dataTable no-footer\"]//tr//td[8]') \n",
    "    for i in ity2:\n",
    "        ityp2.append(i.text.replace('\\n',''))\n",
    "except:\n",
    "    ityp2.append('--')\n",
    "ity3=dr6.find_elements_by_xpath('//table[@class=\"tablepress tablepress-id-50 dataTable no-footer\"]//tr//td[8]') \n",
    "ityp3=[]\n",
    "for i in inv3:\n",
    "    ityp3.append(i.text.replace('\\n',''))"
   ]
  },
  {
   "cell_type": "code",
   "execution_count": 574,
   "id": "782fe0bd",
   "metadata": {},
   "outputs": [],
   "source": [
    "investment_type=ityp+ityp2+ityp3"
   ]
  },
  {
   "cell_type": "code",
   "execution_count": 576,
   "id": "fbd6d644",
   "metadata": {},
   "outputs": [],
   "source": [
    "am=dr6.find_elements_by_xpath('//table[@class=\"tablepress tablepress-id-48 dataTable no-footer\"]//tr//td[9]') \n",
    "amt=[]\n",
    "for i in am:\n",
    "    amt.append(i.text.replace('\\n',''))\n",
    "am2=dr6.find_elements_by_xpath('//table[@class=\"tablepress tablepress-id-49 dataTable no-footer\"]//tr//td[9]') \n",
    "amt2=[]\n",
    "for i in am2:\n",
    "    amt2.append(i.text.replace('\\n',''))\n",
    "am3=dr6.find_elements_by_xpath('//table[@class=\"tablepress tablepress-id-50 dataTable no-footer\"]//tr//td[9]') \n",
    "amt3=[]\n",
    "for i in am3:\n",
    "    amt3.append(i.text.replace('\\n',''))"
   ]
  },
  {
   "cell_type": "code",
   "execution_count": 577,
   "id": "cc7bba1d",
   "metadata": {},
   "outputs": [],
   "source": [
    "amount=amt+amt2+amt3"
   ]
  },
  {
   "cell_type": "code",
   "execution_count": 580,
   "id": "c8296cba",
   "metadata": {},
   "outputs": [],
   "source": [
    "funding_deals=pd.DataFrame({'Date':date,'Start up name':startup,'Industry':industry,'Sub vartical':subvertical,\n",
    "                           'City':city,'Investment':investment,'Investment type':investment_type,\n",
    "                           'Amount':amount})"
   ]
  },
  {
   "cell_type": "code",
   "execution_count": 581,
   "id": "f22646f5",
   "metadata": {},
   "outputs": [
    {
     "data": {
      "text/html": [
       "<div>\n",
       "<style scoped>\n",
       "    .dataframe tbody tr th:only-of-type {\n",
       "        vertical-align: middle;\n",
       "    }\n",
       "\n",
       "    .dataframe tbody tr th {\n",
       "        vertical-align: top;\n",
       "    }\n",
       "\n",
       "    .dataframe thead th {\n",
       "        text-align: right;\n",
       "    }\n",
       "</style>\n",
       "<table border=\"1\" class=\"dataframe\">\n",
       "  <thead>\n",
       "    <tr style=\"text-align: right;\">\n",
       "      <th></th>\n",
       "      <th>Date</th>\n",
       "      <th>Start up name</th>\n",
       "      <th>Industry</th>\n",
       "      <th>Sub vartical</th>\n",
       "      <th>City</th>\n",
       "      <th>Investment</th>\n",
       "      <th>Investment type</th>\n",
       "      <th>Amount</th>\n",
       "    </tr>\n",
       "  </thead>\n",
       "  <tbody>\n",
       "    <tr>\n",
       "      <th>0</th>\n",
       "      <td>15/07/2020</td>\n",
       "      <td>Flipkart</td>\n",
       "      <td>E-commerce</td>\n",
       "      <td>E-commerce</td>\n",
       "      <td>Bangalore</td>\n",
       "      <td>Walmart Inc</td>\n",
       "      <td>M&amp;A</td>\n",
       "      <td>1,200,000,000</td>\n",
       "    </tr>\n",
       "    <tr>\n",
       "      <th>1</th>\n",
       "      <td>16/07/2020</td>\n",
       "      <td>Vedantu</td>\n",
       "      <td>EduTech</td>\n",
       "      <td>Online Tutoring</td>\n",
       "      <td>Bangalore</td>\n",
       "      <td>Coatue Management</td>\n",
       "      <td>Series D</td>\n",
       "      <td>100,000,000</td>\n",
       "    </tr>\n",
       "    <tr>\n",
       "      <th>2</th>\n",
       "      <td>16/07/2020</td>\n",
       "      <td>Crio</td>\n",
       "      <td>EduTech</td>\n",
       "      <td>Learning Platform for Developers</td>\n",
       "      <td>Bangalore</td>\n",
       "      <td>021 Capital</td>\n",
       "      <td>pre-Series A</td>\n",
       "      <td>934,160</td>\n",
       "    </tr>\n",
       "    <tr>\n",
       "      <th>3</th>\n",
       "      <td>14/07/2020</td>\n",
       "      <td>goDutch</td>\n",
       "      <td>FinTech</td>\n",
       "      <td>Group Payments</td>\n",
       "      <td>Mumbai</td>\n",
       "      <td>Matrix India,Y Combinator, Global Founders Cap...</td>\n",
       "      <td>Seed</td>\n",
       "      <td>1,700,000</td>\n",
       "    </tr>\n",
       "    <tr>\n",
       "      <th>4</th>\n",
       "      <td>13/07/2020</td>\n",
       "      <td>Mystifly</td>\n",
       "      <td>Airfare Marketplace</td>\n",
       "      <td>Ticketing, Airline Retailing, and Post-Ticketi...</td>\n",
       "      <td>Singapore and Bangalore</td>\n",
       "      <td>Recruit Co. Ltd.</td>\n",
       "      <td>pre-Series B</td>\n",
       "      <td>3,300,000</td>\n",
       "    </tr>\n",
       "    <tr>\n",
       "      <th>5</th>\n",
       "      <td>09/07/2020</td>\n",
       "      <td>JetSynthesys</td>\n",
       "      <td>Gaming and Entertainment</td>\n",
       "      <td>Gaming and Entertainment</td>\n",
       "      <td>Pune</td>\n",
       "      <td>Adar Poonawalla and Kris Gopalakrishnan.</td>\n",
       "      <td>Venture-Series Unknown</td>\n",
       "      <td>400,000</td>\n",
       "    </tr>\n",
       "    <tr>\n",
       "      <th>6</th>\n",
       "      <td>10/07/2020</td>\n",
       "      <td>gigIndia</td>\n",
       "      <td>Marketplace</td>\n",
       "      <td>Crowd Sourcing, Freelance</td>\n",
       "      <td>Pune</td>\n",
       "      <td>Incubate Fund India and Beyond Next Ventures</td>\n",
       "      <td>pre-Series A</td>\n",
       "      <td>974,200</td>\n",
       "    </tr>\n",
       "    <tr>\n",
       "      <th>7</th>\n",
       "      <td>15/07/2020</td>\n",
       "      <td>PumPumPum</td>\n",
       "      <td>Automotive Rental</td>\n",
       "      <td>Used Car-leasing platform</td>\n",
       "      <td>Gurgaon</td>\n",
       "      <td>Early Adapters Syndicate</td>\n",
       "      <td>Seed</td>\n",
       "      <td>292,800</td>\n",
       "    </tr>\n",
       "    <tr>\n",
       "      <th>8</th>\n",
       "      <td>14/07/2020</td>\n",
       "      <td>FLYX</td>\n",
       "      <td>OTT Player</td>\n",
       "      <td>Streaming Social Network</td>\n",
       "      <td>New York and Delhi</td>\n",
       "      <td>Raj Mishra, founder of AIT Global Inc</td>\n",
       "      <td>pre-Seed</td>\n",
       "      <td>200,000</td>\n",
       "    </tr>\n",
       "    <tr>\n",
       "      <th>9</th>\n",
       "      <td>13/07/2020</td>\n",
       "      <td>Open Appliances Pvt. Ltd.</td>\n",
       "      <td>Information Technology</td>\n",
       "      <td>Internet-of-Things Security Solutions</td>\n",
       "      <td>Bangalore</td>\n",
       "      <td>Unicorn India Ventures</td>\n",
       "      <td>Venture-Series Unknown</td>\n",
       "      <td>500,000</td>\n",
       "    </tr>\n",
       "    <tr>\n",
       "      <th>10</th>\n",
       "      <td>15/08/2020</td>\n",
       "      <td>Practo</td>\n",
       "      <td>HealthTech</td>\n",
       "      <td>Health care and Wellness</td>\n",
       "      <td>Bangalore</td>\n",
       "      <td>A1A Company</td>\n",
       "      <td>Series F</td>\n",
       "      <td>32,000,000</td>\n",
       "    </tr>\n",
       "    <tr>\n",
       "      <th>11</th>\n",
       "      <td>13/08/2020</td>\n",
       "      <td>Medlife</td>\n",
       "      <td>E-commerce</td>\n",
       "      <td>Online Pharmacy</td>\n",
       "      <td>Bangalore</td>\n",
       "      <td>Prasid Uno Family Trust and SC Credit Fund</td>\n",
       "      <td></td>\n",
       "      <td>23,000,000</td>\n",
       "    </tr>\n",
       "    <tr>\n",
       "      <th>12</th>\n",
       "      <td>13/08/2020</td>\n",
       "      <td>HungerBox</td>\n",
       "      <td>FoodTech</td>\n",
       "      <td>Online Food Delivery Service</td>\n",
       "      <td>Bangalore</td>\n",
       "      <td>One97, Sabre Partners Trust, Pratithi Investme...</td>\n",
       "      <td>Series D1</td>\n",
       "      <td>1,560,000</td>\n",
       "    </tr>\n",
       "    <tr>\n",
       "      <th>13</th>\n",
       "      <td>04/08/2020</td>\n",
       "      <td>Dunzo</td>\n",
       "      <td>Hyper-local Logistics</td>\n",
       "      <td>Online Delivery Services</td>\n",
       "      <td>Bangalore</td>\n",
       "      <td>Existing Backers</td>\n",
       "      <td>In Progress</td>\n",
       "      <td>30,000,000</td>\n",
       "    </tr>\n",
       "    <tr>\n",
       "      <th>14</th>\n",
       "      <td>11/08/2020</td>\n",
       "      <td>Terra.do</td>\n",
       "      <td>EduTech</td>\n",
       "      <td>Online Climate School, E-learning</td>\n",
       "      <td>Stanford, California,</td>\n",
       "      <td>Stanford Angels and Entrepreneurs (India), BEE...</td>\n",
       "      <td>Seed</td>\n",
       "      <td>1,400,000</td>\n",
       "    </tr>\n",
       "    <tr>\n",
       "      <th>15</th>\n",
       "      <td>12/08/2020</td>\n",
       "      <td>Classplus</td>\n",
       "      <td>EduTech</td>\n",
       "      <td>E-learning, Online Tutoring</td>\n",
       "      <td>Noida</td>\n",
       "      <td>Falcon Edge</td>\n",
       "      <td>In Progress</td>\n",
       "      <td>upto 15,000,000</td>\n",
       "    </tr>\n",
       "    <tr>\n",
       "      <th>16</th>\n",
       "      <td>14/08/2020</td>\n",
       "      <td>Niyo</td>\n",
       "      <td>FinTech</td>\n",
       "      <td>Financial Services</td>\n",
       "      <td>Bangalore</td>\n",
       "      <td>Niyo Solutions Inc.</td>\n",
       "      <td></td>\n",
       "      <td>6,000,000</td>\n",
       "    </tr>\n",
       "    <tr>\n",
       "      <th>17</th>\n",
       "      <td>10/08/2020</td>\n",
       "      <td>ZestMoney</td>\n",
       "      <td>FinTech</td>\n",
       "      <td>Financial Services</td>\n",
       "      <td>Bangalore</td>\n",
       "      <td>Primrose Hills Ventures</td>\n",
       "      <td></td>\n",
       "      <td>10,670,000</td>\n",
       "    </tr>\n",
       "    <tr>\n",
       "      <th>18</th>\n",
       "      <td>07/08/2020</td>\n",
       "      <td>FreshToHome</td>\n",
       "      <td>E-commerce</td>\n",
       "      <td>Food Delivery</td>\n",
       "      <td>Bangalore</td>\n",
       "      <td>Ascent Capital</td>\n",
       "      <td>Venture</td>\n",
       "      <td>16,200,000</td>\n",
       "    </tr>\n",
       "    <tr>\n",
       "      <th>19</th>\n",
       "      <td>13/08/2020</td>\n",
       "      <td>Eduvanz</td>\n",
       "      <td>FinTech</td>\n",
       "      <td>Financial Services</td>\n",
       "      <td>Mumbai</td>\n",
       "      <td>Sequoia India, Unitus</td>\n",
       "      <td>Series A</td>\n",
       "      <td>5,000,000</td>\n",
       "    </tr>\n",
       "    <tr>\n",
       "      <th>20</th>\n",
       "      <td>08/09/2020</td>\n",
       "      <td>Byju’s</td>\n",
       "      <td>EduTech</td>\n",
       "      <td>Online Tutoring</td>\n",
       "      <td>Bangalore</td>\n",
       "      <td>Silver Lake, Tiger Global, General Atlantic an...</td>\n",
       "      <td>Silver Lake, Tiger Global, General Atlantic an...</td>\n",
       "      <td>500,000,000</td>\n",
       "    </tr>\n",
       "    <tr>\n",
       "      <th>21</th>\n",
       "      <td>12/09/2020</td>\n",
       "      <td>mCaffeine</td>\n",
       "      <td>Personal Care</td>\n",
       "      <td>Skincare &amp; Haircare</td>\n",
       "      <td>Mumbai</td>\n",
       "      <td>Amicus Capital Private Equity I LLP, Amicus Ca...</td>\n",
       "      <td>Amicus Capital Private Equity I LLP, Amicus Ca...</td>\n",
       "      <td>3,000,000</td>\n",
       "    </tr>\n",
       "    <tr>\n",
       "      <th>22</th>\n",
       "      <td>09/09/2020</td>\n",
       "      <td>Qshala</td>\n",
       "      <td>EduTech</td>\n",
       "      <td>Online Curiosity Platform for Kids</td>\n",
       "      <td>Bangalore</td>\n",
       "      <td>Rainmatter Capital</td>\n",
       "      <td>Rainmatter Capital</td>\n",
       "      <td>370,000</td>\n",
       "    </tr>\n",
       "    <tr>\n",
       "      <th>23</th>\n",
       "      <td>02/09/2020</td>\n",
       "      <td>Winzo</td>\n",
       "      <td>Online Gaming</td>\n",
       "      <td>Online Gaming</td>\n",
       "      <td>New Delhi</td>\n",
       "      <td>Kalaari Capital Partners, IndigoEdge Managemen...</td>\n",
       "      <td>Kalaari Capital Partners, IndigoEdge Managemen...</td>\n",
       "      <td>15,500,000</td>\n",
       "    </tr>\n",
       "    <tr>\n",
       "      <th>24</th>\n",
       "      <td>09/09/2020</td>\n",
       "      <td>Hippo Video</td>\n",
       "      <td>Video Customer Experience(CX) Platform</td>\n",
       "      <td>Video Customer Experience(CX) Platform</td>\n",
       "      <td>Newark, Delaware, United States of Amercia</td>\n",
       "      <td>Alpha Wave Incubation, Exfinity Venture Partne...</td>\n",
       "      <td>Alpha Wave Incubation, Exfinity Venture Partne...</td>\n",
       "      <td>4,500,000</td>\n",
       "    </tr>\n",
       "    <tr>\n",
       "      <th>25</th>\n",
       "      <td>07/09/2020</td>\n",
       "      <td>Melorra</td>\n",
       "      <td>E-commerce</td>\n",
       "      <td>Online Jewelry Store</td>\n",
       "      <td>Bangalore</td>\n",
       "      <td>Shadow Holdings, Lightbox.</td>\n",
       "      <td>Shadow Holdings, Lightbox.</td>\n",
       "      <td>upto 8,900,000</td>\n",
       "    </tr>\n",
       "    <tr>\n",
       "      <th>26</th>\n",
       "      <td>07/09/2020</td>\n",
       "      <td>1mg</td>\n",
       "      <td>E-commerce</td>\n",
       "      <td>Online Pharmacy</td>\n",
       "      <td>Gurgaon</td>\n",
       "      <td>Gaja Capital, Tata Capital, Partners Group</td>\n",
       "      <td>Gaja Capital, Tata Capital, Partners Group</td>\n",
       "      <td>100,000,000</td>\n",
       "    </tr>\n",
       "    <tr>\n",
       "      <th>27</th>\n",
       "      <td>31/08/2020</td>\n",
       "      <td>mfine</td>\n",
       "      <td>HealthTech</td>\n",
       "      <td>On-Demand Healthcare Services</td>\n",
       "      <td>Bangalore</td>\n",
       "      <td>Caretech Pte Inc</td>\n",
       "      <td>Caretech Pte Inc</td>\n",
       "      <td>5,400,000</td>\n",
       "    </tr>\n",
       "    <tr>\n",
       "      <th>28</th>\n",
       "      <td>31/08/2020</td>\n",
       "      <td>Apna</td>\n",
       "      <td>Human Resources</td>\n",
       "      <td>Recruitment Platform</td>\n",
       "      <td>Bangalore</td>\n",
       "      <td>Lightspeed India and Sequoia Capital India</td>\n",
       "      <td>Lightspeed India and Sequoia Capital India</td>\n",
       "      <td>8,000,000</td>\n",
       "    </tr>\n",
       "    <tr>\n",
       "      <th>29</th>\n",
       "      <td>03/09/2020</td>\n",
       "      <td>Railofy</td>\n",
       "      <td>Transportation</td>\n",
       "      <td>WL &amp; RAC protection platform</td>\n",
       "      <td>Mumbai</td>\n",
       "      <td>Chiratae Ventures</td>\n",
       "      <td>Chiratae Ventures</td>\n",
       "      <td>950,000</td>\n",
       "    </tr>\n",
       "  </tbody>\n",
       "</table>\n",
       "</div>"
      ],
      "text/plain": [
       "          Date              Start up name  \\\n",
       "0   15/07/2020                   Flipkart   \n",
       "1   16/07/2020                    Vedantu   \n",
       "2   16/07/2020                       Crio   \n",
       "3   14/07/2020                    goDutch   \n",
       "4   13/07/2020                   Mystifly   \n",
       "5   09/07/2020               JetSynthesys   \n",
       "6   10/07/2020                   gigIndia   \n",
       "7   15/07/2020                  PumPumPum   \n",
       "8   14/07/2020                       FLYX   \n",
       "9   13/07/2020  Open Appliances Pvt. Ltd.   \n",
       "10  15/08/2020                     Practo   \n",
       "11  13/08/2020                    Medlife   \n",
       "12  13/08/2020                  HungerBox   \n",
       "13  04/08/2020                      Dunzo   \n",
       "14  11/08/2020                   Terra.do   \n",
       "15  12/08/2020                  Classplus   \n",
       "16  14/08/2020                       Niyo   \n",
       "17  10/08/2020                  ZestMoney   \n",
       "18  07/08/2020                FreshToHome   \n",
       "19  13/08/2020                    Eduvanz   \n",
       "20  08/09/2020                     Byju’s   \n",
       "21  12/09/2020                  mCaffeine   \n",
       "22  09/09/2020                     Qshala   \n",
       "23  02/09/2020                      Winzo   \n",
       "24  09/09/2020                Hippo Video   \n",
       "25  07/09/2020                    Melorra   \n",
       "26  07/09/2020                        1mg   \n",
       "27  31/08/2020                      mfine   \n",
       "28  31/08/2020                       Apna   \n",
       "29  03/09/2020                    Railofy   \n",
       "\n",
       "                                  Industry  \\\n",
       "0                               E-commerce   \n",
       "1                                  EduTech   \n",
       "2                                  EduTech   \n",
       "3                                  FinTech   \n",
       "4                      Airfare Marketplace   \n",
       "5                 Gaming and Entertainment   \n",
       "6                              Marketplace   \n",
       "7                        Automotive Rental   \n",
       "8                               OTT Player   \n",
       "9                   Information Technology   \n",
       "10                              HealthTech   \n",
       "11                              E-commerce   \n",
       "12                                FoodTech   \n",
       "13                   Hyper-local Logistics   \n",
       "14                                 EduTech   \n",
       "15                                 EduTech   \n",
       "16                                 FinTech   \n",
       "17                                 FinTech   \n",
       "18                              E-commerce   \n",
       "19                                 FinTech   \n",
       "20                                 EduTech   \n",
       "21                           Personal Care   \n",
       "22                                 EduTech   \n",
       "23                           Online Gaming   \n",
       "24  Video Customer Experience(CX) Platform   \n",
       "25                              E-commerce   \n",
       "26                              E-commerce   \n",
       "27                              HealthTech   \n",
       "28                         Human Resources   \n",
       "29                          Transportation   \n",
       "\n",
       "                                         Sub vartical  \\\n",
       "0                                          E-commerce   \n",
       "1                                     Online Tutoring   \n",
       "2                    Learning Platform for Developers   \n",
       "3                                      Group Payments   \n",
       "4   Ticketing, Airline Retailing, and Post-Ticketi...   \n",
       "5                            Gaming and Entertainment   \n",
       "6                           Crowd Sourcing, Freelance   \n",
       "7                           Used Car-leasing platform   \n",
       "8                            Streaming Social Network   \n",
       "9               Internet-of-Things Security Solutions   \n",
       "10                           Health care and Wellness   \n",
       "11                                    Online Pharmacy   \n",
       "12                       Online Food Delivery Service   \n",
       "13                           Online Delivery Services   \n",
       "14                  Online Climate School, E-learning   \n",
       "15                        E-learning, Online Tutoring   \n",
       "16                                 Financial Services   \n",
       "17                                 Financial Services   \n",
       "18                                      Food Delivery   \n",
       "19                                 Financial Services   \n",
       "20                                    Online Tutoring   \n",
       "21                                Skincare & Haircare   \n",
       "22                 Online Curiosity Platform for Kids   \n",
       "23                                      Online Gaming   \n",
       "24             Video Customer Experience(CX) Platform   \n",
       "25                               Online Jewelry Store   \n",
       "26                                    Online Pharmacy   \n",
       "27                      On-Demand Healthcare Services   \n",
       "28                               Recruitment Platform   \n",
       "29                       WL & RAC protection platform   \n",
       "\n",
       "                                          City  \\\n",
       "0                                    Bangalore   \n",
       "1                                    Bangalore   \n",
       "2                                    Bangalore   \n",
       "3                                       Mumbai   \n",
       "4                      Singapore and Bangalore   \n",
       "5                                         Pune   \n",
       "6                                         Pune   \n",
       "7                                      Gurgaon   \n",
       "8                           New York and Delhi   \n",
       "9                                    Bangalore   \n",
       "10                                   Bangalore   \n",
       "11                                   Bangalore   \n",
       "12                                   Bangalore   \n",
       "13                                   Bangalore   \n",
       "14                       Stanford, California,   \n",
       "15                                       Noida   \n",
       "16                                   Bangalore   \n",
       "17                                   Bangalore   \n",
       "18                                   Bangalore   \n",
       "19                                      Mumbai   \n",
       "20                                   Bangalore   \n",
       "21                                      Mumbai   \n",
       "22                                   Bangalore   \n",
       "23                                   New Delhi   \n",
       "24  Newark, Delaware, United States of Amercia   \n",
       "25                                   Bangalore   \n",
       "26                                     Gurgaon   \n",
       "27                                   Bangalore   \n",
       "28                                   Bangalore   \n",
       "29                                      Mumbai   \n",
       "\n",
       "                                           Investment  \\\n",
       "0                                         Walmart Inc   \n",
       "1                                   Coatue Management   \n",
       "2                                         021 Capital   \n",
       "3   Matrix India,Y Combinator, Global Founders Cap...   \n",
       "4                                    Recruit Co. Ltd.   \n",
       "5            Adar Poonawalla and Kris Gopalakrishnan.   \n",
       "6        Incubate Fund India and Beyond Next Ventures   \n",
       "7                            Early Adapters Syndicate   \n",
       "8               Raj Mishra, founder of AIT Global Inc   \n",
       "9                              Unicorn India Ventures   \n",
       "10                                        A1A Company   \n",
       "11         Prasid Uno Family Trust and SC Credit Fund   \n",
       "12  One97, Sabre Partners Trust, Pratithi Investme...   \n",
       "13                                   Existing Backers   \n",
       "14  Stanford Angels and Entrepreneurs (India), BEE...   \n",
       "15                                        Falcon Edge   \n",
       "16                                Niyo Solutions Inc.   \n",
       "17                            Primrose Hills Ventures   \n",
       "18                                     Ascent Capital   \n",
       "19                              Sequoia India, Unitus   \n",
       "20  Silver Lake, Tiger Global, General Atlantic an...   \n",
       "21  Amicus Capital Private Equity I LLP, Amicus Ca...   \n",
       "22                                 Rainmatter Capital   \n",
       "23  Kalaari Capital Partners, IndigoEdge Managemen...   \n",
       "24  Alpha Wave Incubation, Exfinity Venture Partne...   \n",
       "25                         Shadow Holdings, Lightbox.   \n",
       "26         Gaja Capital, Tata Capital, Partners Group   \n",
       "27                                   Caretech Pte Inc   \n",
       "28         Lightspeed India and Sequoia Capital India   \n",
       "29                                  Chiratae Ventures   \n",
       "\n",
       "                                      Investment type           Amount  \n",
       "0                                                 M&A    1,200,000,000  \n",
       "1                                            Series D      100,000,000  \n",
       "2                                        pre-Series A          934,160  \n",
       "3                                                Seed        1,700,000  \n",
       "4                                        pre-Series B        3,300,000  \n",
       "5                              Venture-Series Unknown          400,000  \n",
       "6                                        pre-Series A          974,200  \n",
       "7                                                Seed          292,800  \n",
       "8                                            pre-Seed          200,000  \n",
       "9                              Venture-Series Unknown          500,000  \n",
       "10                                           Series F       32,000,000  \n",
       "11                                                          23,000,000  \n",
       "12                                          Series D1        1,560,000  \n",
       "13                                        In Progress       30,000,000  \n",
       "14                                               Seed        1,400,000  \n",
       "15                                        In Progress  upto 15,000,000  \n",
       "16                                                           6,000,000  \n",
       "17                                                          10,670,000  \n",
       "18                                            Venture       16,200,000  \n",
       "19                                           Series A        5,000,000  \n",
       "20  Silver Lake, Tiger Global, General Atlantic an...      500,000,000  \n",
       "21  Amicus Capital Private Equity I LLP, Amicus Ca...        3,000,000  \n",
       "22                                 Rainmatter Capital          370,000  \n",
       "23  Kalaari Capital Partners, IndigoEdge Managemen...       15,500,000  \n",
       "24  Alpha Wave Incubation, Exfinity Venture Partne...        4,500,000  \n",
       "25                         Shadow Holdings, Lightbox.   upto 8,900,000  \n",
       "26         Gaja Capital, Tata Capital, Partners Group      100,000,000  \n",
       "27                                   Caretech Pte Inc        5,400,000  \n",
       "28         Lightspeed India and Sequoia Capital India        8,000,000  \n",
       "29                                  Chiratae Ventures          950,000  "
      ]
     },
     "execution_count": 581,
     "metadata": {},
     "output_type": "execute_result"
    }
   ],
   "source": [
    "funding_deals"
   ]
  },
  {
   "cell_type": "markdown",
   "id": "aa2e5704",
   "metadata": {},
   "source": [
    "### Answer 7"
   ]
  },
  {
   "cell_type": "code",
   "execution_count": 680,
   "id": "3d7e9582",
   "metadata": {},
   "outputs": [],
   "source": [
    "dr7=webdriver.Chrome(r'F:\\Python\\chromedriver.exe')\n",
    "u7='https://www.digit.in./'\n",
    "dr7.get(u7)"
   ]
  },
  {
   "cell_type": "code",
   "execution_count": 681,
   "id": "af0f0bbb",
   "metadata": {},
   "outputs": [],
   "source": [
    "dr7.maximize_window()"
   ]
  },
  {
   "cell_type": "code",
   "execution_count": 683,
   "id": "c9c16890",
   "metadata": {},
   "outputs": [],
   "source": [
    "find=dr7.find_element_by_xpath('//div[@class=\"menu\"]//li[3]').click()"
   ]
  },
  {
   "cell_type": "code",
   "execution_count": 684,
   "id": "97684b94",
   "metadata": {},
   "outputs": [],
   "source": [
    "find2=dr7.find_element_by_xpath('//div[@class=\"Listbrand\"]//li[10]').click()"
   ]
  },
  {
   "cell_type": "code",
   "execution_count": 687,
   "id": "12c95666",
   "metadata": {},
   "outputs": [
    {
     "data": {
      "text/plain": [
       "7"
      ]
     },
     "execution_count": 687,
     "metadata": {},
     "output_type": "execute_result"
    }
   ],
   "source": [
    "nam=[]\n",
    "name=dr7.find_elements_by_xpath('//div[@class=\"TopNumbeHeading active sticky-footer\"]//h3')\n",
    "for i in name:\n",
    "    nam.append(i.text)\n",
    "len(nam)    "
   ]
  },
  {
   "cell_type": "code",
   "execution_count": 689,
   "id": "96f35e74",
   "metadata": {},
   "outputs": [
    {
     "data": {
      "text/plain": [
       "7"
      ]
     },
     "execution_count": 689,
     "metadata": {},
     "output_type": "execute_result"
    }
   ],
   "source": [
    "os=[]\n",
    "op=dr7.find_elements_by_xpath('//div[@class=\"Spcs-details\"]//tr[3]/td[3]')\n",
    "for i in op:\n",
    "    os.append(i.text)\n",
    "len(os)    "
   ]
  },
  {
   "cell_type": "code",
   "execution_count": 690,
   "id": "c1352500",
   "metadata": {},
   "outputs": [
    {
     "data": {
      "text/plain": [
       "7"
      ]
     },
     "execution_count": 690,
     "metadata": {},
     "output_type": "execute_result"
    }
   ],
   "source": [
    "disply=[]\n",
    "ds=dr7.find_elements_by_xpath('//div[@class=\"Spcs-details\"]//tr[4]/td[3]')\n",
    "for i in ds:\n",
    "    disply.append(i.text)\n",
    "len(disply)    "
   ]
  },
  {
   "cell_type": "code",
   "execution_count": 692,
   "id": "b806e41e",
   "metadata": {},
   "outputs": [
    {
     "data": {
      "text/plain": [
       "7"
      ]
     },
     "execution_count": 692,
     "metadata": {},
     "output_type": "execute_result"
    }
   ],
   "source": [
    "pross=[]\n",
    "ps=dr7.find_elements_by_xpath('//div[@class=\"Spcs-details\"]//tr[5]/td[3]')\n",
    "for i in ps:\n",
    "    pross.append(i.text)\n",
    "len(pross)    "
   ]
  },
  {
   "cell_type": "code",
   "execution_count": 693,
   "id": "23a19e63",
   "metadata": {},
   "outputs": [
    {
     "data": {
      "text/plain": [
       "7"
      ]
     },
     "execution_count": 693,
     "metadata": {},
     "output_type": "execute_result"
    }
   ],
   "source": [
    "memry=[]\n",
    "mr=dr7.find_elements_by_xpath('//div[@class=\"Spcs-details\"]//tr[6]/td[3]')\n",
    "for i in mr:\n",
    "    memry.append(i.text)\n",
    "len(memry)    "
   ]
  },
  {
   "cell_type": "code",
   "execution_count": 695,
   "id": "91a0ce43",
   "metadata": {},
   "outputs": [],
   "source": [
    "weight=[]\n",
    "wg=dr7.find_elements_by_xpath('//div[@class=\"Spcs-details\"]//tr[7]/td[3]')\n",
    "for i in wg:\n",
    "    weight.append(i.text)"
   ]
  },
  {
   "cell_type": "code",
   "execution_count": 696,
   "id": "3f18b422",
   "metadata": {},
   "outputs": [
    {
     "data": {
      "text/plain": [
       "7"
      ]
     },
     "execution_count": 696,
     "metadata": {},
     "output_type": "execute_result"
    }
   ],
   "source": [
    "dimn=[]\n",
    "dm=dr7.find_elements_by_xpath('//div[@class=\"Spcs-details\"]//tr[8]/td[3]')\n",
    "for i in dm:\n",
    "    dimn.append(i.text)\n",
    "len(dimn)    "
   ]
  },
  {
   "cell_type": "code",
   "execution_count": 697,
   "id": "6f34b7bc",
   "metadata": {},
   "outputs": [
    {
     "data": {
      "text/plain": [
       "7"
      ]
     },
     "execution_count": 697,
     "metadata": {},
     "output_type": "execute_result"
    }
   ],
   "source": [
    "grph=[]\n",
    "gr=dr7.find_elements_by_xpath('//div[@class=\"Spcs-details\"]//tr[9]/td[3]')\n",
    "for i in gr:\n",
    "    grph.append(i.text)\n",
    "len(grph)    "
   ]
  },
  {
   "cell_type": "code",
   "execution_count": 698,
   "id": "5af9c9ef",
   "metadata": {},
   "outputs": [
    {
     "data": {
      "text/plain": [
       "7"
      ]
     },
     "execution_count": 698,
     "metadata": {},
     "output_type": "execute_result"
    }
   ],
   "source": [
    "pric=[]\n",
    "pr=dr7.find_elements_by_xpath('//table[@id=\"summtable\"]//tr//td[3]')\n",
    "for i in pr:\n",
    "    pric.append(i.text)\n",
    "len(pric)    "
   ]
  },
  {
   "cell_type": "code",
   "execution_count": 700,
   "id": "9bab2e70",
   "metadata": {},
   "outputs": [],
   "source": [
    "Laptop_data=pd.DataFrame({'Name':nam,'Processor':pross,'Memory':memry,'Weight':weight,\n",
    "                         'Dimentions':dimn,'Graphics':grph,'Price':pric})"
   ]
  },
  {
   "cell_type": "code",
   "execution_count": 701,
   "id": "a603866c",
   "metadata": {},
   "outputs": [
    {
     "data": {
      "text/html": [
       "<div>\n",
       "<style scoped>\n",
       "    .dataframe tbody tr th:only-of-type {\n",
       "        vertical-align: middle;\n",
       "    }\n",
       "\n",
       "    .dataframe tbody tr th {\n",
       "        vertical-align: top;\n",
       "    }\n",
       "\n",
       "    .dataframe thead th {\n",
       "        text-align: right;\n",
       "    }\n",
       "</style>\n",
       "<table border=\"1\" class=\"dataframe\">\n",
       "  <thead>\n",
       "    <tr style=\"text-align: right;\">\n",
       "      <th></th>\n",
       "      <th>Name</th>\n",
       "      <th>Processor</th>\n",
       "      <th>Memory</th>\n",
       "      <th>Weight</th>\n",
       "      <th>Dimentions</th>\n",
       "      <th>Graphics</th>\n",
       "      <th>Price</th>\n",
       "    </tr>\n",
       "  </thead>\n",
       "  <tbody>\n",
       "    <tr>\n",
       "      <th>0</th>\n",
       "      <td>ALIENWARE AREA 51M R2</td>\n",
       "      <td>10th Generation Intel® Core™ i7-10700 | 2.90 GHz</td>\n",
       "      <td>1 TB SSD/16 GBGB DDR4</td>\n",
       "      <td>4.1</td>\n",
       "      <td>27.65 x 402.6 x 319.14</td>\n",
       "      <td>Intel® UHD Graphics 630</td>\n",
       "      <td>N/A</td>\n",
       "    </tr>\n",
       "    <tr>\n",
       "      <th>1</th>\n",
       "      <td>ALIENWARE M15 R3</td>\n",
       "      <td>10th Generation Intel® Core™ i9-10980HK | NA</td>\n",
       "      <td>1 TB SSD/16 GBGB DDR4</td>\n",
       "      <td>NA</td>\n",
       "      <td>NA</td>\n",
       "      <td>NA</td>\n",
       "      <td>₹ 341,990</td>\n",
       "    </tr>\n",
       "    <tr>\n",
       "      <th>2</th>\n",
       "      <td>ASUS ROG STRIX SCAR 15</td>\n",
       "      <td>AMD Ryzen™ 9 5900HX | 3.3 GHz</td>\n",
       "      <td>1 TB SSD/16 GBGB DDR4</td>\n",
       "      <td>2.30</td>\n",
       "      <td>35.4 x 25.9 x 2.26</td>\n",
       "      <td>NVIDIA® GeForce RTX™ 3070</td>\n",
       "      <td>N/A</td>\n",
       "    </tr>\n",
       "    <tr>\n",
       "      <th>3</th>\n",
       "      <td>ASUS ROG ZEPHYRUS G14</td>\n",
       "      <td>AMD 3rd Generation Ryzen 9 | 3.3 GHz</td>\n",
       "      <td>1 TB SSD/16 GBGB DDR4</td>\n",
       "      <td>1.65</td>\n",
       "      <td>32.5 x 22.1 x 1.8</td>\n",
       "      <td>NVIDIA GeForce RTX 2060</td>\n",
       "      <td>₹ 164,990</td>\n",
       "    </tr>\n",
       "    <tr>\n",
       "      <th>4</th>\n",
       "      <td>LENOVO LEGION 5I</td>\n",
       "      <td>10th Generation Intel® Core™ i5-10300H | 2.50 GHz</td>\n",
       "      <td>1 TB SSD/16 GBGB DDR4</td>\n",
       "      <td>2.3</td>\n",
       "      <td>363.06 x 259.61 x 23.57</td>\n",
       "      <td>NVIDIA® GeForce® GTX 1650 4GB</td>\n",
       "      <td>₹ 76,988</td>\n",
       "    </tr>\n",
       "    <tr>\n",
       "      <th>5</th>\n",
       "      <td>ASUS ROG ZEPHYRUS DUO 15</td>\n",
       "      <td>Intel Core i7 10th Gen 10875H | NA</td>\n",
       "      <td>512 GB SSD/4 GBGB DDR4</td>\n",
       "      <td>2.4</td>\n",
       "      <td>268.30 x 360.00 x 20.90</td>\n",
       "      <td>NVIDIA GeForce RTX 2070 Max-Q</td>\n",
       "      <td>₹ 185,000</td>\n",
       "    </tr>\n",
       "    <tr>\n",
       "      <th>6</th>\n",
       "      <td>ACER ASPIRE 7 GAMING</td>\n",
       "      <td>AMD Ryzen™ 5-5500U hexa-core | NA</td>\n",
       "      <td>512 GB SSD/8 GBGB DDR4</td>\n",
       "      <td>2.15</td>\n",
       "      <td>2.29 x 36.3 x 25.4</td>\n",
       "      <td>NVIDIA® GeForce® GTX 1650</td>\n",
       "      <td>₹ 64,370</td>\n",
       "    </tr>\n",
       "  </tbody>\n",
       "</table>\n",
       "</div>"
      ],
      "text/plain": [
       "                       Name  \\\n",
       "0     ALIENWARE AREA 51M R2   \n",
       "1          ALIENWARE M15 R3   \n",
       "2    ASUS ROG STRIX SCAR 15   \n",
       "3     ASUS ROG ZEPHYRUS G14   \n",
       "4          LENOVO LEGION 5I   \n",
       "5  ASUS ROG ZEPHYRUS DUO 15   \n",
       "6      ACER ASPIRE 7 GAMING   \n",
       "\n",
       "                                           Processor                  Memory  \\\n",
       "0   10th Generation Intel® Core™ i7-10700 | 2.90 GHz   1 TB SSD/16 GBGB DDR4   \n",
       "1       10th Generation Intel® Core™ i9-10980HK | NA   1 TB SSD/16 GBGB DDR4   \n",
       "2                      AMD Ryzen™ 9 5900HX | 3.3 GHz   1 TB SSD/16 GBGB DDR4   \n",
       "3               AMD 3rd Generation Ryzen 9 | 3.3 GHz   1 TB SSD/16 GBGB DDR4   \n",
       "4  10th Generation Intel® Core™ i5-10300H | 2.50 GHz   1 TB SSD/16 GBGB DDR4   \n",
       "5                 Intel Core i7 10th Gen 10875H | NA  512 GB SSD/4 GBGB DDR4   \n",
       "6                  AMD Ryzen™ 5-5500U hexa-core | NA  512 GB SSD/8 GBGB DDR4   \n",
       "\n",
       "  Weight               Dimentions                       Graphics      Price  \n",
       "0    4.1   27.65 x 402.6 x 319.14        Intel® UHD Graphics 630        N/A  \n",
       "1     NA                       NA                             NA  ₹ 341,990  \n",
       "2   2.30       35.4 x 25.9 x 2.26      NVIDIA® GeForce RTX™ 3070        N/A  \n",
       "3   1.65        32.5 x 22.1 x 1.8        NVIDIA GeForce RTX 2060  ₹ 164,990  \n",
       "4    2.3  363.06 x 259.61 x 23.57  NVIDIA® GeForce® GTX 1650 4GB   ₹ 76,988  \n",
       "5    2.4  268.30 x 360.00 x 20.90  NVIDIA GeForce RTX 2070 Max-Q  ₹ 185,000  \n",
       "6   2.15       2.29 x 36.3 x 25.4      NVIDIA® GeForce® GTX 1650   ₹ 64,370  "
      ]
     },
     "execution_count": 701,
     "metadata": {},
     "output_type": "execute_result"
    }
   ],
   "source": [
    "Laptop_data"
   ]
  },
  {
   "cell_type": "markdown",
   "id": "dc05b734",
   "metadata": {},
   "source": [
    "### Answer 8"
   ]
  },
  {
   "cell_type": "code",
   "execution_count": 732,
   "id": "fed3d10e",
   "metadata": {},
   "outputs": [],
   "source": [
    "dr8=webdriver.Chrome(r'F:\\Python\\chromedriver.exe')\n",
    "u8='https://www.forbes.com/?sh=1f7288e72254'\n",
    "dr8.get(u8)"
   ]
  },
  {
   "cell_type": "code",
   "execution_count": 733,
   "id": "1bc3cf98",
   "metadata": {},
   "outputs": [],
   "source": [
    "dr8.maximize_window()"
   ]
  },
  {
   "cell_type": "code",
   "execution_count": 734,
   "id": "407a3447",
   "metadata": {},
   "outputs": [],
   "source": [
    "find=dr8.find_element_by_xpath('//div[@class=\"footer__nav\"]/a[2]').click()"
   ]
  },
  {
   "cell_type": "code",
   "execution_count": 735,
   "id": "c8e3f136",
   "metadata": {},
   "outputs": [],
   "source": [
    "find=dr8.find_element_by_xpath('//a[@class=\"chansec-special-feature__card card--blog\"]').click()"
   ]
  },
  {
   "cell_type": "code",
   "execution_count": 736,
   "id": "000882a5",
   "metadata": {},
   "outputs": [],
   "source": [
    "name=[]\n",
    "worth=[]\n",
    "age=[]\n",
    "country=[]\n",
    "source=[]\n",
    "industry=[]\n",
    "na=dr8.find_elements_by_xpath('//div[@class=\"personName\"]')\n",
    "for i in na:\n",
    "    name.append(i.text)\n",
    "wr=dr8.find_elements_by_xpath('//div[@class=\"netWorth\"]')\n",
    "for i in wr:\n",
    "    worth.append(i.text)\n",
    "ag=dr8.find_elements_by_xpath('//div[@class=\"age\"]')\n",
    "for i in ag:\n",
    "    age.append(i.text)\n",
    "cn=dr8.find_elements_by_xpath('//div[@class=\"countryOfCitizenship\"]')\n",
    "for i in cn:\n",
    "    country.append(i.text)\n",
    "sr=dr8.find_elements_by_xpath('//div[@class=\"source\"]')\n",
    "for i in sr:\n",
    "    source.append(i.text)\n",
    "inds=dr8.find_elements_by_xpath('//div[@class=\"category\"]')\n",
    "for i in inds:\n",
    "    industry.append(i.text)\n",
    "\n"
   ]
  },
  {
   "cell_type": "code",
   "execution_count": 739,
   "id": "92c5ae0f",
   "metadata": {},
   "outputs": [],
   "source": [
    "Billionaires_data=pd.DataFrame({'Name':name,'Net Worth':worth,'Age':age,'Country/Territory':country,\n",
    "                   'Source':source,'Industry':industry})"
   ]
  },
  {
   "cell_type": "code",
   "execution_count": 740,
   "id": "78ebe02c",
   "metadata": {
    "scrolled": false
   },
   "outputs": [
    {
     "data": {
      "text/html": [
       "<div>\n",
       "<style scoped>\n",
       "    .dataframe tbody tr th:only-of-type {\n",
       "        vertical-align: middle;\n",
       "    }\n",
       "\n",
       "    .dataframe tbody tr th {\n",
       "        vertical-align: top;\n",
       "    }\n",
       "\n",
       "    .dataframe thead th {\n",
       "        text-align: right;\n",
       "    }\n",
       "</style>\n",
       "<table border=\"1\" class=\"dataframe\">\n",
       "  <thead>\n",
       "    <tr style=\"text-align: right;\">\n",
       "      <th></th>\n",
       "      <th>Name</th>\n",
       "      <th>Net Worth</th>\n",
       "      <th>Age</th>\n",
       "      <th>Country/Territory</th>\n",
       "      <th>Source</th>\n",
       "      <th>Industry</th>\n",
       "    </tr>\n",
       "  </thead>\n",
       "  <tbody>\n",
       "    <tr>\n",
       "      <th>0</th>\n",
       "      <td>Jeff Bezos</td>\n",
       "      <td>$177 B</td>\n",
       "      <td>57</td>\n",
       "      <td>United States</td>\n",
       "      <td>Amazon</td>\n",
       "      <td>Technology</td>\n",
       "    </tr>\n",
       "    <tr>\n",
       "      <th>1</th>\n",
       "      <td>Elon Musk</td>\n",
       "      <td>$151 B</td>\n",
       "      <td>49</td>\n",
       "      <td>United States</td>\n",
       "      <td>Tesla, SpaceX</td>\n",
       "      <td>Automotive</td>\n",
       "    </tr>\n",
       "    <tr>\n",
       "      <th>2</th>\n",
       "      <td>Bernard Arnault &amp; family</td>\n",
       "      <td>$150 B</td>\n",
       "      <td>72</td>\n",
       "      <td>France</td>\n",
       "      <td>LVMH</td>\n",
       "      <td>Fashion &amp; Retail</td>\n",
       "    </tr>\n",
       "    <tr>\n",
       "      <th>3</th>\n",
       "      <td>Bill Gates</td>\n",
       "      <td>$124 B</td>\n",
       "      <td>65</td>\n",
       "      <td>United States</td>\n",
       "      <td>Microsoft</td>\n",
       "      <td>Technology</td>\n",
       "    </tr>\n",
       "    <tr>\n",
       "      <th>4</th>\n",
       "      <td>Mark Zuckerberg</td>\n",
       "      <td>$97 B</td>\n",
       "      <td>36</td>\n",
       "      <td>United States</td>\n",
       "      <td>Facebook</td>\n",
       "      <td>Technology</td>\n",
       "    </tr>\n",
       "    <tr>\n",
       "      <th>...</th>\n",
       "      <td>...</td>\n",
       "      <td>...</td>\n",
       "      <td>...</td>\n",
       "      <td>...</td>\n",
       "      <td>...</td>\n",
       "      <td>...</td>\n",
       "    </tr>\n",
       "    <tr>\n",
       "      <th>195</th>\n",
       "      <td>Harry Triguboff</td>\n",
       "      <td>$11.2 B</td>\n",
       "      <td>88</td>\n",
       "      <td>Australia</td>\n",
       "      <td>real estate</td>\n",
       "      <td>Real Estate</td>\n",
       "    </tr>\n",
       "    <tr>\n",
       "      <th>196</th>\n",
       "      <td>Leonid Fedun &amp; family</td>\n",
       "      <td>$11.1 B</td>\n",
       "      <td>65</td>\n",
       "      <td>Russia</td>\n",
       "      <td>oil</td>\n",
       "      <td>Energy</td>\n",
       "    </tr>\n",
       "    <tr>\n",
       "      <th>197</th>\n",
       "      <td>Eyal Ofer</td>\n",
       "      <td>$11.1 B</td>\n",
       "      <td>70</td>\n",
       "      <td>Israel</td>\n",
       "      <td>real estate, shipping</td>\n",
       "      <td>Diversified</td>\n",
       "    </tr>\n",
       "    <tr>\n",
       "      <th>198</th>\n",
       "      <td>Evan Spiegel</td>\n",
       "      <td>$11.1 B</td>\n",
       "      <td>30</td>\n",
       "      <td>United States</td>\n",
       "      <td>Snapchat</td>\n",
       "      <td>Technology</td>\n",
       "    </tr>\n",
       "    <tr>\n",
       "      <th>199</th>\n",
       "      <td>Luis Carlos Sarmiento</td>\n",
       "      <td>$11 B</td>\n",
       "      <td>88</td>\n",
       "      <td>Colombia</td>\n",
       "      <td>banking</td>\n",
       "      <td>Finance &amp; Investments</td>\n",
       "    </tr>\n",
       "  </tbody>\n",
       "</table>\n",
       "<p>200 rows × 6 columns</p>\n",
       "</div>"
      ],
      "text/plain": [
       "                         Name Net Worth Age Country/Territory  \\\n",
       "0                  Jeff Bezos    $177 B  57     United States   \n",
       "1                   Elon Musk    $151 B  49     United States   \n",
       "2    Bernard Arnault & family    $150 B  72            France   \n",
       "3                  Bill Gates    $124 B  65     United States   \n",
       "4             Mark Zuckerberg     $97 B  36     United States   \n",
       "..                        ...       ...  ..               ...   \n",
       "195           Harry Triguboff   $11.2 B  88         Australia   \n",
       "196     Leonid Fedun & family   $11.1 B  65            Russia   \n",
       "197                 Eyal Ofer   $11.1 B  70            Israel   \n",
       "198              Evan Spiegel   $11.1 B  30     United States   \n",
       "199     Luis Carlos Sarmiento     $11 B  88          Colombia   \n",
       "\n",
       "                    Source               Industry  \n",
       "0                   Amazon             Technology  \n",
       "1            Tesla, SpaceX             Automotive  \n",
       "2                     LVMH       Fashion & Retail  \n",
       "3                Microsoft             Technology  \n",
       "4                 Facebook             Technology  \n",
       "..                     ...                    ...  \n",
       "195            real estate            Real Estate  \n",
       "196                    oil                 Energy  \n",
       "197  real estate, shipping            Diversified  \n",
       "198               Snapchat             Technology  \n",
       "199                banking  Finance & Investments  \n",
       "\n",
       "[200 rows x 6 columns]"
      ]
     },
     "execution_count": 740,
     "metadata": {},
     "output_type": "execute_result"
    }
   ],
   "source": [
    "Billionaires_data"
   ]
  },
  {
   "cell_type": "markdown",
   "id": "72034e27",
   "metadata": {},
   "source": [
    "### Answer 9"
   ]
  },
  {
   "cell_type": "code",
   "execution_count": 759,
   "id": "40cd5e7f",
   "metadata": {},
   "outputs": [],
   "source": [
    "dr9=webdriver.Chrome(r'F:\\Python\\chromedriver.exe')\n",
    "u9='https://www.youtube.com/watch?v=aG8KWYko8VY'\n",
    "dr9.get(u9)"
   ]
  },
  {
   "cell_type": "code",
   "execution_count": 760,
   "id": "2461c69f",
   "metadata": {},
   "outputs": [],
   "source": [
    "dr9.maximize_window()"
   ]
  },
  {
   "cell_type": "code",
   "execution_count": 779,
   "id": "a0c7bc38",
   "metadata": {},
   "outputs": [],
   "source": [
    "page=dr9.find_element_by_tag_name('html')\n",
    "page.send_keys(Keys.END)"
   ]
  },
  {
   "cell_type": "code",
   "execution_count": 808,
   "id": "355264cc",
   "metadata": {},
   "outputs": [],
   "source": [
    "#for scrolling window\n",
    "comnt=dr9.find_elements_by_xpath('//yt-formatted-string[@id=\"content-text\"]')\n",
    "dr9.execute_script(\"window.scrollBy(0,5000000,)\",\"\")"
   ]
  },
  {
   "cell_type": "code",
   "execution_count": 809,
   "id": "9393c635",
   "metadata": {},
   "outputs": [],
   "source": [
    "comment=[]\n",
    "for i in comnt:\n",
    "    comment.append(i.text)"
   ]
  },
  {
   "cell_type": "code",
   "execution_count": 817,
   "id": "380c1ab5",
   "metadata": {},
   "outputs": [
    {
     "data": {
      "text/plain": [
       "500"
      ]
     },
     "execution_count": 817,
     "metadata": {},
     "output_type": "execute_result"
    }
   ],
   "source": [
    "len(comment)\n",
    "comm=comment[:500]\n",
    "len(comm)"
   ]
  },
  {
   "cell_type": "code",
   "execution_count": 815,
   "id": "233be601",
   "metadata": {},
   "outputs": [
    {
     "data": {
      "text/plain": [
       "580"
      ]
     },
     "execution_count": 815,
     "metadata": {},
     "output_type": "execute_result"
    }
   ],
   "source": [
    "upv=dr9.find_elements_by_xpath('//span[@id=\"vote-count-middle\"] ')\n",
    "upvote=[]\n",
    "for i in upv:\n",
    "    upvote.append(i.text)\n",
    "len(upvote)  \n",
    "upvt=upvote[:500]\n",
    "len(upvt)"
   ]
  },
  {
   "cell_type": "code",
   "execution_count": 818,
   "id": "2c3c1ddf",
   "metadata": {},
   "outputs": [
    {
     "data": {
      "text/plain": [
       "500"
      ]
     },
     "execution_count": 818,
     "metadata": {},
     "output_type": "execute_result"
    }
   ],
   "source": [
    "upvt=upvote[:500]\n",
    "len(upvt)"
   ]
  },
  {
   "cell_type": "code",
   "execution_count": 819,
   "id": "00f9daa1",
   "metadata": {},
   "outputs": [
    {
     "data": {
      "text/plain": [
       "580"
      ]
     },
     "execution_count": 819,
     "metadata": {},
     "output_type": "execute_result"
    }
   ],
   "source": [
    "ctim=dr9.find_elements_by_xpath('//yt-formatted-string[@class=\"published-time-text above-comment style-scope ytd-comment-renderer\"]/a')\n",
    "comtim=[]\n",
    "for i in ctim:\n",
    "    comtim.append(i.text)\n",
    "len(comtim)  \n",
    "comtm=comtim[:500]"
   ]
  },
  {
   "cell_type": "code",
   "execution_count": 820,
   "id": "003cd322",
   "metadata": {},
   "outputs": [
    {
     "data": {
      "text/plain": [
       "500"
      ]
     },
     "execution_count": 820,
     "metadata": {},
     "output_type": "execute_result"
    }
   ],
   "source": [
    "comtm=comtim[:500]\n",
    "len(comtm)"
   ]
  },
  {
   "cell_type": "code",
   "execution_count": 822,
   "id": "db605829",
   "metadata": {},
   "outputs": [],
   "source": [
    "yutube_data=pd.DataFrame({'Comments':comm,'Up Vote for comments':upvt,'Comment Psot':comtm})"
   ]
  },
  {
   "cell_type": "code",
   "execution_count": 823,
   "id": "14083814",
   "metadata": {},
   "outputs": [
    {
     "data": {
      "text/html": [
       "<div>\n",
       "<style scoped>\n",
       "    .dataframe tbody tr th:only-of-type {\n",
       "        vertical-align: middle;\n",
       "    }\n",
       "\n",
       "    .dataframe tbody tr th {\n",
       "        vertical-align: top;\n",
       "    }\n",
       "\n",
       "    .dataframe thead th {\n",
       "        text-align: right;\n",
       "    }\n",
       "</style>\n",
       "<table border=\"1\" class=\"dataframe\">\n",
       "  <thead>\n",
       "    <tr style=\"text-align: right;\">\n",
       "      <th></th>\n",
       "      <th>Comments</th>\n",
       "      <th>Up Vote for comments</th>\n",
       "      <th>Comment Psot</th>\n",
       "    </tr>\n",
       "  </thead>\n",
       "  <tbody>\n",
       "    <tr>\n",
       "      <th>0</th>\n",
       "      <td>This Series is an INSPIRATION for Students. It...</td>\n",
       "      <td>1.8K</td>\n",
       "      <td>1 week ago</td>\n",
       "    </tr>\n",
       "    <tr>\n",
       "      <th>1</th>\n",
       "      <td>Other OTT platforms- Let's corrupt the mind of...</td>\n",
       "      <td>1.1K</td>\n",
       "      <td>1 week ago</td>\n",
       "    </tr>\n",
       "    <tr>\n",
       "      <th>2</th>\n",
       "      <td>This black and white season didn't get coloure...</td>\n",
       "      <td>16</td>\n",
       "      <td>6 hours ago</td>\n",
       "    </tr>\n",
       "    <tr>\n",
       "      <th>3</th>\n",
       "      <td>Not only in kota struggle can be seen in every...</td>\n",
       "      <td>90</td>\n",
       "      <td>3 days ago</td>\n",
       "    </tr>\n",
       "    <tr>\n",
       "      <th>4</th>\n",
       "      <td>It was so so Amazing. The cinematography, the ...</td>\n",
       "      <td>10</td>\n",
       "      <td>3 hours ago</td>\n",
       "    </tr>\n",
       "    <tr>\n",
       "      <th>...</th>\n",
       "      <td>...</td>\n",
       "      <td>...</td>\n",
       "      <td>...</td>\n",
       "    </tr>\n",
       "    <tr>\n",
       "      <th>495</th>\n",
       "      <td>\"Tough battle ladne me confidence aata hai lif...</td>\n",
       "      <td>84</td>\n",
       "      <td>2 weeks ago</td>\n",
       "    </tr>\n",
       "    <tr>\n",
       "      <th>496</th>\n",
       "      <td>I was wondering how much money did netflix giv...</td>\n",
       "      <td>1</td>\n",
       "      <td>1 week ago</td>\n",
       "    </tr>\n",
       "    <tr>\n",
       "      <th>497</th>\n",
       "      <td>Let me tell you the person with jeetu bhaiya i...</td>\n",
       "      <td></td>\n",
       "      <td>1 week ago</td>\n",
       "    </tr>\n",
       "    <tr>\n",
       "      <th>498</th>\n",
       "      <td>Yrr aspirants me sandeep bhaiya aur Kota facto...</td>\n",
       "      <td></td>\n",
       "      <td>1 week ago</td>\n",
       "    </tr>\n",
       "    <tr>\n",
       "      <th>499</th>\n",
       "      <td>👉 Toppers kabhi late start nahi karte. Big lie...</td>\n",
       "      <td></td>\n",
       "      <td>2 days ago</td>\n",
       "    </tr>\n",
       "  </tbody>\n",
       "</table>\n",
       "<p>500 rows × 3 columns</p>\n",
       "</div>"
      ],
      "text/plain": [
       "                                              Comments Up Vote for comments  \\\n",
       "0    This Series is an INSPIRATION for Students. It...                 1.8K   \n",
       "1    Other OTT platforms- Let's corrupt the mind of...                 1.1K   \n",
       "2    This black and white season didn't get coloure...                   16   \n",
       "3    Not only in kota struggle can be seen in every...                   90   \n",
       "4    It was so so Amazing. The cinematography, the ...                   10   \n",
       "..                                                 ...                  ...   \n",
       "495  \"Tough battle ladne me confidence aata hai lif...                   84   \n",
       "496  I was wondering how much money did netflix giv...                    1   \n",
       "497  Let me tell you the person with jeetu bhaiya i...                        \n",
       "498  Yrr aspirants me sandeep bhaiya aur Kota facto...                        \n",
       "499  👉 Toppers kabhi late start nahi karte. Big lie...                        \n",
       "\n",
       "    Comment Psot  \n",
       "0     1 week ago  \n",
       "1     1 week ago  \n",
       "2    6 hours ago  \n",
       "3     3 days ago  \n",
       "4    3 hours ago  \n",
       "..           ...  \n",
       "495  2 weeks ago  \n",
       "496   1 week ago  \n",
       "497   1 week ago  \n",
       "498   1 week ago  \n",
       "499   2 days ago  \n",
       "\n",
       "[500 rows x 3 columns]"
      ]
     },
     "execution_count": 823,
     "metadata": {},
     "output_type": "execute_result"
    }
   ],
   "source": [
    "yutube_data"
   ]
  },
  {
   "cell_type": "markdown",
   "id": "9970c46a",
   "metadata": {},
   "source": [
    "### Answer 10"
   ]
  },
  {
   "cell_type": "code",
   "execution_count": 11,
   "id": "6e07846a",
   "metadata": {},
   "outputs": [],
   "source": [
    "dr10=webdriver.Chrome(r'F:\\Python\\chromedriver.exe')\n",
    "u10='https://www.hostelworld.com/'\n",
    "dr10.get(u10)\n",
    "time.sleep(1)\n",
    "dr10.maximize_window()"
   ]
  },
  {
   "cell_type": "code",
   "execution_count": 19,
   "id": "2d2bfe7b",
   "metadata": {},
   "outputs": [],
   "source": [
    "srch=dr10.find_element_by_id('location-text-input-field').click()"
   ]
  },
  {
   "cell_type": "code",
   "execution_count": 26,
   "id": "0ffdcd84",
   "metadata": {},
   "outputs": [],
   "source": [
    "find1=dr10.find_element_by_xpath('//div[@class=\"search\"]//input')"
   ]
  },
  {
   "cell_type": "code",
   "execution_count": 27,
   "id": "82e3ed4d",
   "metadata": {},
   "outputs": [],
   "source": [
    "find1.send_keys('London')"
   ]
  },
  {
   "cell_type": "code",
   "execution_count": 28,
   "id": "a9a778c3",
   "metadata": {},
   "outputs": [],
   "source": [
    "a=dr10.find_element_by_xpath('//ul[@id=\"predicted-search-results\"]/li[2]/div').click()"
   ]
  },
  {
   "cell_type": "code",
   "execution_count": 29,
   "id": "419868dd",
   "metadata": {},
   "outputs": [],
   "source": [
    "btn=dr10.find_element_by_id('search-button').click()"
   ]
  },
  {
   "cell_type": "code",
   "execution_count": 327,
   "id": "a263b1d2",
   "metadata": {},
   "outputs": [],
   "source": [
    "name=[]\n",
    "location=[]\n",
    "rating=[]\n",
    "total_rev=[]\n",
    "all_rev=[]\n",
    "link=[]\n",
    "pric=[]\n",
    "for i in range(1,4):\n",
    "    pg='https://www.hostelworld.com/s?q=London,%20England&country=England&city=London&type=city&id=3&from=2021-09-26&to=2021-09-29&guests=2&page=0'+str(i)\n",
    "    dr10.get(pg)\n",
    "    time.sleep(10)\n",
    "    nam=dr10.find_elements_by_xpath('//h2[@class=\"title title-6\"]')\n",
    "    loc=dr10.find_elements_by_xpath('//div[@class=\"subtitle body-3\"]/a/span[1]')\n",
    "    rat=dr10.find_elements_by_xpath('//div[@class=\"rating rating-summary-container big\"]')\n",
    "    lnk=dr10.find_elements_by_xpath('//h2[@class=\"title title-6\"]//a[1]')\n",
    "    rev=dr10.find_elements_by_xpath('//div[@class=\"keyword\"]/span[1]')\n",
    "    rev1=dr10.find_elements_by_xpath('//div[@class=\"reviews\"]')\n",
    "    prc=dr10.find_elements_by_xpath('//div[@class=\"prices-col\"]//a[1]')\n",
    "    for i in nam:\n",
    "        name.append(i.text)\n",
    "    for i in loc:\n",
    "        location.append(i.text)\n",
    "    for i in rat:\n",
    "        try:\n",
    "            rating.append(i.text.split('\\n'))\n",
    "        except:\n",
    "            rating.append('--')\n",
    "    for i in lnk:\n",
    "        link.append(i.get_attribute('href'))\n",
    "    for i in rev:\n",
    "        all_rev.append(i.text)\n",
    "    for i in rev1:\n",
    "        total_rev.append(i.text)\n",
    "    for i in prc:\n",
    "        pric.append(i.text.replace('From\\n',' ').split('\\n'))"
   ]
  },
  {
   "cell_type": "code",
   "execution_count": 339,
   "id": "269a5e85",
   "metadata": {},
   "outputs": [],
   "source": [
    "all_rev1=all_rev[:80]"
   ]
  },
  {
   "cell_type": "code",
   "execution_count": 332,
   "id": "52e5f815",
   "metadata": {},
   "outputs": [],
   "source": [
    "rating1=[item[0] for item in rating]"
   ]
  },
  {
   "cell_type": "code",
   "execution_count": 333,
   "id": "e1914869",
   "metadata": {},
   "outputs": [
    {
     "data": {
      "text/plain": [
       "80"
      ]
     },
     "execution_count": 333,
     "metadata": {},
     "output_type": "execute_result"
    }
   ],
   "source": [
    "d_pr=[item[1] for item in pric]\n",
    "len(d_pr)"
   ]
  },
  {
   "cell_type": "code",
   "execution_count": 313,
   "id": "995aa144",
   "metadata": {},
   "outputs": [],
   "source": [
    "p_pr=[item[0] for item in pric]"
   ]
  },
  {
   "cell_type": "code",
   "execution_count": 315,
   "id": "7cab9f44",
   "metadata": {},
   "outputs": [
    {
     "data": {
      "text/plain": [
       "80"
      ]
     },
     "execution_count": 315,
     "metadata": {},
     "output_type": "execute_result"
    }
   ],
   "source": [
    "len(link)"
   ]
  },
  {
   "cell_type": "code",
   "execution_count": 316,
   "id": "2ca7743a",
   "metadata": {},
   "outputs": [],
   "source": [
    "prty=[]\n",
    "for i in link:\n",
    "    dr10.get(i)\n",
    "    time.sleep(2)\n",
    "    try:\n",
    "        prt=dr10.find_element_by_xpath('//div[@class=\"content collapse-content\"]')\n",
    "        prty.append(prt.text)\n",
    "    except:\n",
    "        prty.append('--')\n"
   ]
  },
  {
   "cell_type": "code",
   "execution_count": 317,
   "id": "7aaf9274",
   "metadata": {},
   "outputs": [
    {
     "data": {
      "text/plain": [
       "80"
      ]
     },
     "execution_count": 317,
     "metadata": {},
     "output_type": "execute_result"
    }
   ],
   "source": [
    "len(prty)"
   ]
  },
  {
   "cell_type": "code",
   "execution_count": 341,
   "id": "e7918796",
   "metadata": {},
   "outputs": [],
   "source": [
    "Hotels_data=pd.DataFrame({'Name':name,'Locatiob from city':location,'Ratings':rating,\n",
    "                         \"Total review\":total_rev,'Overall review':all_rev1,'Private price':p_pr,\n",
    "                         'Dorm price':d_pr,'Property and facility':prty})"
   ]
  },
  {
   "cell_type": "code",
   "execution_count": 342,
   "id": "9597df53",
   "metadata": {},
   "outputs": [
    {
     "data": {
      "text/html": [
       "<div>\n",
       "<style scoped>\n",
       "    .dataframe tbody tr th:only-of-type {\n",
       "        vertical-align: middle;\n",
       "    }\n",
       "\n",
       "    .dataframe tbody tr th {\n",
       "        vertical-align: top;\n",
       "    }\n",
       "\n",
       "    .dataframe thead th {\n",
       "        text-align: right;\n",
       "    }\n",
       "</style>\n",
       "<table border=\"1\" class=\"dataframe\">\n",
       "  <thead>\n",
       "    <tr style=\"text-align: right;\">\n",
       "      <th></th>\n",
       "      <th>Name</th>\n",
       "      <th>Locatiob from city</th>\n",
       "      <th>Ratings</th>\n",
       "      <th>Total review</th>\n",
       "      <th>Overall review</th>\n",
       "      <th>Private price</th>\n",
       "      <th>Dorm price</th>\n",
       "      <th>Property and facility</th>\n",
       "    </tr>\n",
       "  </thead>\n",
       "  <tbody>\n",
       "    <tr>\n",
       "      <th>0</th>\n",
       "      <td>PubLove @ The Rose &amp; Crown</td>\n",
       "      <td>Hostel - 1.6km from city centre</td>\n",
       "      <td>[7.9, Very Good, 101 Total Reviews]</td>\n",
       "      <td>101 Total Reviews</td>\n",
       "      <td>Fabulous</td>\n",
       "      <td>Privates  Rs5732</td>\n",
       "      <td>Dorms  Rs1651</td>\n",
       "      <td>COVID-19 Policy Update\\n\\nIn response to Coron...</td>\n",
       "    </tr>\n",
       "    <tr>\n",
       "      <th>1</th>\n",
       "      <td>The Finnish Church in London</td>\n",
       "      <td>Hostel - 4.5km from city centre</td>\n",
       "      <td>[10, Superb, 190 Total Reviews]</td>\n",
       "      <td>190 Total Reviews</td>\n",
       "      <td>Fabulous</td>\n",
       "      <td>Privates  Rs6268</td>\n",
       "      <td>Dorms  Rs2638</td>\n",
       "      <td>The Badger is unique for London in that we hav...</td>\n",
       "    </tr>\n",
       "    <tr>\n",
       "      <th>2</th>\n",
       "      <td>Saint James Backpackers</td>\n",
       "      <td>Hostel - 5.5km from city centre</td>\n",
       "      <td>[7.4, Very Good, 1763 Total Reviews]</td>\n",
       "      <td>1763 Total Reviews</td>\n",
       "      <td>Superb</td>\n",
       "      <td>Privates  Rs8726</td>\n",
       "      <td>Dorms  Rs2401</td>\n",
       "      <td>Wombat's The City Hostel London is definitely ...</td>\n",
       "    </tr>\n",
       "    <tr>\n",
       "      <th>3</th>\n",
       "      <td>PubLove @ The Green Man, Paddington</td>\n",
       "      <td>Hostel - 4.3km from city centre</td>\n",
       "      <td>[6.2, Good, 394 Total Reviews]</td>\n",
       "      <td>394 Total Reviews</td>\n",
       "      <td>Very Good</td>\n",
       "      <td>Privates  Rs8786</td>\n",
       "      <td>Dorms  Rs1550</td>\n",
       "      <td>The hostel is housed in a historic building in...</td>\n",
       "    </tr>\n",
       "    <tr>\n",
       "      <th>4</th>\n",
       "      <td>Mornington Camden</td>\n",
       "      <td>Hostel - 4.1km from city centre</td>\n",
       "      <td>[10, Superb, 41 Total Reviews]</td>\n",
       "      <td>41 Total Reviews</td>\n",
       "      <td>Superb</td>\n",
       "      <td>Privates  Rs7683</td>\n",
       "      <td>Dorms  Rs3169</td>\n",
       "      <td>COVID 19 Policy Update.\\nIn response to Corona...</td>\n",
       "    </tr>\n",
       "    <tr>\n",
       "      <th>...</th>\n",
       "      <td>...</td>\n",
       "      <td>...</td>\n",
       "      <td>...</td>\n",
       "      <td>...</td>\n",
       "      <td>...</td>\n",
       "      <td>...</td>\n",
       "      <td>...</td>\n",
       "      <td>...</td>\n",
       "    </tr>\n",
       "    <tr>\n",
       "      <th>75</th>\n",
       "      <td>Victor Hotel</td>\n",
       "      <td>Hotel - 1.8km from city centre</td>\n",
       "      <td>[No Rating, 2 Total Reviews]</td>\n",
       "      <td>2 Total Reviews</td>\n",
       "      <td>Very Good</td>\n",
       "      <td>Privates  Rs12832</td>\n",
       "      <td>No Dorms Available</td>\n",
       "      <td>--</td>\n",
       "    </tr>\n",
       "    <tr>\n",
       "      <th>76</th>\n",
       "      <td>Best Western Boltons London Kensington</td>\n",
       "      <td>Hotel - 5.4km from city centre</td>\n",
       "      <td>[2.0, Rating, 2 Total Reviews]</td>\n",
       "      <td>2 Total Reviews</td>\n",
       "      <td>Very Good</td>\n",
       "      <td>Privates  Rs14832</td>\n",
       "      <td>No Dorms Available</td>\n",
       "      <td>Combining Victorian charm with Modern Luxury T...</td>\n",
       "    </tr>\n",
       "    <tr>\n",
       "      <th>77</th>\n",
       "      <td>Park Hotel Essex</td>\n",
       "      <td>Hotel - 24.1km from city centre</td>\n",
       "      <td>[No Rating, 108 Total Reviews]</td>\n",
       "      <td>108 Total Reviews</td>\n",
       "      <td>Superb</td>\n",
       "      <td>Privates  Rs4751</td>\n",
       "      <td>No Dorms Available</td>\n",
       "      <td>This Hotel is the right choice for visitors wh...</td>\n",
       "    </tr>\n",
       "    <tr>\n",
       "      <th>78</th>\n",
       "      <td>Cranbrook Hotel</td>\n",
       "      <td>Hotel - 14.8km from city centre</td>\n",
       "      <td>[No Rating, 58 Total Reviews]</td>\n",
       "      <td>58 Total Reviews</td>\n",
       "      <td>No Rating</td>\n",
       "      <td>Privates  Rs4650</td>\n",
       "      <td>No Dorms Available</td>\n",
       "      <td>We are located about twenty minutes by tube fr...</td>\n",
       "    </tr>\n",
       "    <tr>\n",
       "      <th>79</th>\n",
       "      <td>St. Athans</td>\n",
       "      <td>Bed and Breakfast - 2.9km from city centre</td>\n",
       "      <td>[7.6, Very Good, 236 Total Reviews]</td>\n",
       "      <td>236 Total Reviews</td>\n",
       "      <td>Rating</td>\n",
       "      <td>Privates  Rs6470</td>\n",
       "      <td>No Dorms Available</td>\n",
       "      <td>The St Athans Hotel is a proudly simple, famil...</td>\n",
       "    </tr>\n",
       "  </tbody>\n",
       "</table>\n",
       "<p>80 rows × 8 columns</p>\n",
       "</div>"
      ],
      "text/plain": [
       "                                      Name  \\\n",
       "0               PubLove @ The Rose & Crown   \n",
       "1             The Finnish Church in London   \n",
       "2                  Saint James Backpackers   \n",
       "3      PubLove @ The Green Man, Paddington   \n",
       "4                        Mornington Camden   \n",
       "..                                     ...   \n",
       "75                            Victor Hotel   \n",
       "76  Best Western Boltons London Kensington   \n",
       "77                        Park Hotel Essex   \n",
       "78                         Cranbrook Hotel   \n",
       "79                              St. Athans   \n",
       "\n",
       "                            Locatiob from city  \\\n",
       "0              Hostel - 1.6km from city centre   \n",
       "1              Hostel - 4.5km from city centre   \n",
       "2              Hostel - 5.5km from city centre   \n",
       "3              Hostel - 4.3km from city centre   \n",
       "4              Hostel - 4.1km from city centre   \n",
       "..                                         ...   \n",
       "75              Hotel - 1.8km from city centre   \n",
       "76              Hotel - 5.4km from city centre   \n",
       "77             Hotel - 24.1km from city centre   \n",
       "78             Hotel - 14.8km from city centre   \n",
       "79  Bed and Breakfast - 2.9km from city centre   \n",
       "\n",
       "                                 Ratings        Total review Overall review  \\\n",
       "0    [7.9, Very Good, 101 Total Reviews]   101 Total Reviews       Fabulous   \n",
       "1        [10, Superb, 190 Total Reviews]   190 Total Reviews       Fabulous   \n",
       "2   [7.4, Very Good, 1763 Total Reviews]  1763 Total Reviews         Superb   \n",
       "3         [6.2, Good, 394 Total Reviews]   394 Total Reviews      Very Good   \n",
       "4         [10, Superb, 41 Total Reviews]    41 Total Reviews         Superb   \n",
       "..                                   ...                 ...            ...   \n",
       "75          [No Rating, 2 Total Reviews]     2 Total Reviews      Very Good   \n",
       "76        [2.0, Rating, 2 Total Reviews]     2 Total Reviews      Very Good   \n",
       "77        [No Rating, 108 Total Reviews]   108 Total Reviews         Superb   \n",
       "78         [No Rating, 58 Total Reviews]    58 Total Reviews      No Rating   \n",
       "79   [7.6, Very Good, 236 Total Reviews]   236 Total Reviews         Rating   \n",
       "\n",
       "        Private price          Dorm price  \\\n",
       "0    Privates  Rs5732       Dorms  Rs1651   \n",
       "1    Privates  Rs6268       Dorms  Rs2638   \n",
       "2    Privates  Rs8726       Dorms  Rs2401   \n",
       "3    Privates  Rs8786       Dorms  Rs1550   \n",
       "4    Privates  Rs7683       Dorms  Rs3169   \n",
       "..                ...                 ...   \n",
       "75  Privates  Rs12832  No Dorms Available   \n",
       "76  Privates  Rs14832  No Dorms Available   \n",
       "77   Privates  Rs4751  No Dorms Available   \n",
       "78   Privates  Rs4650  No Dorms Available   \n",
       "79   Privates  Rs6470  No Dorms Available   \n",
       "\n",
       "                                Property and facility  \n",
       "0   COVID-19 Policy Update\\n\\nIn response to Coron...  \n",
       "1   The Badger is unique for London in that we hav...  \n",
       "2   Wombat's The City Hostel London is definitely ...  \n",
       "3   The hostel is housed in a historic building in...  \n",
       "4   COVID 19 Policy Update.\\nIn response to Corona...  \n",
       "..                                                ...  \n",
       "75                                                 --  \n",
       "76  Combining Victorian charm with Modern Luxury T...  \n",
       "77  This Hotel is the right choice for visitors wh...  \n",
       "78  We are located about twenty minutes by tube fr...  \n",
       "79  The St Athans Hotel is a proudly simple, famil...  \n",
       "\n",
       "[80 rows x 8 columns]"
      ]
     },
     "execution_count": 342,
     "metadata": {},
     "output_type": "execute_result"
    }
   ],
   "source": [
    "Hotels_data"
   ]
  },
  {
   "cell_type": "code",
   "execution_count": null,
   "id": "69239a2f",
   "metadata": {},
   "outputs": [],
   "source": []
  }
 ],
 "metadata": {
  "kernelspec": {
   "display_name": "Python 3",
   "language": "python",
   "name": "python3"
  },
  "language_info": {
   "codemirror_mode": {
    "name": "ipython",
    "version": 3
   },
   "file_extension": ".py",
   "mimetype": "text/x-python",
   "name": "python",
   "nbconvert_exporter": "python",
   "pygments_lexer": "ipython3",
   "version": "3.8.8"
  }
 },
 "nbformat": 4,
 "nbformat_minor": 5
}
