{
 "cells": [
  {
   "cell_type": "code",
   "execution_count": 1,
   "id": "2501d9dd",
   "metadata": {},
   "outputs": [],
   "source": [
    "#!pip install selenium"
   ]
  },
  {
   "cell_type": "code",
   "execution_count": 1,
   "id": "a561f354",
   "metadata": {},
   "outputs": [],
   "source": [
    "import selenium\n",
    "import pandas as pd\n",
    "from selenium import webdriver\n",
    "import time"
   ]
  },
  {
   "cell_type": "code",
   "execution_count": 3,
   "id": "f6b4bcdc",
   "metadata": {},
   "outputs": [
    {
     "data": {
      "text/plain": [
       "<selenium.webdriver.chrome.webdriver.WebDriver (session=\"93b81a3083ba150e4ebf14b7b85ff2d4\")>"
      ]
     },
     "execution_count": 3,
     "metadata": {},
     "output_type": "execute_result"
    }
   ],
   "source": [
    "driver=webdriver.Chrome(r\"F:\\Python\\chromedriver.exe\")\n",
    "driver"
   ]
  },
  {
   "cell_type": "markdown",
   "id": "56acccfc",
   "metadata": {},
   "source": [
    "# Answer 1"
   ]
  },
  {
   "cell_type": "code",
   "execution_count": 4,
   "id": "04dded34",
   "metadata": {},
   "outputs": [],
   "source": [
    "u1='https://www.naukri.com/'\n",
    "driver.get(u1)"
   ]
  },
  {
   "cell_type": "code",
   "execution_count": 5,
   "id": "6fed453c",
   "metadata": {},
   "outputs": [
    {
     "data": {
      "text/plain": [
       "<selenium.webdriver.remote.webelement.WebElement (session=\"93b81a3083ba150e4ebf14b7b85ff2d4\", element=\"c183371b-d47d-4d78-b25e-67476c97a9bc\")>"
      ]
     },
     "execution_count": 5,
     "metadata": {},
     "output_type": "execute_result"
    }
   ],
   "source": [
    "search_job=driver.find_element_by_name('keyword')\n",
    "search_job"
   ]
  },
  {
   "cell_type": "code",
   "execution_count": 6,
   "id": "1218bbfa",
   "metadata": {},
   "outputs": [],
   "source": [
    "search_job.send_keys('Data analyst')"
   ]
  },
  {
   "cell_type": "code",
   "execution_count": 7,
   "id": "037f7ed2",
   "metadata": {},
   "outputs": [],
   "source": [
    "#search_job.find_element_by_xpath('//input[@class=\"sugInp\"]')\n",
    "#search_job.send_keys('Data science')"
   ]
  },
  {
   "cell_type": "code",
   "execution_count": 8,
   "id": "a8737c89",
   "metadata": {},
   "outputs": [
    {
     "data": {
      "text/plain": [
       "<selenium.webdriver.remote.webelement.WebElement (session=\"93b81a3083ba150e4ebf14b7b85ff2d4\", element=\"a6b6925d-06f5-4696-b451-1213e6fe1d35\")>"
      ]
     },
     "execution_count": 8,
     "metadata": {},
     "output_type": "execute_result"
    }
   ],
   "source": [
    "search_location=driver.find_element_by_id('qsb-location-sugg')\n",
    "search_location"
   ]
  },
  {
   "cell_type": "code",
   "execution_count": 9,
   "id": "1b692469",
   "metadata": {},
   "outputs": [],
   "source": [
    "search_location.send_keys('Bangalore')"
   ]
  },
  {
   "cell_type": "code",
   "execution_count": 10,
   "id": "3c2beaa5",
   "metadata": {},
   "outputs": [
    {
     "data": {
      "text/plain": [
       "<selenium.webdriver.remote.webelement.WebElement (session=\"93b81a3083ba150e4ebf14b7b85ff2d4\", element=\"d25654a7-2231-494b-a5b6-640336eea09e\")>"
      ]
     },
     "execution_count": 10,
     "metadata": {},
     "output_type": "execute_result"
    }
   ],
   "source": [
    "search_button=driver.find_element_by_xpath('//button[@class=\"btn\"]')\n",
    "search_button"
   ]
  },
  {
   "cell_type": "code",
   "execution_count": 11,
   "id": "faa7a6ef",
   "metadata": {},
   "outputs": [],
   "source": [
    "search_button.click()"
   ]
  },
  {
   "cell_type": "code",
   "execution_count": 22,
   "id": "0d7a6edd",
   "metadata": {},
   "outputs": [],
   "source": [
    "title_tag=driver.find_elements_by_xpath('//a[@class=\"title fw500 ellipsis\"]')"
   ]
  },
  {
   "cell_type": "code",
   "execution_count": 23,
   "id": "ff80ec38",
   "metadata": {},
   "outputs": [
    {
     "name": "stdout",
     "output_type": "stream",
     "text": [
      "['Executive Data Analyst', 'Senior Data Analyst', 'Business Data Analyst - MIS & Reporting', 'Senior Data Analyst', 'Senior Data Analyst', 'Senior Data Analyst', 'Senior Data Analyst - Supporting Audits', 'SENIOR MARKETING DATA ANALYST', 'Data Analyst - Quantitative Support Team', 'Urgent Openings For Data Analysts.', 'Sr Data Analyst', 'Data AnalystData Source Engineer - SOQLSOSL', 'Data Analyst', 'SQL Data Analyst  Data Source', 'Business Data Analyst - AlteryxHadoop', 'Data Analyst', 'Senior Data Analyst', 'Senior Data Analyst', 'Data Analyst', 'Data Analyst']\n"
     ]
    }
   ],
   "source": [
    "time.sleep(5)\n",
    "job_title=[]\n",
    "for i in title_tag:\n",
    "    job_title.append(i.text.replace('/',''))\n",
    "print(job_title)    "
   ]
  },
  {
   "cell_type": "code",
   "execution_count": 20,
   "id": "72890650",
   "metadata": {},
   "outputs": [
    {
     "name": "stdout",
     "output_type": "stream",
     "text": [
      "['Gokaldas Exports Ltd', 'Virtusa Consulting Services Pvt Ltd', 'INTERTRUST GROUP', 'IDC Corporate', 'Flipkart', 'Flipkart', 'Visa Inc.', 'McAfee Software (India) Pvt. Ltd', 'TresVista Financial', 'Flipkart Internet Private Limited', 'Target Corporation India Pvt Ltd', 'Talent Placers', 'Sharechat', 'Capco Technologies Pvt Ltd', 'Talent Placers', 'Flipkart', 'Valgen Decision Technologies Pvt Ltd', 'Kwalee ltd.', 'COLLABERA', 'Virtusa Consulting Services Pvt Ltd']\n",
      "20\n"
     ]
    }
   ],
   "source": [
    "company_tag=driver.find_elements_by_xpath('//a[@class=\"subTitle ellipsis fleft\"]')\n",
    "company_name=[]\n",
    "for i in company_tag:\n",
    "    company_name.append(i.text.replace(',',''))\n",
    "print(company_name)   \n",
    "print(len(company_name))"
   ]
  },
  {
   "cell_type": "code",
   "execution_count": 19,
   "id": "e9ff3958",
   "metadata": {},
   "outputs": [
    {
     "name": "stdout",
     "output_type": "stream",
     "text": [
      "['Bangalore/Bengaluru', 'Hyderabad/Secunderabad Pune Gurgaon/Gurugram Chennai Bangalore/Bengaluru Mumbai (All Areas)\\n(WFH during Covid)', 'Mumbai Bangalore/Bengaluru', 'Bangalore/Bengaluru', 'Bangalore/Bengaluru', 'Bangalore/Bengaluru', 'Bangalore/Bengaluru', 'Bangalore/Bengaluru', 'Mumbai Pune Bangalore/Bengaluru', 'Bangalore/Bengaluru(Devarabeesana Halli)\\n(WFH during Covid)', 'Bangalore/Bengaluru', 'Bangalore/Bengaluru', 'Bangalore/Bengaluru', 'Bangalore/Bengaluru', 'Bangalore/Bengaluru', 'Bangalore/Bengaluru', 'Bangalore/Bengaluru', 'Bangalore/Bengaluru', 'Gurgaon/Gurugram Bangalore/Bengaluru Mumbai (All Areas)\\n(WFH during Covid)', 'Hyderabad/Secunderabad Pune Chennai Bangalore/Bengaluru\\n(WFH during Covid)']\n",
      "20\n"
     ]
    }
   ],
   "source": [
    "location_tag=driver.find_elements_by_xpath('//li[@class=\"fleft grey-text br2 placeHolderLi location\"]')\n",
    "job_location=[]\n",
    "for i in location_tag:\n",
    "    job_location.append(i.text.replace(',',''))\n",
    "print(job_location) \n",
    "print(len(job_location))"
   ]
  },
  {
   "cell_type": "code",
   "execution_count": 18,
   "id": "51038a5b",
   "metadata": {},
   "outputs": [
    {
     "name": "stdout",
     "output_type": "stream",
     "text": [
      "['0-3 Yrs', '8-12 Yrs', '3-8 Yrs', '3-6 Yrs', '2-3 Yrs', '3-8 Yrs', '8-13 Yrs', '3-7 Yrs', '0-1 Yrs', '1-6 Yrs', '6-11 Yrs', '2-7 Yrs', '1-2 Yrs', '5-8 Yrs', '5-8 Yrs', '1-2 Yrs', '5-7 Yrs', '5-10 Yrs', '2-5 Yrs', '5-10 Yrs']\n",
      "20\n"
     ]
    }
   ],
   "source": [
    "exp_tag=driver.find_elements_by_xpath('//li[@class=\"fleft grey-text br2 placeHolderLi experience\"]')\n",
    "experiance=[]\n",
    "for i in exp_tag:\n",
    "    experiance.append(i.text.replace(',',''))\n",
    "print(experiance)\n",
    "print(len(experiance))"
   ]
  },
  {
   "cell_type": "code",
   "execution_count": 24,
   "id": "6a4a0e17",
   "metadata": {},
   "outputs": [],
   "source": [
    "data_analyst=pd.DataFrame({'Job title':job_title,'Conpant name':company_name,'Job location':job_location,'Exp required':experiance})"
   ]
  },
  {
   "cell_type": "code",
   "execution_count": 25,
   "id": "f973586e",
   "metadata": {
    "scrolled": true
   },
   "outputs": [
    {
     "data": {
      "text/html": [
       "<div>\n",
       "<style scoped>\n",
       "    .dataframe tbody tr th:only-of-type {\n",
       "        vertical-align: middle;\n",
       "    }\n",
       "\n",
       "    .dataframe tbody tr th {\n",
       "        vertical-align: top;\n",
       "    }\n",
       "\n",
       "    .dataframe thead th {\n",
       "        text-align: right;\n",
       "    }\n",
       "</style>\n",
       "<table border=\"1\" class=\"dataframe\">\n",
       "  <thead>\n",
       "    <tr style=\"text-align: right;\">\n",
       "      <th></th>\n",
       "      <th>Job title</th>\n",
       "      <th>Conpant name</th>\n",
       "      <th>Job location</th>\n",
       "      <th>Exp required</th>\n",
       "    </tr>\n",
       "  </thead>\n",
       "  <tbody>\n",
       "    <tr>\n",
       "      <th>0</th>\n",
       "      <td>Executive Data Analyst</td>\n",
       "      <td>Gokaldas Exports Ltd</td>\n",
       "      <td>Bangalore/Bengaluru</td>\n",
       "      <td>0-3 Yrs</td>\n",
       "    </tr>\n",
       "    <tr>\n",
       "      <th>1</th>\n",
       "      <td>Senior Data Analyst</td>\n",
       "      <td>Virtusa Consulting Services Pvt Ltd</td>\n",
       "      <td>Hyderabad/Secunderabad Pune Gurgaon/Gurugram C...</td>\n",
       "      <td>8-12 Yrs</td>\n",
       "    </tr>\n",
       "    <tr>\n",
       "      <th>2</th>\n",
       "      <td>Business Data Analyst - MIS &amp; Reporting</td>\n",
       "      <td>INTERTRUST GROUP</td>\n",
       "      <td>Mumbai Bangalore/Bengaluru</td>\n",
       "      <td>3-8 Yrs</td>\n",
       "    </tr>\n",
       "    <tr>\n",
       "      <th>3</th>\n",
       "      <td>Senior Data Analyst</td>\n",
       "      <td>IDC Corporate</td>\n",
       "      <td>Bangalore/Bengaluru</td>\n",
       "      <td>3-6 Yrs</td>\n",
       "    </tr>\n",
       "    <tr>\n",
       "      <th>4</th>\n",
       "      <td>Senior Data Analyst</td>\n",
       "      <td>Flipkart</td>\n",
       "      <td>Bangalore/Bengaluru</td>\n",
       "      <td>2-3 Yrs</td>\n",
       "    </tr>\n",
       "    <tr>\n",
       "      <th>5</th>\n",
       "      <td>Senior Data Analyst</td>\n",
       "      <td>Flipkart</td>\n",
       "      <td>Bangalore/Bengaluru</td>\n",
       "      <td>3-8 Yrs</td>\n",
       "    </tr>\n",
       "    <tr>\n",
       "      <th>6</th>\n",
       "      <td>Senior Data Analyst - Supporting Audits</td>\n",
       "      <td>Visa Inc.</td>\n",
       "      <td>Bangalore/Bengaluru</td>\n",
       "      <td>8-13 Yrs</td>\n",
       "    </tr>\n",
       "    <tr>\n",
       "      <th>7</th>\n",
       "      <td>SENIOR MARKETING DATA ANALYST</td>\n",
       "      <td>McAfee Software (India) Pvt. Ltd</td>\n",
       "      <td>Bangalore/Bengaluru</td>\n",
       "      <td>3-7 Yrs</td>\n",
       "    </tr>\n",
       "    <tr>\n",
       "      <th>8</th>\n",
       "      <td>Data Analyst - Quantitative Support Team</td>\n",
       "      <td>TresVista Financial</td>\n",
       "      <td>Mumbai Pune Bangalore/Bengaluru</td>\n",
       "      <td>0-1 Yrs</td>\n",
       "    </tr>\n",
       "    <tr>\n",
       "      <th>9</th>\n",
       "      <td>Urgent Openings For Data Analysts.</td>\n",
       "      <td>Flipkart Internet Private Limited</td>\n",
       "      <td>Bangalore/Bengaluru(Devarabeesana Halli)\\n(WFH...</td>\n",
       "      <td>1-6 Yrs</td>\n",
       "    </tr>\n",
       "    <tr>\n",
       "      <th>10</th>\n",
       "      <td>Sr Data Analyst</td>\n",
       "      <td>Target Corporation India Pvt Ltd</td>\n",
       "      <td>Bangalore/Bengaluru</td>\n",
       "      <td>6-11 Yrs</td>\n",
       "    </tr>\n",
       "  </tbody>\n",
       "</table>\n",
       "</div>"
      ],
      "text/plain": [
       "                                   Job title  \\\n",
       "0                     Executive Data Analyst   \n",
       "1                        Senior Data Analyst   \n",
       "2    Business Data Analyst - MIS & Reporting   \n",
       "3                        Senior Data Analyst   \n",
       "4                        Senior Data Analyst   \n",
       "5                        Senior Data Analyst   \n",
       "6    Senior Data Analyst - Supporting Audits   \n",
       "7              SENIOR MARKETING DATA ANALYST   \n",
       "8   Data Analyst - Quantitative Support Team   \n",
       "9         Urgent Openings For Data Analysts.   \n",
       "10                           Sr Data Analyst   \n",
       "\n",
       "                           Conpant name  \\\n",
       "0                  Gokaldas Exports Ltd   \n",
       "1   Virtusa Consulting Services Pvt Ltd   \n",
       "2                      INTERTRUST GROUP   \n",
       "3                         IDC Corporate   \n",
       "4                              Flipkart   \n",
       "5                              Flipkart   \n",
       "6                             Visa Inc.   \n",
       "7      McAfee Software (India) Pvt. Ltd   \n",
       "8                   TresVista Financial   \n",
       "9     Flipkart Internet Private Limited   \n",
       "10     Target Corporation India Pvt Ltd   \n",
       "\n",
       "                                         Job location Exp required  \n",
       "0                                 Bangalore/Bengaluru      0-3 Yrs  \n",
       "1   Hyderabad/Secunderabad Pune Gurgaon/Gurugram C...     8-12 Yrs  \n",
       "2                          Mumbai Bangalore/Bengaluru      3-8 Yrs  \n",
       "3                                 Bangalore/Bengaluru      3-6 Yrs  \n",
       "4                                 Bangalore/Bengaluru      2-3 Yrs  \n",
       "5                                 Bangalore/Bengaluru      3-8 Yrs  \n",
       "6                                 Bangalore/Bengaluru     8-13 Yrs  \n",
       "7                                 Bangalore/Bengaluru      3-7 Yrs  \n",
       "8                     Mumbai Pune Bangalore/Bengaluru      0-1 Yrs  \n",
       "9   Bangalore/Bengaluru(Devarabeesana Halli)\\n(WFH...      1-6 Yrs  \n",
       "10                                Bangalore/Bengaluru     6-11 Yrs  "
      ]
     },
     "execution_count": 25,
     "metadata": {},
     "output_type": "execute_result"
    }
   ],
   "source": [
    "data_analyst[:11]"
   ]
  },
  {
   "cell_type": "markdown",
   "id": "815e0437",
   "metadata": {},
   "source": [
    "# Answer 2"
   ]
  },
  {
   "cell_type": "code",
   "execution_count": 184,
   "id": "a9dc988c",
   "metadata": {},
   "outputs": [
    {
     "data": {
      "text/plain": [
       "<selenium.webdriver.chrome.webdriver.WebDriver (session=\"217e7d850c5d4897a463a603a4e323a1\")>"
      ]
     },
     "execution_count": 184,
     "metadata": {},
     "output_type": "execute_result"
    }
   ],
   "source": [
    "driver1=webdriver.Chrome(r\"F:\\Python\\chromedriver.exe\")\n",
    "driver1"
   ]
  },
  {
   "cell_type": "code",
   "execution_count": 185,
   "id": "46810dd4",
   "metadata": {},
   "outputs": [],
   "source": [
    "u2='https://www.naukri.com/'\n",
    "driver1.get(u2)"
   ]
  },
  {
   "cell_type": "code",
   "execution_count": 186,
   "id": "8eebdb15",
   "metadata": {},
   "outputs": [
    {
     "data": {
      "text/plain": [
       "<selenium.webdriver.remote.webelement.WebElement (session=\"217e7d850c5d4897a463a603a4e323a1\", element=\"3240291e-e0cc-40b4-9716-1a1f78adce35\")>"
      ]
     },
     "execution_count": 186,
     "metadata": {},
     "output_type": "execute_result"
    }
   ],
   "source": [
    "job_search=driver1.find_element_by_name('keyword')\n",
    "job_search"
   ]
  },
  {
   "cell_type": "code",
   "execution_count": 187,
   "id": "979f87d9",
   "metadata": {},
   "outputs": [],
   "source": [
    "job_search.send_keys('Data scientist')"
   ]
  },
  {
   "cell_type": "code",
   "execution_count": 188,
   "id": "55ef40d1",
   "metadata": {
    "scrolled": true
   },
   "outputs": [
    {
     "data": {
      "text/plain": [
       "<selenium.webdriver.remote.webelement.WebElement (session=\"217e7d850c5d4897a463a603a4e323a1\", element=\"ae4549f6-6879-46b0-8b46-e934bc0986f0\")>"
      ]
     },
     "execution_count": 188,
     "metadata": {},
     "output_type": "execute_result"
    }
   ],
   "source": [
    "search_loc=driver1.find_element_by_id('qsb-location-sugg')\n",
    "search_loc"
   ]
  },
  {
   "cell_type": "code",
   "execution_count": 189,
   "id": "e8276374",
   "metadata": {},
   "outputs": [],
   "source": [
    "search_loc.send_keys('Bangalore')"
   ]
  },
  {
   "cell_type": "code",
   "execution_count": 190,
   "id": "bd8fd96a",
   "metadata": {},
   "outputs": [
    {
     "data": {
      "text/plain": [
       "<selenium.webdriver.remote.webelement.WebElement (session=\"217e7d850c5d4897a463a603a4e323a1\", element=\"80c8b7aa-ab46-4e2f-a626-14664162fbfe\")>"
      ]
     },
     "execution_count": 190,
     "metadata": {},
     "output_type": "execute_result"
    }
   ],
   "source": [
    "btn=driver1.find_element_by_xpath('//button[@class=\"btn\"]')\n",
    "btn"
   ]
  },
  {
   "cell_type": "code",
   "execution_count": 191,
   "id": "103f7b55",
   "metadata": {},
   "outputs": [],
   "source": [
    "btn.click()"
   ]
  },
  {
   "cell_type": "code",
   "execution_count": 192,
   "id": "ba28aad4",
   "metadata": {},
   "outputs": [
    {
     "name": "stdout",
     "output_type": "stream",
     "text": [
      "\n",
      " ['Data Scientist', 'Cognitive Data Scientist', 'Lead Data Scientist', 'Sr Data Scientist', 'Sr Data Scientist', 'Senior Data Scientist', 'Lead Data Scientist - Machine Learning/ Data Mining', 'Principal Data Scientist', 'Data Scientist Manager 10+ Years Bangalore/Mumbai/Gurugram/Chennai', 'Chief Data Scientist', 'Data Scientist 3', 'Data Scientist + Python + Big DATA', 'Senior Data Scientist', 'Data Scientist: Advanced Analytics', 'Data Scientist', 'Data Scientist', 'Senior Data Scientist Payments compliance', 'Senior Data Scientist', 'Principal Applied Math Stats (Senior-Data Scientist)', 'Senior Data Scientist']\n"
     ]
    }
   ],
   "source": [
    "time.sleep(5)\n",
    "j_titl=driver1.find_elements_by_xpath('//a[@class=\"title fw500 ellipsis\"]')\n",
    "job_titl=[]\n",
    "for i in j_titl:\n",
    "    job_titl.append(i.text.replace(',',''))\n",
    "print('\\n',job_titl)    "
   ]
  },
  {
   "cell_type": "code",
   "execution_count": 193,
   "id": "1ac2ef12",
   "metadata": {},
   "outputs": [
    {
     "name": "stdout",
     "output_type": "stream",
     "text": [
      "['Oracle India Pvt. Ltd.', 'IBM India Pvt. Limited', 'Zycus Infotech Pvt Ltd', 'IBM India Pvt. Limited', 'IBM India Pvt. Limited', 'TalentStack', 'Wrackle Technologies Pvt Ltd', 'Narayana Heath', 'CRESCENDO GLOBAL LEADERSHIP HIRING INDIA PRIVATE L IMITED', 'Zycus Infotech Pvt Ltd', 'ANI Technologies Pvt Ltd (Olacabs)', 'Capgemini Technology Services India Limited', 'Bigshyft Hiring for Noodle.ai', 'IBM India Pvt. Limited', 'Schneider Electric India Pvt. Ltd.', 'IBM India Pvt. Limited', 'AIRBNB GLOBAL CAPABILITY CENTER PRIVATE LIMITED', 'Rakuten Inc.', 'AT and T Global Business Services India P. Ltd.', 'Kwalee India Pvt Ltd.']\n"
     ]
    }
   ],
   "source": [
    "com_tg=driver1.find_elements_by_xpath('//a[@class=\"subTitle ellipsis fleft\"]')\n",
    "com_nam=[]\n",
    "for i in com_tg:\n",
    "    com_nam.append(i.text.replace(',',''))\n",
    "print(com_nam)    "
   ]
  },
  {
   "cell_type": "code",
   "execution_count": 194,
   "id": "161e0de1",
   "metadata": {},
   "outputs": [
    {
     "name": "stdout",
     "output_type": "stream",
     "text": [
      "['Noida Bangalore/Bengaluru', 'Bengaluru/Bangalore', 'Bangalore/Bengaluru', 'Bengaluru/Bangalore', 'Bangalore/Bengaluru', 'Mumbai Gurgaon/Gurugram Bangalore/Bengaluru', 'Bangalore/Bengaluru', 'Bangalore/Bengaluru', 'Gurgaon/Gurugram Chennai Bangalore/Bengaluru Mumbai (All Areas)', 'Bangalore/Bengaluru', 'Bangalore/Bengaluru', 'Hyderabad/Secunderabad Chennai Bangalore/Bengaluru', 'Bangalore/Bengaluru', 'Bengaluru/Bangalore', 'Bangalore/Bengaluru', 'Bengaluru/Bangalore', 'Bangalore/Bengaluru', 'Bangalore/Bengaluru', 'Bangalore/Bengaluru', 'Bangalore/Bengaluru']\n",
      "20\n"
     ]
    }
   ],
   "source": [
    "loc_tg=driver1.find_elements_by_xpath('//li[@class=\"fleft grey-text br2 placeHolderLi location\"]')\n",
    "job_loc=[]\n",
    "for i in loc_tg:\n",
    "    job_loc.append(i.text.replace(',',''))\n",
    "print(job_loc)\n",
    "print(len(job_loc))"
   ]
  },
  {
   "cell_type": "code",
   "execution_count": 195,
   "id": "a92696c1",
   "metadata": {},
   "outputs": [
    {
     "data": {
      "text/plain": [
       "20"
      ]
     },
     "execution_count": 195,
     "metadata": {},
     "output_type": "execute_result"
    }
   ],
   "source": [
    "des_tg=driver1.find_elements_by_xpath('//a[@class=\"title fw500 ellipsis\"]')\n",
    "job_link=[]\n",
    "for i in des_tg:\n",
    "    job_link.append(i.get_attribute('href'))\n",
    "len(job_link)"
   ]
  },
  {
   "cell_type": "code",
   "execution_count": 196,
   "id": "5f7e3de3",
   "metadata": {},
   "outputs": [],
   "source": [
    "job_des=[]\n",
    "for i in job_link:\n",
    "    driver1.get(i)\n",
    "    try:\n",
    "        job_de=driver1.find_element_by_xpath('//section[@class=\"job-desc\"]' and '//section[@class=\"getJobDescription JD av_textblock_section\"]')\n",
    "        job_des.append(job_de.text.replace('\\n',' '))\n",
    "    except:\n",
    "        job_des.append('--')   "
   ]
  },
  {
   "cell_type": "code",
   "execution_count": 197,
   "id": "771aa506",
   "metadata": {},
   "outputs": [
    {
     "data": {
      "text/plain": [
       "20"
      ]
     },
     "execution_count": 197,
     "metadata": {},
     "output_type": "execute_result"
    }
   ],
   "source": [
    "len(job_des)"
   ]
  },
  {
   "cell_type": "code",
   "execution_count": 198,
   "id": "90656789",
   "metadata": {},
   "outputs": [],
   "source": [
    "Data_scientist=pd.DataFrame({'Job Title':job_titl,'Company Name':com_nam,'Job Location':job_loc,'Job description':job_des})"
   ]
  },
  {
   "cell_type": "code",
   "execution_count": 199,
   "id": "730d1079",
   "metadata": {},
   "outputs": [
    {
     "data": {
      "text/html": [
       "<div>\n",
       "<style scoped>\n",
       "    .dataframe tbody tr th:only-of-type {\n",
       "        vertical-align: middle;\n",
       "    }\n",
       "\n",
       "    .dataframe tbody tr th {\n",
       "        vertical-align: top;\n",
       "    }\n",
       "\n",
       "    .dataframe thead th {\n",
       "        text-align: right;\n",
       "    }\n",
       "</style>\n",
       "<table border=\"1\" class=\"dataframe\">\n",
       "  <thead>\n",
       "    <tr style=\"text-align: right;\">\n",
       "      <th></th>\n",
       "      <th>Job Title</th>\n",
       "      <th>Company Name</th>\n",
       "      <th>Job Location</th>\n",
       "      <th>Job description</th>\n",
       "    </tr>\n",
       "  </thead>\n",
       "  <tbody>\n",
       "    <tr>\n",
       "      <th>0</th>\n",
       "      <td>Data Scientist</td>\n",
       "      <td>Oracle India Pvt. Ltd.</td>\n",
       "      <td>Noida Bangalore/Bengaluru</td>\n",
       "      <td>Job Description The ideal candidate is expecte...</td>\n",
       "    </tr>\n",
       "    <tr>\n",
       "      <th>1</th>\n",
       "      <td>Cognitive Data Scientist</td>\n",
       "      <td>IBM India Pvt. Limited</td>\n",
       "      <td>Bengaluru/Bangalore</td>\n",
       "      <td>Job Description Introduction As a Data Scienti...</td>\n",
       "    </tr>\n",
       "    <tr>\n",
       "      <th>2</th>\n",
       "      <td>Lead Data Scientist</td>\n",
       "      <td>Zycus Infotech Pvt Ltd</td>\n",
       "      <td>Bangalore/Bengaluru</td>\n",
       "      <td>--</td>\n",
       "    </tr>\n",
       "    <tr>\n",
       "      <th>3</th>\n",
       "      <td>Sr Data Scientist</td>\n",
       "      <td>IBM India Pvt. Limited</td>\n",
       "      <td>Bengaluru/Bangalore</td>\n",
       "      <td>Job Description Introduction As a Data Scienti...</td>\n",
       "    </tr>\n",
       "    <tr>\n",
       "      <th>4</th>\n",
       "      <td>Sr Data Scientist</td>\n",
       "      <td>IBM India Pvt. Limited</td>\n",
       "      <td>Bangalore/Bengaluru</td>\n",
       "      <td>Job Description As a Data Scientist at IBM, yo...</td>\n",
       "    </tr>\n",
       "    <tr>\n",
       "      <th>5</th>\n",
       "      <td>Senior Data Scientist</td>\n",
       "      <td>TalentStack</td>\n",
       "      <td>Mumbai Gurgaon/Gurugram Bangalore/Bengaluru</td>\n",
       "      <td>--</td>\n",
       "    </tr>\n",
       "    <tr>\n",
       "      <th>6</th>\n",
       "      <td>Lead Data Scientist - Machine Learning/ Data M...</td>\n",
       "      <td>Wrackle Technologies Pvt Ltd</td>\n",
       "      <td>Bangalore/Bengaluru</td>\n",
       "      <td>--</td>\n",
       "    </tr>\n",
       "    <tr>\n",
       "      <th>7</th>\n",
       "      <td>Principal Data Scientist</td>\n",
       "      <td>Narayana Heath</td>\n",
       "      <td>Bangalore/Bengaluru</td>\n",
       "      <td>--</td>\n",
       "    </tr>\n",
       "    <tr>\n",
       "      <th>8</th>\n",
       "      <td>Data Scientist Manager 10+ Years Bangalore/Mum...</td>\n",
       "      <td>CRESCENDO GLOBAL LEADERSHIP HIRING INDIA PRIVA...</td>\n",
       "      <td>Gurgaon/Gurugram Chennai Bangalore/Bengaluru M...</td>\n",
       "      <td>Job Description Data Scientist Manager job opp...</td>\n",
       "    </tr>\n",
       "    <tr>\n",
       "      <th>9</th>\n",
       "      <td>Chief Data Scientist</td>\n",
       "      <td>Zycus Infotech Pvt Ltd</td>\n",
       "      <td>Bangalore/Bengaluru</td>\n",
       "      <td>--</td>\n",
       "    </tr>\n",
       "  </tbody>\n",
       "</table>\n",
       "</div>"
      ],
      "text/plain": [
       "                                           Job Title  \\\n",
       "0                                     Data Scientist   \n",
       "1                           Cognitive Data Scientist   \n",
       "2                                Lead Data Scientist   \n",
       "3                                  Sr Data Scientist   \n",
       "4                                  Sr Data Scientist   \n",
       "5                              Senior Data Scientist   \n",
       "6  Lead Data Scientist - Machine Learning/ Data M...   \n",
       "7                           Principal Data Scientist   \n",
       "8  Data Scientist Manager 10+ Years Bangalore/Mum...   \n",
       "9                               Chief Data Scientist   \n",
       "\n",
       "                                        Company Name  \\\n",
       "0                             Oracle India Pvt. Ltd.   \n",
       "1                             IBM India Pvt. Limited   \n",
       "2                             Zycus Infotech Pvt Ltd   \n",
       "3                             IBM India Pvt. Limited   \n",
       "4                             IBM India Pvt. Limited   \n",
       "5                                        TalentStack   \n",
       "6                       Wrackle Technologies Pvt Ltd   \n",
       "7                                     Narayana Heath   \n",
       "8  CRESCENDO GLOBAL LEADERSHIP HIRING INDIA PRIVA...   \n",
       "9                             Zycus Infotech Pvt Ltd   \n",
       "\n",
       "                                        Job Location  \\\n",
       "0                          Noida Bangalore/Bengaluru   \n",
       "1                                Bengaluru/Bangalore   \n",
       "2                                Bangalore/Bengaluru   \n",
       "3                                Bengaluru/Bangalore   \n",
       "4                                Bangalore/Bengaluru   \n",
       "5        Mumbai Gurgaon/Gurugram Bangalore/Bengaluru   \n",
       "6                                Bangalore/Bengaluru   \n",
       "7                                Bangalore/Bengaluru   \n",
       "8  Gurgaon/Gurugram Chennai Bangalore/Bengaluru M...   \n",
       "9                                Bangalore/Bengaluru   \n",
       "\n",
       "                                     Job description  \n",
       "0  Job Description The ideal candidate is expecte...  \n",
       "1  Job Description Introduction As a Data Scienti...  \n",
       "2                                                 --  \n",
       "3  Job Description Introduction As a Data Scienti...  \n",
       "4  Job Description As a Data Scientist at IBM, yo...  \n",
       "5                                                 --  \n",
       "6                                                 --  \n",
       "7                                                 --  \n",
       "8  Job Description Data Scientist Manager job opp...  \n",
       "9                                                 --  "
      ]
     },
     "execution_count": 199,
     "metadata": {},
     "output_type": "execute_result"
    }
   ],
   "source": [
    "Data_scientist[:10]"
   ]
  },
  {
   "cell_type": "markdown",
   "id": "a36764fc",
   "metadata": {},
   "source": [
    "# Answer 3"
   ]
  },
  {
   "cell_type": "code",
   "execution_count": 148,
   "id": "a67f13a3",
   "metadata": {},
   "outputs": [],
   "source": [
    "driver3=webdriver.Chrome(r\"F:\\Python\\chromedriver.exe\")\n",
    "driver3.get('https://www.naukri.com/')"
   ]
  },
  {
   "cell_type": "code",
   "execution_count": 149,
   "id": "05f3705a",
   "metadata": {},
   "outputs": [
    {
     "data": {
      "text/plain": [
       "<selenium.webdriver.remote.webelement.WebElement (session=\"54be419b09b3b76eaab818f423cbbc96\", element=\"ef081934-db90-4eeb-8b25-a91844e0b7b9\")>"
      ]
     },
     "execution_count": 149,
     "metadata": {},
     "output_type": "execute_result"
    }
   ],
   "source": [
    "search_job=driver3.find_element_by_xpath('//input[@class=\"sugInp\"]')\n",
    "search_job"
   ]
  },
  {
   "cell_type": "code",
   "execution_count": 150,
   "id": "79013660",
   "metadata": {},
   "outputs": [],
   "source": [
    "search_job.send_keys('Data scientist')"
   ]
  },
  {
   "cell_type": "code",
   "execution_count": 151,
   "id": "a712ca13",
   "metadata": {},
   "outputs": [
    {
     "data": {
      "text/plain": [
       "<selenium.webdriver.remote.webelement.WebElement (session=\"54be419b09b3b76eaab818f423cbbc96\", element=\"9ff95a4d-8d42-422d-9543-a52c1a6ee333\")>"
      ]
     },
     "execution_count": 151,
     "metadata": {},
     "output_type": "execute_result"
    }
   ],
   "source": [
    "btn=driver3.find_element_by_xpath('//button[@class=\"btn\"]')\n",
    "btn"
   ]
  },
  {
   "cell_type": "code",
   "execution_count": 152,
   "id": "eb71db69",
   "metadata": {},
   "outputs": [],
   "source": [
    "btn.click()"
   ]
  },
  {
   "cell_type": "code",
   "execution_count": 154,
   "id": "a5ef78d7",
   "metadata": {},
   "outputs": [],
   "source": [
    "filter1=driver3.find_element_by_xpath('//span[@title=\"3-6 Lakhs\"]')"
   ]
  },
  {
   "cell_type": "code",
   "execution_count": 155,
   "id": "81ad7183",
   "metadata": {},
   "outputs": [
    {
     "data": {
      "text/plain": [
       "<selenium.webdriver.remote.webelement.WebElement (session=\"54be419b09b3b76eaab818f423cbbc96\", element=\"05375ef1-814a-47c9-bea1-894eb34b9136\")>"
      ]
     },
     "execution_count": 155,
     "metadata": {},
     "output_type": "execute_result"
    }
   ],
   "source": [
    "filter1"
   ]
  },
  {
   "cell_type": "code",
   "execution_count": 156,
   "id": "7694f906",
   "metadata": {},
   "outputs": [],
   "source": [
    "filter1.click()"
   ]
  },
  {
   "cell_type": "code",
   "execution_count": 159,
   "id": "c8d2e98c",
   "metadata": {},
   "outputs": [],
   "source": [
    "filter2=driver3.find_element_by_xpath('//span[@title=\"Delhi / NCR\"]')\n",
    "filter2.click()"
   ]
  },
  {
   "cell_type": "code",
   "execution_count": 162,
   "id": "7cdb6d8d",
   "metadata": {},
   "outputs": [
    {
     "data": {
      "text/plain": [
       "20"
      ]
     },
     "execution_count": 162,
     "metadata": {},
     "output_type": "execute_result"
    }
   ],
   "source": [
    "job_ti=driver3.find_elements_by_xpath('//a[@class=\"title fw500 ellipsis\"]')\n",
    "job_til=[]\n",
    "for i in job_ti:\n",
    "    job_til.append(i.text.replace(',',''))\n",
    "len(job_til)    "
   ]
  },
  {
   "cell_type": "code",
   "execution_count": 165,
   "id": "01e84a04",
   "metadata": {},
   "outputs": [
    {
     "name": "stdout",
     "output_type": "stream",
     "text": [
      "['Noida New Delhi Gurgaon/Gurugram', 'Pune Chennai Bangalore/Bengaluru Delhi / NCR Mumbai (All Areas)', 'Gurgaon/Gurugram', 'Gurgaon/Gurugram Bangalore/Bengaluru any\\n(WFH during Covid)', 'Bangalore/Bengaluru Delhi / NCR Mumbai (All Areas)', 'Mohali/SAS Nagar Hyderabad/Secunderabad Ahmedabad Gurgaon/Gurugram Chennai Bangalore/Bengaluru', 'Noida\\n(WFH during Covid)', 'New Delhi Delhi / NCR', 'Delhi / NCR(Okhla)', 'Noida(Sector-59 Noida)', 'Gurgaon/Gurugram', 'Noida Pune Mumbai (All Areas)', 'New Delhi', 'Mumbai Gurgaon/Gurugram Bangalore/Bengaluru', 'Hyderabad/Secunderabad Gurgaon/Gurugram Bangalore/Bengaluru', 'Gurgaon/Gurugram', 'Delhi', 'Chandigarh Hyderabad/Secunderabad Chennai Bangalore/Bengaluru Delhi / NCR', 'Gurgaon/Gurugram', 'Delhi']\n"
     ]
    }
   ],
   "source": [
    "job_lo=driver3.find_elements_by_xpath('//li[@class=\"fleft grey-text br2 placeHolderLi location\"]')\n",
    "job_loc=[]\n",
    "for i in job_lo:\n",
    "    job_loc.append(i.text.replace(',',''))\n",
    "len(job_loc) \n",
    "print(job_loc)"
   ]
  },
  {
   "cell_type": "code",
   "execution_count": 168,
   "id": "055911a5",
   "metadata": {},
   "outputs": [
    {
     "name": "stdout",
     "output_type": "stream",
     "text": [
      "20\n",
      "['GABA Consultancy services', 'MOTHERSONSUMI INFOTECH & DESIGNS LIMITED', 'CARS24', 'Metaphor Infotech', 'Skillenable Fintech Private Limited', 'Creative Hands HR Consultancy', 'R Systems International Ltd.', 'PY Consultancy', 'Kusum Healthcare Pvt. Ltd.', 'R Systems International Ltd.', 'TalPro', 'WEGARNER SOLUTIONS PRIVATE LIMITED', 'iHackers Inc', 'Fractal Analytics', 'inVentiv International Pharma Services Pvt. Ltd.', 'CBRE South Asia Pvt Ltd', 'iNICU', 'IDS Infotech Ltd.', 'Decimal Technologies Pvt Ltd.', 'Sentieo']\n"
     ]
    }
   ],
   "source": [
    "com=driver3.find_elements_by_xpath('//a[@class=\"subTitle ellipsis fleft\"]')\n",
    "comp=[]\n",
    "for i in com:\n",
    "    comp.append(i.text)\n",
    "print(len(comp))\n",
    "print(comp)\n",
    "    "
   ]
  },
  {
   "cell_type": "code",
   "execution_count": 169,
   "id": "977972f1",
   "metadata": {},
   "outputs": [
    {
     "name": "stdout",
     "output_type": "stream",
     "text": [
      "20\n"
     ]
    }
   ],
   "source": [
    "ex=driver3.find_elements_by_xpath('//li[@class=\"fleft grey-text br2 placeHolderLi experience\"]')\n",
    "exp=[]\n",
    "for i in ex:\n",
    "    exp.append(i.text)\n",
    "print(len(exp))    "
   ]
  },
  {
   "cell_type": "code",
   "execution_count": 170,
   "id": "20ecb1ae",
   "metadata": {},
   "outputs": [],
   "source": [
    "Job_filter=pd.DataFrame({'Job title':job_til,'Location':job_loc,'Comapany':comp,'Experiance':exp})"
   ]
  },
  {
   "cell_type": "code",
   "execution_count": 171,
   "id": "731ee3f9",
   "metadata": {},
   "outputs": [
    {
     "data": {
      "text/html": [
       "<div>\n",
       "<style scoped>\n",
       "    .dataframe tbody tr th:only-of-type {\n",
       "        vertical-align: middle;\n",
       "    }\n",
       "\n",
       "    .dataframe tbody tr th {\n",
       "        vertical-align: top;\n",
       "    }\n",
       "\n",
       "    .dataframe thead th {\n",
       "        text-align: right;\n",
       "    }\n",
       "</style>\n",
       "<table border=\"1\" class=\"dataframe\">\n",
       "  <thead>\n",
       "    <tr style=\"text-align: right;\">\n",
       "      <th></th>\n",
       "      <th>Job title</th>\n",
       "      <th>Location</th>\n",
       "      <th>Comapany</th>\n",
       "      <th>Experiance</th>\n",
       "    </tr>\n",
       "  </thead>\n",
       "  <tbody>\n",
       "    <tr>\n",
       "      <th>0</th>\n",
       "      <td>Data Scientist / Data Analyst / Business Analy...</td>\n",
       "      <td>Noida New Delhi Gurgaon/Gurugram</td>\n",
       "      <td>GABA Consultancy services</td>\n",
       "      <td>0-0 Yrs</td>\n",
       "    </tr>\n",
       "    <tr>\n",
       "      <th>1</th>\n",
       "      <td>Data Scientist - WFH - MIND Infotech</td>\n",
       "      <td>Pune Chennai Bangalore/Bengaluru Delhi / NCR M...</td>\n",
       "      <td>MOTHERSONSUMI INFOTECH &amp; DESIGNS LIMITED</td>\n",
       "      <td>3-7 Yrs</td>\n",
       "    </tr>\n",
       "    <tr>\n",
       "      <th>2</th>\n",
       "      <td>Data Scientist / Data Analyst</td>\n",
       "      <td>Gurgaon/Gurugram</td>\n",
       "      <td>CARS24</td>\n",
       "      <td>1-5 Yrs</td>\n",
       "    </tr>\n",
       "    <tr>\n",
       "      <th>3</th>\n",
       "      <td>Urgent Opening For Data Scientist/Data Analyst...</td>\n",
       "      <td>Gurgaon/Gurugram Bangalore/Bengaluru any\\n(WFH...</td>\n",
       "      <td>Metaphor Infotech</td>\n",
       "      <td>5-10 Yrs</td>\n",
       "    </tr>\n",
       "    <tr>\n",
       "      <th>4</th>\n",
       "      <td>Data Analyst/Data Scientist</td>\n",
       "      <td>Bangalore/Bengaluru Delhi / NCR Mumbai (All Ar...</td>\n",
       "      <td>Skillenable Fintech Private Limited</td>\n",
       "      <td>2-5 Yrs</td>\n",
       "    </tr>\n",
       "    <tr>\n",
       "      <th>5</th>\n",
       "      <td>Data Scientist/ Machine Learning Engineer</td>\n",
       "      <td>Mohali/SAS Nagar Hyderabad/Secunderabad Ahmeda...</td>\n",
       "      <td>Creative Hands HR Consultancy</td>\n",
       "      <td>0-0 Yrs</td>\n",
       "    </tr>\n",
       "    <tr>\n",
       "      <th>6</th>\n",
       "      <td>Data Scientist</td>\n",
       "      <td>Noida\\n(WFH during Covid)</td>\n",
       "      <td>R Systems International Ltd.</td>\n",
       "      <td>5-10 Yrs</td>\n",
       "    </tr>\n",
       "    <tr>\n",
       "      <th>7</th>\n",
       "      <td>Junior Data Scientists &amp; Engineers</td>\n",
       "      <td>New Delhi Delhi / NCR</td>\n",
       "      <td>PY Consultancy</td>\n",
       "      <td>0-3 Yrs</td>\n",
       "    </tr>\n",
       "    <tr>\n",
       "      <th>8</th>\n",
       "      <td>Data Scientist</td>\n",
       "      <td>Delhi / NCR(Okhla)</td>\n",
       "      <td>Kusum Healthcare Pvt. Ltd.</td>\n",
       "      <td>4-6 Yrs</td>\n",
       "    </tr>\n",
       "    <tr>\n",
       "      <th>9</th>\n",
       "      <td>Data Scientist</td>\n",
       "      <td>Noida(Sector-59 Noida)</td>\n",
       "      <td>R Systems International Ltd.</td>\n",
       "      <td>5-10 Yrs</td>\n",
       "    </tr>\n",
       "    <tr>\n",
       "      <th>10</th>\n",
       "      <td>Data Scientist - Machine Learning/ NLP</td>\n",
       "      <td>Gurgaon/Gurugram</td>\n",
       "      <td>TalPro</td>\n",
       "      <td>2-6 Yrs</td>\n",
       "    </tr>\n",
       "  </tbody>\n",
       "</table>\n",
       "</div>"
      ],
      "text/plain": [
       "                                            Job title  \\\n",
       "0   Data Scientist / Data Analyst / Business Analy...   \n",
       "1                Data Scientist - WFH - MIND Infotech   \n",
       "2                       Data Scientist / Data Analyst   \n",
       "3   Urgent Opening For Data Scientist/Data Analyst...   \n",
       "4                         Data Analyst/Data Scientist   \n",
       "5           Data Scientist/ Machine Learning Engineer   \n",
       "6                                      Data Scientist   \n",
       "7                  Junior Data Scientists & Engineers   \n",
       "8                                      Data Scientist   \n",
       "9                                      Data Scientist   \n",
       "10             Data Scientist - Machine Learning/ NLP   \n",
       "\n",
       "                                             Location  \\\n",
       "0                    Noida New Delhi Gurgaon/Gurugram   \n",
       "1   Pune Chennai Bangalore/Bengaluru Delhi / NCR M...   \n",
       "2                                    Gurgaon/Gurugram   \n",
       "3   Gurgaon/Gurugram Bangalore/Bengaluru any\\n(WFH...   \n",
       "4   Bangalore/Bengaluru Delhi / NCR Mumbai (All Ar...   \n",
       "5   Mohali/SAS Nagar Hyderabad/Secunderabad Ahmeda...   \n",
       "6                           Noida\\n(WFH during Covid)   \n",
       "7                               New Delhi Delhi / NCR   \n",
       "8                                  Delhi / NCR(Okhla)   \n",
       "9                              Noida(Sector-59 Noida)   \n",
       "10                                   Gurgaon/Gurugram   \n",
       "\n",
       "                                    Comapany Experiance  \n",
       "0                  GABA Consultancy services    0-0 Yrs  \n",
       "1   MOTHERSONSUMI INFOTECH & DESIGNS LIMITED    3-7 Yrs  \n",
       "2                                     CARS24    1-5 Yrs  \n",
       "3                          Metaphor Infotech   5-10 Yrs  \n",
       "4        Skillenable Fintech Private Limited    2-5 Yrs  \n",
       "5              Creative Hands HR Consultancy    0-0 Yrs  \n",
       "6               R Systems International Ltd.   5-10 Yrs  \n",
       "7                             PY Consultancy    0-3 Yrs  \n",
       "8                 Kusum Healthcare Pvt. Ltd.    4-6 Yrs  \n",
       "9               R Systems International Ltd.   5-10 Yrs  \n",
       "10                                    TalPro    2-6 Yrs  "
      ]
     },
     "execution_count": 171,
     "metadata": {},
     "output_type": "execute_result"
    }
   ],
   "source": [
    "Job_filter[:11]"
   ]
  },
  {
   "cell_type": "markdown",
   "id": "810ee00f",
   "metadata": {},
   "source": [
    "# Answer 4"
   ]
  },
  {
   "cell_type": "code",
   "execution_count": 398,
   "id": "968b543f",
   "metadata": {},
   "outputs": [],
   "source": [
    "driver4=webdriver.Chrome(r\"F:\\Python\\chromedriver.exe\")\n",
    "driver4.get('https://www.glassdoor.co.in/member/home/index.htm')"
   ]
  },
  {
   "cell_type": "code",
   "execution_count": 400,
   "id": "d31fbc00",
   "metadata": {},
   "outputs": [
    {
     "data": {
      "text/plain": [
       "<selenium.webdriver.remote.webelement.WebElement (session=\"5106ea92fb5fda9a60b8218889da1719\", element=\"24347425-e0b5-415b-83b0-fb382763f422\")>"
      ]
     },
     "execution_count": 400,
     "metadata": {},
     "output_type": "execute_result"
    }
   ],
   "source": [
    "search=driver4.find_element_by_xpath('//input[@class=\"css-1etjok6\"]')\n",
    "search\n"
   ]
  },
  {
   "cell_type": "code",
   "execution_count": 401,
   "id": "5156bd64",
   "metadata": {},
   "outputs": [],
   "source": [
    "search.send_keys('data scientist')"
   ]
  },
  {
   "cell_type": "code",
   "execution_count": 402,
   "id": "2805f504",
   "metadata": {},
   "outputs": [
    {
     "data": {
      "text/plain": [
       "<selenium.webdriver.remote.webelement.WebElement (session=\"5106ea92fb5fda9a60b8218889da1719\", element=\"8346a55e-cb46-47e4-bb4c-bc2ed40424d8\")>"
      ]
     },
     "execution_count": 402,
     "metadata": {},
     "output_type": "execute_result"
    }
   ],
   "source": [
    "search1=driver4.find_element_by_id('sc.location')\n",
    "search1"
   ]
  },
  {
   "cell_type": "code",
   "execution_count": 403,
   "id": "b4b77239",
   "metadata": {},
   "outputs": [],
   "source": [
    "search1.send_keys('Noida')"
   ]
  },
  {
   "cell_type": "code",
   "execution_count": 404,
   "id": "8c626be0",
   "metadata": {},
   "outputs": [
    {
     "data": {
      "text/plain": [
       "<selenium.webdriver.remote.webelement.WebElement (session=\"5106ea92fb5fda9a60b8218889da1719\", element=\"3c111e79-6b1c-403b-bda1-d179bd24f5d3\")>"
      ]
     },
     "execution_count": 404,
     "metadata": {},
     "output_type": "execute_result"
    }
   ],
   "source": [
    "time.sleep(3)\n",
    "btn=driver4.find_element_by_xpath('//button[@class=\"gd-ui-button ml-std col-auto search__SearchStyles__newSearchButton css-1dqvyh7\"]')\n",
    "btn"
   ]
  },
  {
   "cell_type": "code",
   "execution_count": 405,
   "id": "7f5608d3",
   "metadata": {},
   "outputs": [],
   "source": [
    "btn.click()"
   ]
  },
  {
   "cell_type": "code",
   "execution_count": 407,
   "id": "0a749930",
   "metadata": {},
   "outputs": [
    {
     "name": "stdout",
     "output_type": "stream",
     "text": [
      "['AlgoScale Technologies Private Limited', 'Liberin Technologies Private Limited', 'Ishatva Management Solutions', 'limeroad.com', 'Badatya Private Limited', 'Saishaa Services', 'Techlive', 'Newgen Software', 'Data Trained Education', 'Biz2Credit Inc', 'Salasar New Age Technologies', 'Ericsson', 'ING', 'Innovacer', 'Salasar New Age Technologies', 'NEC Opportunities', 'Verisk', 'SearchUrCollege', 'Gauge Data Solutions', 'Crowe', 'NMG Technologies', 'Airtel India', 'CRMNEXT', 'IElevate Institute', 'Wobot.ai', 'Adobe', 'OneViewHR', 'Adobe', 'xtLytics', 'McKinsey & Company']\n"
     ]
    }
   ],
   "source": [
    "job_n=driver4.find_elements_by_xpath('//a[@class=\" css-l2wjgv e1n63ojh0 jobLink\"]')\n",
    "job_n\n",
    "job=[]\n",
    "for i in job_n:\n",
    "    job.append(i.text)\n",
    "print(job)    "
   ]
  },
  {
   "cell_type": "code",
   "execution_count": 408,
   "id": "504186ba",
   "metadata": {
    "scrolled": true
   },
   "outputs": [
    {
     "name": "stdout",
     "output_type": "stream",
     "text": [
      "['11d', '30d+', '7d', '11d', '8d', '13d', '30d+', '30d+', '30d+', '30d+', '30d+', '6d', '3d', '30d+', '30d+', '18d', '2d', '30d+', '30d+', '30d+', '23d', '17d', '26d', '5d', '9d', '2d', '4d', '30d+', '30d+', '9d']\n"
     ]
    }
   ],
   "source": [
    "post=driver4.find_elements_by_xpath('//div[@class=\"d-flex align-items-end pl-std css-mi55ob\"]')\n",
    "d_post=[]\n",
    "for i in post:\n",
    "    d_post.append(i.text)\n",
    "print(d_post)    "
   ]
  },
  {
   "cell_type": "code",
   "execution_count": 409,
   "id": "0b3c4d70",
   "metadata": {},
   "outputs": [
    {
     "data": {
      "text/plain": [
       "30"
      ]
     },
     "execution_count": 409,
     "metadata": {},
     "output_type": "execute_result"
    }
   ],
   "source": [
    "rat_tg=driver4.find_elements_by_xpath('//a[@class=\" css-l2wjgv e1n63ojh0 jobLink\"]')\n",
    "job_link=[]\n",
    "for i in rat_tg:\n",
    "    job_link.append(i.get_attribute('href'))\n",
    "len(job_link) "
   ]
  },
  {
   "cell_type": "code",
   "execution_count": 391,
   "id": "b1192213",
   "metadata": {},
   "outputs": [],
   "source": [
    "#rate=driver4.find_elements_by_xpath('//div[@class=\"d-flex flex-column css-x75kgh e1rrn5ka3\"]')\n",
    "#rate\n",
    "job_rate=[]\n",
    "for i in job_link:\n",
    "    driver4.get(i)\n",
    "    try:\n",
    "        rt=driver4.find_element_by_xpath('//div[@class=\"css-16nw49e e11nt52q1\"]/span')\n",
    "        job_rate.append(rt.text.replace('\\n',''))\n",
    "    except:\n",
    "        job_rate.append('---')\n",
    "    "
   ]
  },
  {
   "cell_type": "code",
   "execution_count": 392,
   "id": "1452815f",
   "metadata": {},
   "outputs": [
    {
     "name": "stdout",
     "output_type": "stream",
     "text": [
      "['---', '---', '3.8★', '---', '---', '4.5★', '---', '3.3★', '---', '---', '---', '4.1★', '4.2★', '4.0★', '---', '---', '3.8★', '---', '---', '4.0★', '3.2★', '---', '3.8★', '3.8★', '4.4★', '4.4★', '---', '---', '3.8★', '3.9★']\n"
     ]
    }
   ],
   "source": [
    "print(job_rate)"
   ]
  },
  {
   "cell_type": "code",
   "execution_count": 309,
   "id": "ff3227ba",
   "metadata": {},
   "outputs": [
    {
     "data": {
      "text/plain": [
       "30"
      ]
     },
     "execution_count": 309,
     "metadata": {},
     "output_type": "execute_result"
    }
   ],
   "source": [
    "len(job_rate)"
   ]
  },
  {
   "cell_type": "code",
   "execution_count": 410,
   "id": "2b69d429",
   "metadata": {},
   "outputs": [],
   "source": [
    "job=pd.DataFrame({'Company name':job,'Days posted':d_post,'Comapny rating':job_rate})"
   ]
  },
  {
   "cell_type": "code",
   "execution_count": 411,
   "id": "64d642f9",
   "metadata": {},
   "outputs": [
    {
     "data": {
      "text/html": [
       "<div>\n",
       "<style scoped>\n",
       "    .dataframe tbody tr th:only-of-type {\n",
       "        vertical-align: middle;\n",
       "    }\n",
       "\n",
       "    .dataframe tbody tr th {\n",
       "        vertical-align: top;\n",
       "    }\n",
       "\n",
       "    .dataframe thead th {\n",
       "        text-align: right;\n",
       "    }\n",
       "</style>\n",
       "<table border=\"1\" class=\"dataframe\">\n",
       "  <thead>\n",
       "    <tr style=\"text-align: right;\">\n",
       "      <th></th>\n",
       "      <th>Company name</th>\n",
       "      <th>Days posted</th>\n",
       "      <th>Comapny rating</th>\n",
       "    </tr>\n",
       "  </thead>\n",
       "  <tbody>\n",
       "    <tr>\n",
       "      <th>0</th>\n",
       "      <td>AlgoScale Technologies Private Limited</td>\n",
       "      <td>11d</td>\n",
       "      <td>---</td>\n",
       "    </tr>\n",
       "    <tr>\n",
       "      <th>1</th>\n",
       "      <td>Liberin Technologies Private Limited</td>\n",
       "      <td>30d+</td>\n",
       "      <td>---</td>\n",
       "    </tr>\n",
       "    <tr>\n",
       "      <th>2</th>\n",
       "      <td>Ishatva Management Solutions</td>\n",
       "      <td>7d</td>\n",
       "      <td>3.8★</td>\n",
       "    </tr>\n",
       "    <tr>\n",
       "      <th>3</th>\n",
       "      <td>limeroad.com</td>\n",
       "      <td>11d</td>\n",
       "      <td>---</td>\n",
       "    </tr>\n",
       "    <tr>\n",
       "      <th>4</th>\n",
       "      <td>Badatya Private Limited</td>\n",
       "      <td>8d</td>\n",
       "      <td>---</td>\n",
       "    </tr>\n",
       "    <tr>\n",
       "      <th>5</th>\n",
       "      <td>Saishaa Services</td>\n",
       "      <td>13d</td>\n",
       "      <td>4.5★</td>\n",
       "    </tr>\n",
       "    <tr>\n",
       "      <th>6</th>\n",
       "      <td>Techlive</td>\n",
       "      <td>30d+</td>\n",
       "      <td>---</td>\n",
       "    </tr>\n",
       "    <tr>\n",
       "      <th>7</th>\n",
       "      <td>Newgen Software</td>\n",
       "      <td>30d+</td>\n",
       "      <td>3.3★</td>\n",
       "    </tr>\n",
       "    <tr>\n",
       "      <th>8</th>\n",
       "      <td>Data Trained Education</td>\n",
       "      <td>30d+</td>\n",
       "      <td>---</td>\n",
       "    </tr>\n",
       "    <tr>\n",
       "      <th>9</th>\n",
       "      <td>Biz2Credit Inc</td>\n",
       "      <td>30d+</td>\n",
       "      <td>---</td>\n",
       "    </tr>\n",
       "    <tr>\n",
       "      <th>10</th>\n",
       "      <td>Salasar New Age Technologies</td>\n",
       "      <td>30d+</td>\n",
       "      <td>---</td>\n",
       "    </tr>\n",
       "  </tbody>\n",
       "</table>\n",
       "</div>"
      ],
      "text/plain": [
       "                              Company name Days posted Comapny rating\n",
       "0   AlgoScale Technologies Private Limited         11d            ---\n",
       "1     Liberin Technologies Private Limited        30d+            ---\n",
       "2             Ishatva Management Solutions          7d           3.8★\n",
       "3                             limeroad.com         11d            ---\n",
       "4                  Badatya Private Limited          8d            ---\n",
       "5                         Saishaa Services         13d           4.5★\n",
       "6                                 Techlive        30d+            ---\n",
       "7                          Newgen Software        30d+           3.3★\n",
       "8                   Data Trained Education        30d+            ---\n",
       "9                           Biz2Credit Inc        30d+            ---\n",
       "10            Salasar New Age Technologies        30d+            ---"
      ]
     },
     "execution_count": 411,
     "metadata": {},
     "output_type": "execute_result"
    }
   ],
   "source": [
    "job[:11]"
   ]
  },
  {
   "cell_type": "markdown",
   "id": "ddaa00c4",
   "metadata": {},
   "source": [
    "# Answer 5"
   ]
  },
  {
   "cell_type": "code",
   "execution_count": 106,
   "id": "70f7dafc",
   "metadata": {},
   "outputs": [],
   "source": [
    "driver5=webdriver.Chrome(r\"F:\\Python\\chromedriver.exe\")\n",
    "driver5.get('https://www.glassdoor.co.in/Salaries/index.htm')"
   ]
  },
  {
   "cell_type": "code",
   "execution_count": 118,
   "id": "51ac8814",
   "metadata": {},
   "outputs": [
    {
     "data": {
      "text/plain": [
       "<selenium.webdriver.remote.webelement.WebElement (session=\"08bddafebf23de7f996dab8febb61e37\", element=\"6c16f2df-b17a-43be-9491-7841d0720070\")>"
      ]
     },
     "execution_count": 118,
     "metadata": {},
     "output_type": "execute_result"
    }
   ],
   "source": [
    "srch=driver5.find_element_by_id('KeywordSearch')\n",
    "srch"
   ]
  },
  {
   "cell_type": "code",
   "execution_count": 119,
   "id": "38f8d8e8",
   "metadata": {},
   "outputs": [],
   "source": [
    "srch.send_keys('data scientist')"
   ]
  },
  {
   "cell_type": "code",
   "execution_count": 120,
   "id": "8daadcd0",
   "metadata": {},
   "outputs": [
    {
     "data": {
      "text/plain": [
       "<selenium.webdriver.remote.webelement.WebElement (session=\"08bddafebf23de7f996dab8febb61e37\", element=\"19d57d19-dbb7-4c2c-a22d-1c70c4309bae\")>"
      ]
     },
     "execution_count": 120,
     "metadata": {},
     "output_type": "execute_result"
    }
   ],
   "source": [
    "srch1=driver5.find_element_by_id('LocationSearch')\n",
    "srch1"
   ]
  },
  {
   "cell_type": "code",
   "execution_count": 121,
   "id": "3e47a865",
   "metadata": {},
   "outputs": [],
   "source": [
    "srch1.send_keys('Noida')"
   ]
  },
  {
   "cell_type": "code",
   "execution_count": 123,
   "id": "5d1277e7",
   "metadata": {},
   "outputs": [],
   "source": [
    "btn=driver5.find_element_by_xpath('//button[@class=\"gd-btn-mkt\"]')\n",
    "btn.click()"
   ]
  },
  {
   "cell_type": "code",
   "execution_count": 124,
   "id": "41530fda",
   "metadata": {
    "scrolled": true
   },
   "outputs": [
    {
     "name": "stdout",
     "output_type": "stream",
     "text": [
      "['Tata Consultancy Services', 'IBM', 'Accenture', 'Delhivery', 'Ericsson-Worldwide', 'UnitedHealth Group', 'Optum', 'Optum Global Solutions', 'Valiance Solutions', 'EXL Service', 'Cognizant Technology Solutions', 'ZS Associates', 'Nagarro', 'Innovaccer', 'OYO', 'dunnhumby', 'Amazon', 'CARS24.com', 'Vidooly Media Tech', 'ParallelDots']\n"
     ]
    }
   ],
   "source": [
    "job_n=driver5.find_elements_by_xpath('//a[@class=\"css-f3vw95 e1aj7ssy3\"]')\n",
    "job_n\n",
    "job=[]\n",
    "for i in job_n:\n",
    "    job.append(i.text)\n",
    "print(job)    "
   ]
  },
  {
   "cell_type": "code",
   "execution_count": 126,
   "id": "49da17b8",
   "metadata": {},
   "outputs": [
    {
     "data": {
      "text/plain": [
       "20"
      ]
     },
     "execution_count": 126,
     "metadata": {},
     "output_type": "execute_result"
    }
   ],
   "source": [
    "lnk=driver5.find_elements_by_xpath('//a[@class=\"css-f3vw95 e1aj7ssy3\"]')\n",
    "j_ln=[]\n",
    "for i in lnk:\n",
    "    j_ln.append(i.get_attribute('href'))\n",
    "len(j_ln)"
   ]
  },
  {
   "cell_type": "code",
   "execution_count": 141,
   "id": "8565b1d2",
   "metadata": {},
   "outputs": [],
   "source": [
    "avg=driver5.find_elements_by_xpath('//div[@class=\"col-12 col-lg-4 px-lg-0 d-flex align-items-baseline\"]')\n",
    "avg_salary=[]\n",
    "for i in avg:\n",
    "    avg_salary.append(i.text.replace('\\n',''))\n",
    "    \n",
    "    "
   ]
  },
  {
   "cell_type": "code",
   "execution_count": 142,
   "id": "c993f87a",
   "metadata": {},
   "outputs": [
    {
     "name": "stdout",
     "output_type": "stream",
     "text": [
      "['₹6,19,349 /yr', '₹9,00,000 /yr', '₹11,71,012 /yr', '₹12,26,283 /yr', '₹7,44,116 /yr', '₹12,80,000 /yr', '₹13,29,677 /yr', '₹14,28,139 /yr', '₹8,69,449 /yr', '₹11,10,000 /yr', '₹9,53,560 /yr', '₹11,49,894 /yr', '₹10,81,155 /yr', '₹12,17,018 /yr', '₹14,24,677 /yr', '₹11,09,179 /yr', '₹20,25,084 /yr', '₹10,60,462 /yr', '₹34,383 /mo', '₹8,32,315 /yr']\n"
     ]
    }
   ],
   "source": [
    "print(avg_salary)"
   ]
  },
  {
   "cell_type": "code",
   "execution_count": 153,
   "id": "ac1faa1a",
   "metadata": {},
   "outputs": [
    {
     "name": "stdout",
     "output_type": "stream",
     "text": [
      "['₹4L', '₹1L', '₹6L', '₹5L', '₹4L', '₹8L', '₹8L', '₹10L', '₹5L', '₹6L', '₹4L', '₹2L', '₹4L', '₹6L', '₹10L', '₹8L', '₹10L', '₹9L', '₹12T', '₹5L']\n"
     ]
    }
   ],
   "source": [
    "mi=driver5.find_elements_by_xpath('//div[@class=\"d-flex mt-xxsm css-79elbk epuxyqn0\"]/p[1]')\n",
    "salary=[]\n",
    "for i in mi:\n",
    "    salary.append(i.text)\n",
    "print(salary)    "
   ]
  },
  {
   "cell_type": "code",
   "execution_count": 152,
   "id": "804dcb06",
   "metadata": {},
   "outputs": [
    {
     "name": "stdout",
     "output_type": "stream",
     "text": [
      "['₹13L', '₹28L', '₹22L', '₹1Cr', '₹16L', '₹15L', '₹20L', '₹17L', '₹15L', '₹15L', '₹13L', '₹18L', '₹21L', '₹17L', '₹21L', '₹20L', '₹30L', '₹15L', '₹63T', '₹72L']\n"
     ]
    }
   ],
   "source": [
    "ma=driver5.find_elements_by_xpath('//div[@class=\"d-flex mt-xxsm css-79elbk epuxyqn0\"]/p')\n",
    "salary1=[]\n",
    "for i in mi:\n",
    "    salary1.append(i.text)\n",
    "print(salary1)    "
   ]
  },
  {
   "cell_type": "code",
   "execution_count": 165,
   "id": "d9399731",
   "metadata": {},
   "outputs": [
    {
     "name": "stdout",
     "output_type": "stream",
     "text": [
      "['3.9', '3.9', '4.1', '3.8', '4', '3.7', '3.7', '3.9', '4.2', '3.6', '3.8', '4', '4', '3.8', '3.3', '4.1', '3.8', '4.1', '3.8', '3.8']\n"
     ]
    }
   ],
   "source": [
    "rate=driver5.find_elements_by_xpath('//div[@class=\"d-flex align-items-center mt-xxsm\"]/span[1]')\n",
    "rating=[]\n",
    "for i in rate:\n",
    "    rating.append(i.text)\n",
    "print(rating)    "
   ]
  },
  {
   "cell_type": "code",
   "execution_count": 166,
   "id": "c62c9d14",
   "metadata": {},
   "outputs": [],
   "source": [
    "Job=pd.DataFrame({'Company name':job,'Comapny Rating':rating,'Avg Salary':avg_salary,'Min salary':salary,'Max salary':salary1})"
   ]
  },
  {
   "cell_type": "code",
   "execution_count": 167,
   "id": "5bd2d875",
   "metadata": {},
   "outputs": [
    {
     "data": {
      "text/html": [
       "<div>\n",
       "<style scoped>\n",
       "    .dataframe tbody tr th:only-of-type {\n",
       "        vertical-align: middle;\n",
       "    }\n",
       "\n",
       "    .dataframe tbody tr th {\n",
       "        vertical-align: top;\n",
       "    }\n",
       "\n",
       "    .dataframe thead th {\n",
       "        text-align: right;\n",
       "    }\n",
       "</style>\n",
       "<table border=\"1\" class=\"dataframe\">\n",
       "  <thead>\n",
       "    <tr style=\"text-align: right;\">\n",
       "      <th></th>\n",
       "      <th>Company name</th>\n",
       "      <th>Comapny Rating</th>\n",
       "      <th>Avg Salary</th>\n",
       "      <th>Min salary</th>\n",
       "      <th>Max salary</th>\n",
       "    </tr>\n",
       "  </thead>\n",
       "  <tbody>\n",
       "    <tr>\n",
       "      <th>0</th>\n",
       "      <td>Tata Consultancy Services</td>\n",
       "      <td>3.9</td>\n",
       "      <td>₹6,19,349 /yr</td>\n",
       "      <td>₹4L</td>\n",
       "      <td>₹13L</td>\n",
       "    </tr>\n",
       "    <tr>\n",
       "      <th>1</th>\n",
       "      <td>IBM</td>\n",
       "      <td>3.9</td>\n",
       "      <td>₹9,00,000 /yr</td>\n",
       "      <td>₹1L</td>\n",
       "      <td>₹28L</td>\n",
       "    </tr>\n",
       "    <tr>\n",
       "      <th>2</th>\n",
       "      <td>Accenture</td>\n",
       "      <td>4.1</td>\n",
       "      <td>₹11,71,012 /yr</td>\n",
       "      <td>₹6L</td>\n",
       "      <td>₹22L</td>\n",
       "    </tr>\n",
       "    <tr>\n",
       "      <th>3</th>\n",
       "      <td>Delhivery</td>\n",
       "      <td>3.8</td>\n",
       "      <td>₹12,26,283 /yr</td>\n",
       "      <td>₹5L</td>\n",
       "      <td>₹1Cr</td>\n",
       "    </tr>\n",
       "    <tr>\n",
       "      <th>4</th>\n",
       "      <td>Ericsson-Worldwide</td>\n",
       "      <td>4</td>\n",
       "      <td>₹7,44,116 /yr</td>\n",
       "      <td>₹4L</td>\n",
       "      <td>₹16L</td>\n",
       "    </tr>\n",
       "    <tr>\n",
       "      <th>5</th>\n",
       "      <td>UnitedHealth Group</td>\n",
       "      <td>3.7</td>\n",
       "      <td>₹12,80,000 /yr</td>\n",
       "      <td>₹8L</td>\n",
       "      <td>₹15L</td>\n",
       "    </tr>\n",
       "    <tr>\n",
       "      <th>6</th>\n",
       "      <td>Optum</td>\n",
       "      <td>3.7</td>\n",
       "      <td>₹13,29,677 /yr</td>\n",
       "      <td>₹8L</td>\n",
       "      <td>₹20L</td>\n",
       "    </tr>\n",
       "    <tr>\n",
       "      <th>7</th>\n",
       "      <td>Optum Global Solutions</td>\n",
       "      <td>3.9</td>\n",
       "      <td>₹14,28,139 /yr</td>\n",
       "      <td>₹10L</td>\n",
       "      <td>₹17L</td>\n",
       "    </tr>\n",
       "    <tr>\n",
       "      <th>8</th>\n",
       "      <td>Valiance Solutions</td>\n",
       "      <td>4.2</td>\n",
       "      <td>₹8,69,449 /yr</td>\n",
       "      <td>₹5L</td>\n",
       "      <td>₹15L</td>\n",
       "    </tr>\n",
       "    <tr>\n",
       "      <th>9</th>\n",
       "      <td>EXL Service</td>\n",
       "      <td>3.6</td>\n",
       "      <td>₹11,10,000 /yr</td>\n",
       "      <td>₹6L</td>\n",
       "      <td>₹15L</td>\n",
       "    </tr>\n",
       "  </tbody>\n",
       "</table>\n",
       "</div>"
      ],
      "text/plain": [
       "                Company name Comapny Rating      Avg Salary Min salary  \\\n",
       "0  Tata Consultancy Services            3.9   ₹6,19,349 /yr        ₹4L   \n",
       "1                        IBM            3.9   ₹9,00,000 /yr        ₹1L   \n",
       "2                  Accenture            4.1  ₹11,71,012 /yr        ₹6L   \n",
       "3                  Delhivery            3.8  ₹12,26,283 /yr        ₹5L   \n",
       "4         Ericsson-Worldwide              4   ₹7,44,116 /yr        ₹4L   \n",
       "5         UnitedHealth Group            3.7  ₹12,80,000 /yr        ₹8L   \n",
       "6                      Optum            3.7  ₹13,29,677 /yr        ₹8L   \n",
       "7     Optum Global Solutions            3.9  ₹14,28,139 /yr       ₹10L   \n",
       "8         Valiance Solutions            4.2   ₹8,69,449 /yr        ₹5L   \n",
       "9                EXL Service            3.6  ₹11,10,000 /yr        ₹6L   \n",
       "\n",
       "  Max salary  \n",
       "0       ₹13L  \n",
       "1       ₹28L  \n",
       "2       ₹22L  \n",
       "3       ₹1Cr  \n",
       "4       ₹16L  \n",
       "5       ₹15L  \n",
       "6       ₹20L  \n",
       "7       ₹17L  \n",
       "8       ₹15L  \n",
       "9       ₹15L  "
      ]
     },
     "execution_count": 167,
     "metadata": {},
     "output_type": "execute_result"
    }
   ],
   "source": [
    "Job[:10]"
   ]
  },
  {
   "cell_type": "markdown",
   "id": "d80c239e",
   "metadata": {},
   "source": [
    "# Answer 6"
   ]
  },
  {
   "cell_type": "code",
   "execution_count": 38,
   "id": "44f5b276",
   "metadata": {},
   "outputs": [],
   "source": [
    "driver6=webdriver.Chrome(r\"F:\\Python\\chromedriver.exe\")\n",
    "driver6.get('https://www.flipkart.com/')"
   ]
  },
  {
   "cell_type": "code",
   "execution_count": 39,
   "id": "5263520b",
   "metadata": {},
   "outputs": [
    {
     "data": {
      "text/plain": [
       "<selenium.webdriver.remote.webelement.WebElement (session=\"c0e67431ffef8b6a24a18b154e0e2ebe\", element=\"3546f3a4-b59b-498f-a6ae-cbbcb3603e15\")>"
      ]
     },
     "execution_count": 39,
     "metadata": {},
     "output_type": "execute_result"
    }
   ],
   "source": [
    "search=driver6.find_element_by_name('q')\n",
    "search"
   ]
  },
  {
   "cell_type": "code",
   "execution_count": 40,
   "id": "65afb4ac",
   "metadata": {},
   "outputs": [],
   "source": [
    "search.send_keys('sunglasses')"
   ]
  },
  {
   "cell_type": "code",
   "execution_count": 41,
   "id": "2757bbdb",
   "metadata": {},
   "outputs": [],
   "source": [
    "btn=driver6.find_element_by_xpath('//button[@class=\"L0Z3Pu\"]')"
   ]
  },
  {
   "cell_type": "code",
   "execution_count": 42,
   "id": "12ec621b",
   "metadata": {},
   "outputs": [],
   "source": [
    "btn.click()"
   ]
  },
  {
   "cell_type": "code",
   "execution_count": 9,
   "id": "a0e815be",
   "metadata": {},
   "outputs": [],
   "source": [
    "b_name=[]\n",
    "for i in range(1,4):\n",
    "    bnam=driver6.find_elements_by_xpath('//div[@class=\"_2WkVRV\"]')\n",
    "    for i in bnam:\n",
    "        b_name.append(i.text)\n",
    "next_btn=driver6.find_element_by_xpath('//a[@class=\"ge-49M\"]')\n",
    "next_btn.click()\n",
    "    \n",
    "        "
   ]
  },
  {
   "cell_type": "code",
   "execution_count": 11,
   "id": "49ec04de",
   "metadata": {},
   "outputs": [
    {
     "data": {
      "text/plain": [
       "120"
      ]
     },
     "execution_count": 11,
     "metadata": {},
     "output_type": "execute_result"
    }
   ],
   "source": [
    "len(b_name)"
   ]
  },
  {
   "cell_type": "code",
   "execution_count": 16,
   "id": "b2171ddd",
   "metadata": {},
   "outputs": [
    {
     "data": {
      "text/plain": [
       "120"
      ]
     },
     "execution_count": 16,
     "metadata": {},
     "output_type": "execute_result"
    }
   ],
   "source": [
    "price=[]\n",
    "for i in range(1,4):\n",
    "    pr=driver6.find_elements_by_xpath('//div[@class=\"_30jeq3\"]')\n",
    "    for i in pr:\n",
    "        price.append(i.text)\n",
    "next_btn=driver6.find_element_by_xpath('//a[@class=\"ge-49M\"]')\n",
    "next_btn.click()        \n",
    "len(price)"
   ]
  },
  {
   "cell_type": "code",
   "execution_count": 36,
   "id": "107c88e7",
   "metadata": {},
   "outputs": [
    {
     "data": {
      "text/plain": [
       "120"
      ]
     },
     "execution_count": 36,
     "metadata": {},
     "output_type": "execute_result"
    }
   ],
   "source": [
    "descr=[]\n",
    "for i in range(1,4):\n",
    "    des=driver6.find_elements_by_xpath('//div[@class=\"_2B099V\"]/a[1]')\n",
    "    try:\n",
    "        for i in des:\n",
    "            descr.append(i.text)\n",
    "    except:\n",
    "        descr.append('--')\n",
    "next_btn=driver6.find_element_by_xpath('//div[@class=\"_2MImiq\"]/span')\n",
    "next_btn.click()        \n",
    "len(descr)        "
   ]
  },
  {
   "cell_type": "code",
   "execution_count": 43,
   "id": "97179e09",
   "metadata": {},
   "outputs": [
    {
     "data": {
      "text/plain": [
       "120"
      ]
     },
     "execution_count": 43,
     "metadata": {},
     "output_type": "execute_result"
    }
   ],
   "source": [
    "dicnt=[]\n",
    "for i in range(1,4):\n",
    "    dis=driver6.find_elements_by_xpath('//div[@class=\"_3Ay6Sb\"]/span')\n",
    "    try:\n",
    "        for i in dis:\n",
    "            dicnt.append(i.text)\n",
    "    except:\n",
    "        dicnt.append('--')\n",
    "next_btn=driver6.find_element_by_xpath('//div[@class=\"_2MImiq\"]/span')\n",
    "next_btn.click()        \n",
    "len(dicnt)                "
   ]
  },
  {
   "cell_type": "code",
   "execution_count": 48,
   "id": "74dfd530",
   "metadata": {},
   "outputs": [],
   "source": [
    "Sunglasses=pd.DataFrame({'Brand name':b_name,'Price':price,'Description':descr,'Discount':dicnt},index=range(1,121))"
   ]
  },
  {
   "cell_type": "code",
   "execution_count": 49,
   "id": "f2d50e43",
   "metadata": {},
   "outputs": [
    {
     "data": {
      "text/html": [
       "<div>\n",
       "<style scoped>\n",
       "    .dataframe tbody tr th:only-of-type {\n",
       "        vertical-align: middle;\n",
       "    }\n",
       "\n",
       "    .dataframe tbody tr th {\n",
       "        vertical-align: top;\n",
       "    }\n",
       "\n",
       "    .dataframe thead th {\n",
       "        text-align: right;\n",
       "    }\n",
       "</style>\n",
       "<table border=\"1\" class=\"dataframe\">\n",
       "  <thead>\n",
       "    <tr style=\"text-align: right;\">\n",
       "      <th></th>\n",
       "      <th>Brand name</th>\n",
       "      <th>Price</th>\n",
       "      <th>Description</th>\n",
       "      <th>Discount</th>\n",
       "    </tr>\n",
       "  </thead>\n",
       "  <tbody>\n",
       "    <tr>\n",
       "      <th>1</th>\n",
       "      <td>GANSTA</td>\n",
       "      <td>₹474</td>\n",
       "      <td>UV Protection Wayfarer Sunglasses (55)</td>\n",
       "      <td>66% off</td>\n",
       "    </tr>\n",
       "    <tr>\n",
       "      <th>2</th>\n",
       "      <td>ROYAL SON</td>\n",
       "      <td>₹352</td>\n",
       "      <td>Others Round Sunglasses (52)</td>\n",
       "      <td>65% off</td>\n",
       "    </tr>\n",
       "    <tr>\n",
       "      <th>3</th>\n",
       "      <td>SHAAH COLLECTIONS</td>\n",
       "      <td>₹209</td>\n",
       "      <td>UV Protection, Polarized, Mirrored Wayfarer Su...</td>\n",
       "      <td>86% off</td>\n",
       "    </tr>\n",
       "    <tr>\n",
       "      <th>4</th>\n",
       "      <td>Elligator</td>\n",
       "      <td>₹854</td>\n",
       "      <td>UV Protection Aviator Sunglasses (57)</td>\n",
       "      <td>88% off</td>\n",
       "    </tr>\n",
       "    <tr>\n",
       "      <th>5</th>\n",
       "      <td>PIRASO</td>\n",
       "      <td>₹355</td>\n",
       "      <td>UV Protection Retro Square Sunglasses (88)</td>\n",
       "      <td>85% off</td>\n",
       "    </tr>\n",
       "    <tr>\n",
       "      <th>...</th>\n",
       "      <td>...</td>\n",
       "      <td>...</td>\n",
       "      <td>...</td>\n",
       "      <td>...</td>\n",
       "    </tr>\n",
       "    <tr>\n",
       "      <th>96</th>\n",
       "      <td>AISLIN</td>\n",
       "      <td>₹469</td>\n",
       "      <td>UV Protection, Gradient Over-sized Sunglasses ...</td>\n",
       "      <td>62% off</td>\n",
       "    </tr>\n",
       "    <tr>\n",
       "      <th>97</th>\n",
       "      <td>SHAAH COLLECTIONS</td>\n",
       "      <td>₹331</td>\n",
       "      <td>Riding Glasses, Others, UV Protection Wrap-aro...</td>\n",
       "      <td>78% off</td>\n",
       "    </tr>\n",
       "    <tr>\n",
       "      <th>98</th>\n",
       "      <td>PHENOMENAL</td>\n",
       "      <td>₹295</td>\n",
       "      <td>UV Protection, Riding Glasses Rectangular, Ret...</td>\n",
       "      <td>80% off</td>\n",
       "    </tr>\n",
       "    <tr>\n",
       "      <th>99</th>\n",
       "      <td>Fastrack</td>\n",
       "      <td>₹210</td>\n",
       "      <td>UV Protection, Polarized, Gradient Rectangular...</td>\n",
       "      <td>80% off</td>\n",
       "    </tr>\n",
       "    <tr>\n",
       "      <th>100</th>\n",
       "      <td>Flizz</td>\n",
       "      <td>₹799</td>\n",
       "      <td>UV Protection Oval Sunglasses (Free Size)</td>\n",
       "      <td>55% off</td>\n",
       "    </tr>\n",
       "  </tbody>\n",
       "</table>\n",
       "<p>100 rows × 4 columns</p>\n",
       "</div>"
      ],
      "text/plain": [
       "            Brand name Price  \\\n",
       "1               GANSTA  ₹474   \n",
       "2            ROYAL SON  ₹352   \n",
       "3    SHAAH COLLECTIONS  ₹209   \n",
       "4            Elligator  ₹854   \n",
       "5               PIRASO  ₹355   \n",
       "..                 ...   ...   \n",
       "96              AISLIN  ₹469   \n",
       "97   SHAAH COLLECTIONS  ₹331   \n",
       "98          PHENOMENAL  ₹295   \n",
       "99            Fastrack  ₹210   \n",
       "100              Flizz  ₹799   \n",
       "\n",
       "                                           Description Discount  \n",
       "1               UV Protection Wayfarer Sunglasses (55)  66% off  \n",
       "2                         Others Round Sunglasses (52)  65% off  \n",
       "3    UV Protection, Polarized, Mirrored Wayfarer Su...  86% off  \n",
       "4                UV Protection Aviator Sunglasses (57)  88% off  \n",
       "5           UV Protection Retro Square Sunglasses (88)  85% off  \n",
       "..                                                 ...      ...  \n",
       "96   UV Protection, Gradient Over-sized Sunglasses ...  62% off  \n",
       "97   Riding Glasses, Others, UV Protection Wrap-aro...  78% off  \n",
       "98   UV Protection, Riding Glasses Rectangular, Ret...  80% off  \n",
       "99   UV Protection, Polarized, Gradient Rectangular...  80% off  \n",
       "100          UV Protection Oval Sunglasses (Free Size)  55% off  \n",
       "\n",
       "[100 rows x 4 columns]"
      ]
     },
     "execution_count": 49,
     "metadata": {},
     "output_type": "execute_result"
    }
   ],
   "source": [
    "Sunglasses[:100]"
   ]
  },
  {
   "cell_type": "markdown",
   "id": "8525ee4a",
   "metadata": {},
   "source": [
    "# Answer 7"
   ]
  },
  {
   "cell_type": "code",
   "execution_count": 51,
   "id": "e20f077f",
   "metadata": {},
   "outputs": [],
   "source": [
    "driver7=webdriver.Chrome(r\"F:\\Python\\chromedriver.exe\")\n",
    "driver7.get('https://www.flipkart.com/apple-iphone-11-black-64-gb-includes-earpods-power-adapter/product-reviews/itm0f37c2240b217?pid=MOBFKCTSVZAXUHGR&lid=LSTMOBFKCTSVZAXUHGREPBFGI&marketplace=FLIPKART')"
   ]
  },
  {
   "cell_type": "code",
   "execution_count": 57,
   "id": "64165d9f",
   "metadata": {},
   "outputs": [
    {
     "data": {
      "text/plain": [
       "100"
      ]
     },
     "execution_count": 57,
     "metadata": {},
     "output_type": "execute_result"
    }
   ],
   "source": [
    "rate=[]\n",
    "for i in range(1,11):\n",
    "    try:\n",
    "        rt=driver7.find_elements_by_xpath('//div[@class=\"_3LWZlK _1BLPMq\"]')\n",
    "        for i in rt:\n",
    "            \n",
    "            rate.append(i.text)\n",
    "    except:\n",
    "        rate.append('---')\n",
    "len(rate)  "
   ]
  },
  {
   "cell_type": "code",
   "execution_count": 60,
   "id": "f1e0ede5",
   "metadata": {},
   "outputs": [
    {
     "data": {
      "text/plain": [
       "100"
      ]
     },
     "execution_count": 60,
     "metadata": {},
     "output_type": "execute_result"
    }
   ],
   "source": [
    "rev=[]\n",
    "for i in range(1,11):\n",
    "    try:\n",
    "        rv=driver7.find_elements_by_xpath('//p[@class=\"_2-N8zT\"]')\n",
    "        for i in rv:\n",
    "            \n",
    "            rev.append(i.text)\n",
    "    except:\n",
    "        rev.append('---')\n",
    "len(rev)  "
   ]
  },
  {
   "cell_type": "code",
   "execution_count": 66,
   "id": "468d6b5a",
   "metadata": {},
   "outputs": [
    {
     "data": {
      "text/plain": [
       "100"
      ]
     },
     "execution_count": 66,
     "metadata": {},
     "output_type": "execute_result"
    }
   ],
   "source": [
    "rev1=[]\n",
    "for i in range(1,11):\n",
    "    try:\n",
    "        rv1=driver7.find_elements_by_xpath('//div[@class=\"t-ZTKy\"]')\n",
    "        for i in rv1:\n",
    "            \n",
    "            rev1.append(i.text.replace('\\n',''))\n",
    "    except:\n",
    "        rev1.append('---')\n",
    "len(rev1)  "
   ]
  },
  {
   "cell_type": "code",
   "execution_count": 69,
   "id": "64251f94",
   "metadata": {},
   "outputs": [],
   "source": [
    "iphone11=pd.DataFrame({'Rating':rate,'Summary review':rev,'Full review':rev1},index=range(len(rate)))"
   ]
  },
  {
   "cell_type": "code",
   "execution_count": 70,
   "id": "ed98a1e9",
   "metadata": {},
   "outputs": [
    {
     "data": {
      "text/html": [
       "<div>\n",
       "<style scoped>\n",
       "    .dataframe tbody tr th:only-of-type {\n",
       "        vertical-align: middle;\n",
       "    }\n",
       "\n",
       "    .dataframe tbody tr th {\n",
       "        vertical-align: top;\n",
       "    }\n",
       "\n",
       "    .dataframe thead th {\n",
       "        text-align: right;\n",
       "    }\n",
       "</style>\n",
       "<table border=\"1\" class=\"dataframe\">\n",
       "  <thead>\n",
       "    <tr style=\"text-align: right;\">\n",
       "      <th></th>\n",
       "      <th>Rating</th>\n",
       "      <th>Summary review</th>\n",
       "      <th>Full review</th>\n",
       "    </tr>\n",
       "  </thead>\n",
       "  <tbody>\n",
       "    <tr>\n",
       "      <th>0</th>\n",
       "      <td>5</td>\n",
       "      <td>Brilliant</td>\n",
       "      <td>The Best Phone for the MoneyThe iPhone 11 offe...</td>\n",
       "    </tr>\n",
       "    <tr>\n",
       "      <th>1</th>\n",
       "      <td>5</td>\n",
       "      <td>Simply awesome</td>\n",
       "      <td>Really satisfied with the Product I received.....</td>\n",
       "    </tr>\n",
       "    <tr>\n",
       "      <th>2</th>\n",
       "      <td>5</td>\n",
       "      <td>Best in the market!</td>\n",
       "      <td>Great iPhone very snappy experience as apple k...</td>\n",
       "    </tr>\n",
       "    <tr>\n",
       "      <th>3</th>\n",
       "      <td>5</td>\n",
       "      <td>Perfect product!</td>\n",
       "      <td>Amazing phone with great cameras and better ba...</td>\n",
       "    </tr>\n",
       "    <tr>\n",
       "      <th>4</th>\n",
       "      <td>5</td>\n",
       "      <td>Fabulous!</td>\n",
       "      <td>This is my first iOS phone. I am very happy wi...</td>\n",
       "    </tr>\n",
       "    <tr>\n",
       "      <th>...</th>\n",
       "      <td>...</td>\n",
       "      <td>...</td>\n",
       "      <td>...</td>\n",
       "    </tr>\n",
       "    <tr>\n",
       "      <th>95</th>\n",
       "      <td>5</td>\n",
       "      <td>Worth every penny</td>\n",
       "      <td>Previously I was using one plus 3t it was a gr...</td>\n",
       "    </tr>\n",
       "    <tr>\n",
       "      <th>96</th>\n",
       "      <td>5</td>\n",
       "      <td>Great product</td>\n",
       "      <td>Amazing Powerful and Durable Gadget.I’m am ver...</td>\n",
       "    </tr>\n",
       "    <tr>\n",
       "      <th>97</th>\n",
       "      <td>4</td>\n",
       "      <td>Good choice</td>\n",
       "      <td>So far it’s been an AMAZING experience coming ...</td>\n",
       "    </tr>\n",
       "    <tr>\n",
       "      <th>98</th>\n",
       "      <td>5</td>\n",
       "      <td>Worth every penny</td>\n",
       "      <td>i11 is worthy to buy, too much happy with the ...</td>\n",
       "    </tr>\n",
       "    <tr>\n",
       "      <th>99</th>\n",
       "      <td>5</td>\n",
       "      <td>Highly recommended</td>\n",
       "      <td>iphone 11 is a very good phone to buy only if ...</td>\n",
       "    </tr>\n",
       "  </tbody>\n",
       "</table>\n",
       "<p>100 rows × 3 columns</p>\n",
       "</div>"
      ],
      "text/plain": [
       "   Rating       Summary review  \\\n",
       "0       5            Brilliant   \n",
       "1       5       Simply awesome   \n",
       "2       5  Best in the market!   \n",
       "3       5     Perfect product!   \n",
       "4       5            Fabulous!   \n",
       "..    ...                  ...   \n",
       "95      5    Worth every penny   \n",
       "96      5        Great product   \n",
       "97      4          Good choice   \n",
       "98      5    Worth every penny   \n",
       "99      5   Highly recommended   \n",
       "\n",
       "                                          Full review  \n",
       "0   The Best Phone for the MoneyThe iPhone 11 offe...  \n",
       "1   Really satisfied with the Product I received.....  \n",
       "2   Great iPhone very snappy experience as apple k...  \n",
       "3   Amazing phone with great cameras and better ba...  \n",
       "4   This is my first iOS phone. I am very happy wi...  \n",
       "..                                                ...  \n",
       "95  Previously I was using one plus 3t it was a gr...  \n",
       "96  Amazing Powerful and Durable Gadget.I’m am ver...  \n",
       "97  So far it’s been an AMAZING experience coming ...  \n",
       "98  i11 is worthy to buy, too much happy with the ...  \n",
       "99  iphone 11 is a very good phone to buy only if ...  \n",
       "\n",
       "[100 rows x 3 columns]"
      ]
     },
     "execution_count": 70,
     "metadata": {},
     "output_type": "execute_result"
    }
   ],
   "source": [
    "iphone11"
   ]
  },
  {
   "cell_type": "markdown",
   "id": "412c74a8",
   "metadata": {},
   "source": [
    "# Answer 8"
   ]
  },
  {
   "cell_type": "code",
   "execution_count": 71,
   "id": "700e7eac",
   "metadata": {},
   "outputs": [],
   "source": [
    "driver8=webdriver.Chrome(r\"F:\\Python\\chromedriver.exe\")\n",
    "driver8.get('https://www.flipkart.com/')"
   ]
  },
  {
   "cell_type": "code",
   "execution_count": 72,
   "id": "f2653dbf",
   "metadata": {},
   "outputs": [],
   "source": [
    "search=driver8.find_element_by_name('q')\n",
    "search.send_keys('sneakers')"
   ]
  },
  {
   "cell_type": "code",
   "execution_count": 74,
   "id": "587f627e",
   "metadata": {},
   "outputs": [],
   "source": [
    "btn=driver8.find_element_by_xpath('//button[@class=\"L0Z3Pu\"]')\n",
    "btn.click()"
   ]
  },
  {
   "cell_type": "code",
   "execution_count": 89,
   "id": "740655b8",
   "metadata": {},
   "outputs": [
    {
     "data": {
      "text/plain": [
       "120"
      ]
     },
     "execution_count": 89,
     "metadata": {},
     "output_type": "execute_result"
    }
   ],
   "source": [
    "name=[]\n",
    "for i in range(1,4):\n",
    "    nam=driver8.find_elements_by_xpath('//div[@class=\"_2WkVRV\"]')\n",
    "    for i in nam:\n",
    "        name.append(i.text)\n",
    "next_btn=driver8.find_element_by_xpath('//a[@class=\"ge-49M\"]')\n",
    "next_btn.click()\n",
    "     \n",
    "len(name)"
   ]
  },
  {
   "cell_type": "code",
   "execution_count": 93,
   "id": "c24bc303",
   "metadata": {},
   "outputs": [
    {
     "data": {
      "text/plain": [
       "120"
      ]
     },
     "execution_count": 93,
     "metadata": {},
     "output_type": "execute_result"
    }
   ],
   "source": [
    "desc=[]\n",
    "for i in range(1,4):\n",
    "    ds=driver8.find_elements_by_xpath('//div[@class=\"_2B099V\"]/a[1]')\n",
    "    for i in ds:\n",
    "        desc.append(i.text)\n",
    "next_btn=driver8.find_element_by_xpath('//a[@class=\"ge-49M\"]')\n",
    "next_btn.click()         \n",
    "len(desc)"
   ]
  },
  {
   "cell_type": "code",
   "execution_count": 99,
   "id": "a30d55e3",
   "metadata": {},
   "outputs": [
    {
     "data": {
      "text/plain": [
       "120"
      ]
     },
     "execution_count": 99,
     "metadata": {},
     "output_type": "execute_result"
    }
   ],
   "source": [
    "pric=[]\n",
    "for i in range(1,4):\n",
    "    prc=driver8.find_elements_by_xpath('//div[@class=\"_30jeq3\"]')\n",
    "    for i in prc:\n",
    "        pric.append(i.text)\n",
    "next_btn=driver8.find_element_by_xpath('//nav[@class=\"yFHi8N\"]/a')\n",
    "next_btn.click()        \n",
    "len(pric)"
   ]
  },
  {
   "cell_type": "code",
   "execution_count": 105,
   "id": "8c1dbad3",
   "metadata": {},
   "outputs": [
    {
     "data": {
      "text/plain": [
       "120"
      ]
     },
     "execution_count": 105,
     "metadata": {},
     "output_type": "execute_result"
    }
   ],
   "source": [
    "dsnt=[]\n",
    "for i in range(1,4):\n",
    "    try:\n",
    "        \n",
    "        dic=driver8.find_elements_by_xpath('//div[@class=\"_3Ay6Sb\"]/span')\n",
    "        for i in dic:\n",
    "            dsnt.append(i.text)\n",
    "    except:\n",
    "                \n",
    "        dsnt.append('--')\n",
    "next_btn=driver8.find_element_by_xpath('//nav[@class=\"yFHi8N\"]/a')\n",
    "next_btn.click()        \n",
    "len(dsnt)  "
   ]
  },
  {
   "cell_type": "code",
   "execution_count": 107,
   "id": "ba4e8794",
   "metadata": {},
   "outputs": [],
   "source": [
    "Sneakers=pd.DataFrame({'Brand Name':name,'Product description':desc,'Price':pric,'Discount':dsnt},index=range(len(name)))"
   ]
  },
  {
   "cell_type": "code",
   "execution_count": 109,
   "id": "432e0936",
   "metadata": {},
   "outputs": [
    {
     "data": {
      "text/html": [
       "<div>\n",
       "<style scoped>\n",
       "    .dataframe tbody tr th:only-of-type {\n",
       "        vertical-align: middle;\n",
       "    }\n",
       "\n",
       "    .dataframe tbody tr th {\n",
       "        vertical-align: top;\n",
       "    }\n",
       "\n",
       "    .dataframe thead th {\n",
       "        text-align: right;\n",
       "    }\n",
       "</style>\n",
       "<table border=\"1\" class=\"dataframe\">\n",
       "  <thead>\n",
       "    <tr style=\"text-align: right;\">\n",
       "      <th></th>\n",
       "      <th>Brand Name</th>\n",
       "      <th>Product description</th>\n",
       "      <th>Price</th>\n",
       "      <th>Discount</th>\n",
       "    </tr>\n",
       "  </thead>\n",
       "  <tbody>\n",
       "    <tr>\n",
       "      <th>0</th>\n",
       "      <td>India hub</td>\n",
       "      <td>Stylish Sports Combo Sneakers For Men</td>\n",
       "      <td>₹379</td>\n",
       "      <td>81% off</td>\n",
       "    </tr>\n",
       "    <tr>\n",
       "      <th>1</th>\n",
       "      <td>Echor</td>\n",
       "      <td>Speed Set of 5 Pairs Sneakers Outdoors Casuals...</td>\n",
       "      <td>₹389</td>\n",
       "      <td>80% off</td>\n",
       "    </tr>\n",
       "    <tr>\n",
       "      <th>2</th>\n",
       "      <td>Chevit</td>\n",
       "      <td>Super Stylish &amp; Trendy Combo Pack of 02 Pairs ...</td>\n",
       "      <td>₹599</td>\n",
       "      <td>62% off</td>\n",
       "    </tr>\n",
       "    <tr>\n",
       "      <th>3</th>\n",
       "      <td>Longwalk</td>\n",
       "      <td>Men Boxer Sneakers For Men</td>\n",
       "      <td>₹266</td>\n",
       "      <td>46% off</td>\n",
       "    </tr>\n",
       "    <tr>\n",
       "      <th>4</th>\n",
       "      <td>luxury fashion</td>\n",
       "      <td>Luxury Fashionable casual sneaker shoes Sneake...</td>\n",
       "      <td>₹379</td>\n",
       "      <td>70% off</td>\n",
       "    </tr>\n",
       "    <tr>\n",
       "      <th>...</th>\n",
       "      <td>...</td>\n",
       "      <td>...</td>\n",
       "      <td>...</td>\n",
       "      <td>...</td>\n",
       "    </tr>\n",
       "    <tr>\n",
       "      <th>115</th>\n",
       "      <td>Stinson</td>\n",
       "      <td>White Sneaker For Men's/Boy's Sneakers For Men</td>\n",
       "      <td>₹499</td>\n",
       "      <td>61% off</td>\n",
       "    </tr>\n",
       "    <tr>\n",
       "      <th>116</th>\n",
       "      <td>WRIZT</td>\n",
       "      <td>Casual Sneakers,dancing, walking Sneakers For Men</td>\n",
       "      <td>₹299</td>\n",
       "      <td>70% off</td>\n",
       "    </tr>\n",
       "    <tr>\n",
       "      <th>117</th>\n",
       "      <td>Robbie jones</td>\n",
       "      <td>Casual Sneakers Shoes For Men Sneakers For Men</td>\n",
       "      <td>₹399</td>\n",
       "      <td>60% off</td>\n",
       "    </tr>\n",
       "    <tr>\n",
       "      <th>118</th>\n",
       "      <td>Airland</td>\n",
       "      <td>shoe Sneakers For Men</td>\n",
       "      <td>₹250</td>\n",
       "      <td>49% off</td>\n",
       "    </tr>\n",
       "    <tr>\n",
       "      <th>119</th>\n",
       "      <td>bluemaker</td>\n",
       "      <td>Sneakers For Men</td>\n",
       "      <td>₹599</td>\n",
       "      <td>59% off</td>\n",
       "    </tr>\n",
       "  </tbody>\n",
       "</table>\n",
       "<p>120 rows × 4 columns</p>\n",
       "</div>"
      ],
      "text/plain": [
       "         Brand Name                                Product description Price  \\\n",
       "0         India hub              Stylish Sports Combo Sneakers For Men  ₹379   \n",
       "1             Echor  Speed Set of 5 Pairs Sneakers Outdoors Casuals...  ₹389   \n",
       "2            Chevit  Super Stylish & Trendy Combo Pack of 02 Pairs ...  ₹599   \n",
       "3          Longwalk                         Men Boxer Sneakers For Men  ₹266   \n",
       "4    luxury fashion  Luxury Fashionable casual sneaker shoes Sneake...  ₹379   \n",
       "..              ...                                                ...   ...   \n",
       "115         Stinson     White Sneaker For Men's/Boy's Sneakers For Men  ₹499   \n",
       "116           WRIZT  Casual Sneakers,dancing, walking Sneakers For Men  ₹299   \n",
       "117    Robbie jones     Casual Sneakers Shoes For Men Sneakers For Men  ₹399   \n",
       "118         Airland                              shoe Sneakers For Men  ₹250   \n",
       "119       bluemaker                                   Sneakers For Men  ₹599   \n",
       "\n",
       "    Discount  \n",
       "0    81% off  \n",
       "1    80% off  \n",
       "2    62% off  \n",
       "3    46% off  \n",
       "4    70% off  \n",
       "..       ...  \n",
       "115  61% off  \n",
       "116  70% off  \n",
       "117  60% off  \n",
       "118  49% off  \n",
       "119  59% off  \n",
       "\n",
       "[120 rows x 4 columns]"
      ]
     },
     "execution_count": 109,
     "metadata": {},
     "output_type": "execute_result"
    }
   ],
   "source": [
    "Sneakers"
   ]
  },
  {
   "cell_type": "code",
   "execution_count": 110,
   "id": "d091a55c",
   "metadata": {},
   "outputs": [],
   "source": [
    "driver9=webdriver.Chrome(r\"F:\\Python\\chromedriver.exe\")\n",
    "driver9.get('https://www.myntra.com/shoes')"
   ]
  },
  {
   "cell_type": "code",
   "execution_count": 133,
   "id": "98ba1d29",
   "metadata": {},
   "outputs": [],
   "source": [
    "filter1=driver9.find_element_by_xpath('//ul[@class=\"price-list\"]/li[2]')\n",
    "filter1.click()"
   ]
  },
  {
   "cell_type": "code",
   "execution_count": 135,
   "id": "4ba1acd2",
   "metadata": {},
   "outputs": [],
   "source": [
    "filter2=driver9.find_element_by_xpath('//li[@class=\"colour-listItem\"]/label[1]')\n",
    "filter2.click()"
   ]
  },
  {
   "cell_type": "code",
   "execution_count": 137,
   "id": "408f5133",
   "metadata": {},
   "outputs": [
    {
     "data": {
      "text/plain": [
       "100"
      ]
     },
     "execution_count": 137,
     "metadata": {},
     "output_type": "execute_result"
    }
   ],
   "source": [
    "b_nam=[]\n",
    "for i in range(1,3):\n",
    "    n=driver9.find_elements_by_xpath('//div[@class=\"product-productMetaInfo\"]/h3')\n",
    "    for i in n:\n",
    "        b_nam.append(i.text)\n",
    "len(b_nam)        "
   ]
  },
  {
   "cell_type": "code",
   "execution_count": 215,
   "id": "82dad2db",
   "metadata": {},
   "outputs": [
    {
     "data": {
      "text/plain": [
       "100"
      ]
     },
     "execution_count": 215,
     "metadata": {},
     "output_type": "execute_result"
    }
   ],
   "source": [
    "des=[]\n",
    "for i in range(1,3):\n",
    "    ds=driver9.find_elements_by_xpath('//div[@class=\"product-productMetaInfo\"]/h4[1]')\n",
    "    for i in ds:\n",
    "        des.append(i.text.replace('\"\"',''))\n",
    "len(des)  "
   ]
  },
  {
   "cell_type": "code",
   "execution_count": 230,
   "id": "d54f279c",
   "metadata": {},
   "outputs": [
    {
     "data": {
      "text/plain": [
       "100"
      ]
     },
     "execution_count": 230,
     "metadata": {},
     "output_type": "execute_result"
    }
   ],
   "source": [
    "prc=[]\n",
    "for i in range(1,3):\n",
    "    pr=driver9.find_elements_by_xpath('//div[@class=\"product-price\"]/span[1]')\n",
    "    for i in pr:\n",
    "        prc.append(i.text[:10].replace(\"'' \",''))\n",
    "len(prc)  "
   ]
  },
  {
   "cell_type": "code",
   "execution_count": 231,
   "id": "b5e99eb2",
   "metadata": {},
   "outputs": [],
   "source": [
    "Shoes=pd.DataFrame({'Brand name':b_nam,'Short description':des,'Price':prc})"
   ]
  },
  {
   "cell_type": "code",
   "execution_count": 232,
   "id": "c9404139",
   "metadata": {},
   "outputs": [
    {
     "data": {
      "text/html": [
       "<div>\n",
       "<style scoped>\n",
       "    .dataframe tbody tr th:only-of-type {\n",
       "        vertical-align: middle;\n",
       "    }\n",
       "\n",
       "    .dataframe tbody tr th {\n",
       "        vertical-align: top;\n",
       "    }\n",
       "\n",
       "    .dataframe thead th {\n",
       "        text-align: right;\n",
       "    }\n",
       "</style>\n",
       "<table border=\"1\" class=\"dataframe\">\n",
       "  <thead>\n",
       "    <tr style=\"text-align: right;\">\n",
       "      <th></th>\n",
       "      <th>Brand name</th>\n",
       "      <th>Short description</th>\n",
       "      <th>Price</th>\n",
       "    </tr>\n",
       "  </thead>\n",
       "  <tbody>\n",
       "    <tr>\n",
       "      <th>0</th>\n",
       "      <td>ALDO</td>\n",
       "      <td>Men Driving Shoes</td>\n",
       "      <td>Rs. 11999</td>\n",
       "    </tr>\n",
       "    <tr>\n",
       "      <th>1</th>\n",
       "      <td>Puma</td>\n",
       "      <td>Men Cell Fraction Fade Running</td>\n",
       "      <td>Rs. 6999</td>\n",
       "    </tr>\n",
       "    <tr>\n",
       "      <th>2</th>\n",
       "      <td>Puma</td>\n",
       "      <td>Men Velocity Nitro Running</td>\n",
       "      <td>Rs. 10999</td>\n",
       "    </tr>\n",
       "    <tr>\n",
       "      <th>3</th>\n",
       "      <td>Puma</td>\n",
       "      <td>Mesh Hybrid Fuego Running</td>\n",
       "      <td>Rs. 6999</td>\n",
       "    </tr>\n",
       "    <tr>\n",
       "      <th>4</th>\n",
       "      <td>Puma</td>\n",
       "      <td>Men BlackTraining or Gym Shoes</td>\n",
       "      <td>Rs. 6999</td>\n",
       "    </tr>\n",
       "    <tr>\n",
       "      <th>...</th>\n",
       "      <td>...</td>\n",
       "      <td>...</td>\n",
       "      <td>...</td>\n",
       "    </tr>\n",
       "    <tr>\n",
       "      <th>95</th>\n",
       "      <td>ASICS</td>\n",
       "      <td>Women GlideRide Running Shoes</td>\n",
       "      <td>Rs. 11199R</td>\n",
       "    </tr>\n",
       "    <tr>\n",
       "      <th>96</th>\n",
       "      <td>ALDO</td>\n",
       "      <td>Women Sneakers</td>\n",
       "      <td>Rs. 11999</td>\n",
       "    </tr>\n",
       "    <tr>\n",
       "      <th>97</th>\n",
       "      <td>RARE RABBIT</td>\n",
       "      <td>Men Leather Formal Slip-Ons</td>\n",
       "      <td>Rs. 9999</td>\n",
       "    </tr>\n",
       "    <tr>\n",
       "      <th>98</th>\n",
       "      <td>Hush Puppies</td>\n",
       "      <td>Men Solid Leather Formal Derbys</td>\n",
       "      <td>Rs. 8999Rs</td>\n",
       "    </tr>\n",
       "    <tr>\n",
       "      <th>99</th>\n",
       "      <td>DAVINCHI</td>\n",
       "      <td>Men Solid Leather Formal Derbys</td>\n",
       "      <td>Rs. 8990</td>\n",
       "    </tr>\n",
       "  </tbody>\n",
       "</table>\n",
       "<p>100 rows × 3 columns</p>\n",
       "</div>"
      ],
      "text/plain": [
       "      Brand name                Short description       Price\n",
       "0           ALDO                Men Driving Shoes   Rs. 11999\n",
       "1           Puma   Men Cell Fraction Fade Running    Rs. 6999\n",
       "2           Puma       Men Velocity Nitro Running   Rs. 10999\n",
       "3           Puma        Mesh Hybrid Fuego Running    Rs. 6999\n",
       "4           Puma   Men BlackTraining or Gym Shoes    Rs. 6999\n",
       "..           ...                              ...         ...\n",
       "95         ASICS    Women GlideRide Running Shoes  Rs. 11199R\n",
       "96          ALDO                   Women Sneakers   Rs. 11999\n",
       "97   RARE RABBIT      Men Leather Formal Slip-Ons    Rs. 9999\n",
       "98  Hush Puppies  Men Solid Leather Formal Derbys  Rs. 8999Rs\n",
       "99      DAVINCHI  Men Solid Leather Formal Derbys    Rs. 8990\n",
       "\n",
       "[100 rows x 3 columns]"
      ]
     },
     "execution_count": 232,
     "metadata": {},
     "output_type": "execute_result"
    }
   ],
   "source": [
    "Shoes"
   ]
  },
  {
   "cell_type": "markdown",
   "id": "ce36fa76",
   "metadata": {},
   "source": [
    "# Answer 10"
   ]
  },
  {
   "cell_type": "code",
   "execution_count": 307,
   "id": "6a6dfb8c",
   "metadata": {},
   "outputs": [],
   "source": [
    "driver10=webdriver.Chrome(r\"F:\\Python\\chromedriver.exe\")\n",
    "driver10.get('https://www.amazon.in/')"
   ]
  },
  {
   "cell_type": "code",
   "execution_count": 308,
   "id": "be5e73c7",
   "metadata": {},
   "outputs": [],
   "source": [
    "search=driver10.find_element_by_id('twotabsearchtextbox')\n",
    "search.send_keys('Laptop')"
   ]
  },
  {
   "cell_type": "code",
   "execution_count": 309,
   "id": "5ea9bc3b",
   "metadata": {},
   "outputs": [],
   "source": [
    "btn=driver10.find_element_by_xpath('//div[@class=\"nav-right\"]')\n",
    "btn.click()"
   ]
  },
  {
   "cell_type": "code",
   "execution_count": 310,
   "id": "09e3996a",
   "metadata": {},
   "outputs": [],
   "source": [
    "filter1=driver10.find_elements_by_xpath('//a[@class=\"a-link-normal s-navigation-item\"]/span')\n",
    "for i in filter1:\n",
    "    if (i.text)==('Intel Core i7' or 'Intel Core i9'):\n",
    "        i.click()\n",
    "        break\n",
    "    "
   ]
  },
  {
   "cell_type": "code",
   "execution_count": 311,
   "id": "1fb13e2c",
   "metadata": {},
   "outputs": [
    {
     "data": {
      "text/plain": [
       "26"
      ]
     },
     "execution_count": 311,
     "metadata": {},
     "output_type": "execute_result"
    }
   ],
   "source": [
    "title=[]\n",
    "ttl=driver10.find_elements_by_xpath('//div[@class=\"a-section a-spacing-none\"]/h2')\n",
    "for i in ttl:\n",
    "    title.append(i.text)\n",
    "len(title)"
   ]
  },
  {
   "cell_type": "code",
   "execution_count": 326,
   "id": "64960ff5",
   "metadata": {},
   "outputs": [],
   "source": [
    "t1=title[:10]"
   ]
  },
  {
   "cell_type": "code",
   "execution_count": 318,
   "id": "fb53a622",
   "metadata": {},
   "outputs": [
    {
     "data": {
      "text/plain": [
       "23"
      ]
     },
     "execution_count": 318,
     "metadata": {},
     "output_type": "execute_result"
    }
   ],
   "source": [
    "pric=[]\n",
    "try:\n",
    "    prc=driver10.find_elements_by_xpath('//a[@class=\"a-size-base a-link-normal a-text-normal\"]/span[1]')\n",
    "    for i in prc:\n",
    "        pric.append(i.text)\n",
    "except:\n",
    "    pric.append('--')  \n",
    "len(pric) "
   ]
  },
  {
   "cell_type": "code",
   "execution_count": 327,
   "id": "14c7e60e",
   "metadata": {},
   "outputs": [],
   "source": [
    "pr1=pric[:10]"
   ]
  },
  {
   "cell_type": "code",
   "execution_count": 280,
   "id": "82187f76",
   "metadata": {},
   "outputs": [
    {
     "data": {
      "text/plain": [
       "26"
      ]
     },
     "execution_count": 280,
     "metadata": {},
     "output_type": "execute_result"
    }
   ],
   "source": [
    "link=[]\n",
    "lnk=driver10.find_elements_by_xpath('//h2[@class=\"a-size-mini a-spacing-none a-color-base s-line-clamp-2\"]/a')\n",
    "for i in lnk:\n",
    "    link.append(i.get_attribute('href'))\n",
    "len(link)"
   ]
  },
  {
   "cell_type": "code",
   "execution_count": 292,
   "id": "7c2bc7b3",
   "metadata": {},
   "outputs": [],
   "source": [
    "lap_rate=[]\n",
    "for i in link:\n",
    "    driver10.get(i)\n",
    "    try:\n",
    "        rt=driver10.find_element_by_xpath('//span[@class=\"a-size-base a-nowrap\"]')\n",
    "        lap_rate.append(rt.text)\n",
    "    except:\n",
    "        lap_rate.append('---')"
   ]
  },
  {
   "cell_type": "code",
   "execution_count": 322,
   "id": "3e842908",
   "metadata": {},
   "outputs": [],
   "source": [
    "lap_rate=lap_rate[:10]"
   ]
  },
  {
   "cell_type": "code",
   "execution_count": 328,
   "id": "08d8e491",
   "metadata": {},
   "outputs": [],
   "source": [
    "Laptops=pd.DataFrame({'Laptop Name':t1,'Price':pr1,'Rating':lap_rate})"
   ]
  },
  {
   "cell_type": "code",
   "execution_count": 329,
   "id": "381fdc48",
   "metadata": {},
   "outputs": [
    {
     "data": {
      "text/html": [
       "<div>\n",
       "<style scoped>\n",
       "    .dataframe tbody tr th:only-of-type {\n",
       "        vertical-align: middle;\n",
       "    }\n",
       "\n",
       "    .dataframe tbody tr th {\n",
       "        vertical-align: top;\n",
       "    }\n",
       "\n",
       "    .dataframe thead th {\n",
       "        text-align: right;\n",
       "    }\n",
       "</style>\n",
       "<table border=\"1\" class=\"dataframe\">\n",
       "  <thead>\n",
       "    <tr style=\"text-align: right;\">\n",
       "      <th></th>\n",
       "      <th>Laptop Name</th>\n",
       "      <th>Price</th>\n",
       "      <th>Rating</th>\n",
       "    </tr>\n",
       "  </thead>\n",
       "  <tbody>\n",
       "    <tr>\n",
       "      <th>0</th>\n",
       "      <td>Dell XPS 9370 13.3-inch FHD Display Thin &amp; Lig...</td>\n",
       "      <td>₹1,14,990</td>\n",
       "      <td>2.8 out of 5</td>\n",
       "    </tr>\n",
       "    <tr>\n",
       "      <th>1</th>\n",
       "      <td>HP Envy 11th Gen Core i7 Processor 13.3-inch (...</td>\n",
       "      <td>₹1,23,300</td>\n",
       "      <td>4.1 out of 5</td>\n",
       "    </tr>\n",
       "    <tr>\n",
       "      <th>2</th>\n",
       "      <td>Lenovo IdeaPad S540 11th Gen Intel Core i7 13....</td>\n",
       "      <td>₹77,990</td>\n",
       "      <td>4.3 out of 5</td>\n",
       "    </tr>\n",
       "    <tr>\n",
       "      <th>3</th>\n",
       "      <td>Lenovo IdeaPad Gaming 3 Intel Core i7 10th Gen...</td>\n",
       "      <td>₹73,990</td>\n",
       "      <td>4.3 out of 5</td>\n",
       "    </tr>\n",
       "    <tr>\n",
       "      <th>4</th>\n",
       "      <td>MSI GF75 Thin, Intel i7-10750H, 17.3\" (43.9 cm...</td>\n",
       "      <td>₹74,990</td>\n",
       "      <td>4.2 out of 5</td>\n",
       "    </tr>\n",
       "    <tr>\n",
       "      <th>5</th>\n",
       "      <td>Mi Notebook Horizon Edition 14 Intel Core i7-1...</td>\n",
       "      <td>₹57,990</td>\n",
       "      <td>4.4 out of 5</td>\n",
       "    </tr>\n",
       "    <tr>\n",
       "      <th>6</th>\n",
       "      <td>ASUS TUF Dash F15 (2021), 15.6-inch (39.62 cms...</td>\n",
       "      <td>₹87,990</td>\n",
       "      <td>4.2 out of 5</td>\n",
       "    </tr>\n",
       "    <tr>\n",
       "      <th>7</th>\n",
       "      <td>Lenovo IdeaPad Flex 5 11th Gen Intel Core i7 1...</td>\n",
       "      <td>₹86,990</td>\n",
       "      <td>3.5 out of 5</td>\n",
       "    </tr>\n",
       "    <tr>\n",
       "      <th>8</th>\n",
       "      <td>Fujitsu UH-X 11th Gen Intel Core i7 13.3” (33....</td>\n",
       "      <td>₹1,07,990</td>\n",
       "      <td>4.1 out of 5</td>\n",
       "    </tr>\n",
       "    <tr>\n",
       "      <th>9</th>\n",
       "      <td>HP Envy 11th Gen Core i7 Processor 13.3-inch (...</td>\n",
       "      <td>₹1,23,300</td>\n",
       "      <td>5 out of 5</td>\n",
       "    </tr>\n",
       "  </tbody>\n",
       "</table>\n",
       "</div>"
      ],
      "text/plain": [
       "                                         Laptop Name      Price        Rating\n",
       "0  Dell XPS 9370 13.3-inch FHD Display Thin & Lig...  ₹1,14,990  2.8 out of 5\n",
       "1  HP Envy 11th Gen Core i7 Processor 13.3-inch (...  ₹1,23,300  4.1 out of 5\n",
       "2  Lenovo IdeaPad S540 11th Gen Intel Core i7 13....    ₹77,990  4.3 out of 5\n",
       "3  Lenovo IdeaPad Gaming 3 Intel Core i7 10th Gen...    ₹73,990  4.3 out of 5\n",
       "4  MSI GF75 Thin, Intel i7-10750H, 17.3\" (43.9 cm...    ₹74,990  4.2 out of 5\n",
       "5  Mi Notebook Horizon Edition 14 Intel Core i7-1...    ₹57,990  4.4 out of 5\n",
       "6  ASUS TUF Dash F15 (2021), 15.6-inch (39.62 cms...    ₹87,990  4.2 out of 5\n",
       "7  Lenovo IdeaPad Flex 5 11th Gen Intel Core i7 1...    ₹86,990  3.5 out of 5\n",
       "8  Fujitsu UH-X 11th Gen Intel Core i7 13.3” (33....  ₹1,07,990  4.1 out of 5\n",
       "9  HP Envy 11th Gen Core i7 Processor 13.3-inch (...  ₹1,23,300    5 out of 5"
      ]
     },
     "execution_count": 329,
     "metadata": {},
     "output_type": "execute_result"
    }
   ],
   "source": [
    "Laptops"
   ]
  },
  {
   "cell_type": "code",
   "execution_count": null,
   "id": "830556e2",
   "metadata": {},
   "outputs": [],
   "source": []
  }
 ],
 "metadata": {
  "kernelspec": {
   "display_name": "Python 3",
   "language": "python",
   "name": "python3"
  },
  "language_info": {
   "codemirror_mode": {
    "name": "ipython",
    "version": 3
   },
   "file_extension": ".py",
   "mimetype": "text/x-python",
   "name": "python",
   "nbconvert_exporter": "python",
   "pygments_lexer": "ipython3",
   "version": "3.8.8"
  }
 },
 "nbformat": 4,
 "nbformat_minor": 5
}
